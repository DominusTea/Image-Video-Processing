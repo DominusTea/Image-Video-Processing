{
  "nbformat": 4,
  "nbformat_minor": 0,
  "metadata": {
    "colab": {
      "name": "Copy of 2η_Ομαδική_Άσκηση.ipynb",
      "provenance": [],
      "collapsed_sections": [],
      "toc_visible": true
    },
    "kernelspec": {
      "name": "python3",
      "display_name": "Python 3"
    },
    "accelerator": "GPU",
    "widgets": {
      "application/vnd.jupyter.widget-state+json": {
        "110465dac7ae466bb81a0c831b469ff2": {
          "model_module": "@jupyter-widgets/controls",
          "model_name": "HBoxModel",
          "state": {
            "_view_name": "HBoxView",
            "_dom_classes": [],
            "_model_name": "HBoxModel",
            "_view_module": "@jupyter-widgets/controls",
            "_model_module_version": "1.5.0",
            "_view_count": null,
            "_view_module_version": "1.5.0",
            "box_style": "",
            "layout": "IPY_MODEL_3e0f0e34679f41ae997afffe6d28baee",
            "_model_module": "@jupyter-widgets/controls",
            "children": [
              "IPY_MODEL_fd2db4ea8fb144bf87957844ff39d5b2",
              "IPY_MODEL_af05ef3af75d46cc8dfbd74585495bb9"
            ]
          }
        },
        "3e0f0e34679f41ae997afffe6d28baee": {
          "model_module": "@jupyter-widgets/base",
          "model_name": "LayoutModel",
          "state": {
            "_view_name": "LayoutView",
            "grid_template_rows": null,
            "right": null,
            "justify_content": null,
            "_view_module": "@jupyter-widgets/base",
            "overflow": null,
            "_model_module_version": "1.2.0",
            "_view_count": null,
            "flex_flow": null,
            "width": null,
            "min_width": null,
            "border": null,
            "align_items": null,
            "bottom": null,
            "_model_module": "@jupyter-widgets/base",
            "top": null,
            "grid_column": null,
            "overflow_y": null,
            "overflow_x": null,
            "grid_auto_flow": null,
            "grid_area": null,
            "grid_template_columns": null,
            "flex": null,
            "_model_name": "LayoutModel",
            "justify_items": null,
            "grid_row": null,
            "max_height": null,
            "align_content": null,
            "visibility": null,
            "align_self": null,
            "height": null,
            "min_height": null,
            "padding": null,
            "grid_auto_rows": null,
            "grid_gap": null,
            "max_width": null,
            "order": null,
            "_view_module_version": "1.2.0",
            "grid_template_areas": null,
            "object_position": null,
            "object_fit": null,
            "grid_auto_columns": null,
            "margin": null,
            "display": null,
            "left": null
          }
        },
        "fd2db4ea8fb144bf87957844ff39d5b2": {
          "model_module": "@jupyter-widgets/controls",
          "model_name": "FloatProgressModel",
          "state": {
            "_view_name": "ProgressView",
            "style": "IPY_MODEL_63be8b87160d460eb66fdf8fc04ff78e",
            "_dom_classes": [],
            "description": "Dl Completed...: 100%",
            "_model_name": "FloatProgressModel",
            "bar_style": "success",
            "max": 1,
            "_view_module": "@jupyter-widgets/controls",
            "_model_module_version": "1.5.0",
            "value": 1,
            "_view_count": null,
            "_view_module_version": "1.5.0",
            "orientation": "horizontal",
            "min": 0,
            "description_tooltip": null,
            "_model_module": "@jupyter-widgets/controls",
            "layout": "IPY_MODEL_f5e37df44a68437482d01964a707eb34"
          }
        },
        "af05ef3af75d46cc8dfbd74585495bb9": {
          "model_module": "@jupyter-widgets/controls",
          "model_name": "HTMLModel",
          "state": {
            "_view_name": "HTMLView",
            "style": "IPY_MODEL_63abd53cdea54f03845b7a28f56fc6ec",
            "_dom_classes": [],
            "description": "",
            "_model_name": "HTMLModel",
            "placeholder": "​",
            "_view_module": "@jupyter-widgets/controls",
            "_model_module_version": "1.5.0",
            "value": " 1/1 [00:06&lt;00:00,  6.04s/ url]",
            "_view_count": null,
            "_view_module_version": "1.5.0",
            "description_tooltip": null,
            "_model_module": "@jupyter-widgets/controls",
            "layout": "IPY_MODEL_4bd5f63825514b8bb90cdecfbccc1ad8"
          }
        },
        "63be8b87160d460eb66fdf8fc04ff78e": {
          "model_module": "@jupyter-widgets/controls",
          "model_name": "ProgressStyleModel",
          "state": {
            "_view_name": "StyleView",
            "_model_name": "ProgressStyleModel",
            "description_width": "initial",
            "_view_module": "@jupyter-widgets/base",
            "_model_module_version": "1.5.0",
            "_view_count": null,
            "_view_module_version": "1.2.0",
            "bar_color": null,
            "_model_module": "@jupyter-widgets/controls"
          }
        },
        "f5e37df44a68437482d01964a707eb34": {
          "model_module": "@jupyter-widgets/base",
          "model_name": "LayoutModel",
          "state": {
            "_view_name": "LayoutView",
            "grid_template_rows": null,
            "right": null,
            "justify_content": null,
            "_view_module": "@jupyter-widgets/base",
            "overflow": null,
            "_model_module_version": "1.2.0",
            "_view_count": null,
            "flex_flow": null,
            "width": null,
            "min_width": null,
            "border": null,
            "align_items": null,
            "bottom": null,
            "_model_module": "@jupyter-widgets/base",
            "top": null,
            "grid_column": null,
            "overflow_y": null,
            "overflow_x": null,
            "grid_auto_flow": null,
            "grid_area": null,
            "grid_template_columns": null,
            "flex": null,
            "_model_name": "LayoutModel",
            "justify_items": null,
            "grid_row": null,
            "max_height": null,
            "align_content": null,
            "visibility": null,
            "align_self": null,
            "height": null,
            "min_height": null,
            "padding": null,
            "grid_auto_rows": null,
            "grid_gap": null,
            "max_width": null,
            "order": null,
            "_view_module_version": "1.2.0",
            "grid_template_areas": null,
            "object_position": null,
            "object_fit": null,
            "grid_auto_columns": null,
            "margin": null,
            "display": null,
            "left": null
          }
        },
        "63abd53cdea54f03845b7a28f56fc6ec": {
          "model_module": "@jupyter-widgets/controls",
          "model_name": "DescriptionStyleModel",
          "state": {
            "_view_name": "StyleView",
            "_model_name": "DescriptionStyleModel",
            "description_width": "",
            "_view_module": "@jupyter-widgets/base",
            "_model_module_version": "1.5.0",
            "_view_count": null,
            "_view_module_version": "1.2.0",
            "_model_module": "@jupyter-widgets/controls"
          }
        },
        "4bd5f63825514b8bb90cdecfbccc1ad8": {
          "model_module": "@jupyter-widgets/base",
          "model_name": "LayoutModel",
          "state": {
            "_view_name": "LayoutView",
            "grid_template_rows": null,
            "right": null,
            "justify_content": null,
            "_view_module": "@jupyter-widgets/base",
            "overflow": null,
            "_model_module_version": "1.2.0",
            "_view_count": null,
            "flex_flow": null,
            "width": null,
            "min_width": null,
            "border": null,
            "align_items": null,
            "bottom": null,
            "_model_module": "@jupyter-widgets/base",
            "top": null,
            "grid_column": null,
            "overflow_y": null,
            "overflow_x": null,
            "grid_auto_flow": null,
            "grid_area": null,
            "grid_template_columns": null,
            "flex": null,
            "_model_name": "LayoutModel",
            "justify_items": null,
            "grid_row": null,
            "max_height": null,
            "align_content": null,
            "visibility": null,
            "align_self": null,
            "height": null,
            "min_height": null,
            "padding": null,
            "grid_auto_rows": null,
            "grid_gap": null,
            "max_width": null,
            "order": null,
            "_view_module_version": "1.2.0",
            "grid_template_areas": null,
            "object_position": null,
            "object_fit": null,
            "grid_auto_columns": null,
            "margin": null,
            "display": null,
            "left": null
          }
        },
        "295c56f4f25447aba13f6a485ae252b8": {
          "model_module": "@jupyter-widgets/controls",
          "model_name": "HBoxModel",
          "state": {
            "_view_name": "HBoxView",
            "_dom_classes": [],
            "_model_name": "HBoxModel",
            "_view_module": "@jupyter-widgets/controls",
            "_model_module_version": "1.5.0",
            "_view_count": null,
            "_view_module_version": "1.5.0",
            "box_style": "",
            "layout": "IPY_MODEL_87949746ce1d408b8aa730d4106fdb9f",
            "_model_module": "@jupyter-widgets/controls",
            "children": [
              "IPY_MODEL_ee6da0dfd44b4c4da67fcd72f2127321",
              "IPY_MODEL_3d9f39b2a7fd4a968bbf810f1da8d228"
            ]
          }
        },
        "87949746ce1d408b8aa730d4106fdb9f": {
          "model_module": "@jupyter-widgets/base",
          "model_name": "LayoutModel",
          "state": {
            "_view_name": "LayoutView",
            "grid_template_rows": null,
            "right": null,
            "justify_content": null,
            "_view_module": "@jupyter-widgets/base",
            "overflow": null,
            "_model_module_version": "1.2.0",
            "_view_count": null,
            "flex_flow": null,
            "width": null,
            "min_width": null,
            "border": null,
            "align_items": null,
            "bottom": null,
            "_model_module": "@jupyter-widgets/base",
            "top": null,
            "grid_column": null,
            "overflow_y": null,
            "overflow_x": null,
            "grid_auto_flow": null,
            "grid_area": null,
            "grid_template_columns": null,
            "flex": null,
            "_model_name": "LayoutModel",
            "justify_items": null,
            "grid_row": null,
            "max_height": null,
            "align_content": null,
            "visibility": null,
            "align_self": null,
            "height": null,
            "min_height": null,
            "padding": null,
            "grid_auto_rows": null,
            "grid_gap": null,
            "max_width": null,
            "order": null,
            "_view_module_version": "1.2.0",
            "grid_template_areas": null,
            "object_position": null,
            "object_fit": null,
            "grid_auto_columns": null,
            "margin": null,
            "display": null,
            "left": null
          }
        },
        "ee6da0dfd44b4c4da67fcd72f2127321": {
          "model_module": "@jupyter-widgets/controls",
          "model_name": "FloatProgressModel",
          "state": {
            "_view_name": "ProgressView",
            "style": "IPY_MODEL_df1d52c584f942f79507f02732e0f788",
            "_dom_classes": [],
            "description": "Dl Size...: 100%",
            "_model_name": "FloatProgressModel",
            "bar_style": "success",
            "max": 1,
            "_view_module": "@jupyter-widgets/controls",
            "_model_module_version": "1.5.0",
            "value": 1,
            "_view_count": null,
            "_view_module_version": "1.5.0",
            "orientation": "horizontal",
            "min": 0,
            "description_tooltip": null,
            "_model_module": "@jupyter-widgets/controls",
            "layout": "IPY_MODEL_98b49626e49b4473a3be716ec957f994"
          }
        },
        "3d9f39b2a7fd4a968bbf810f1da8d228": {
          "model_module": "@jupyter-widgets/controls",
          "model_name": "HTMLModel",
          "state": {
            "_view_name": "HTMLView",
            "style": "IPY_MODEL_c22246ed70d04f6aa7eda805132b83f0",
            "_dom_classes": [],
            "description": "",
            "_model_name": "HTMLModel",
            "placeholder": "​",
            "_view_module": "@jupyter-widgets/controls",
            "_model_module_version": "1.5.0",
            "value": " 160/160 [00:06&lt;00:00, 26.66 MiB/s]",
            "_view_count": null,
            "_view_module_version": "1.5.0",
            "description_tooltip": null,
            "_model_module": "@jupyter-widgets/controls",
            "layout": "IPY_MODEL_4b99cff9d06c441196fb49f6f639d1c8"
          }
        },
        "df1d52c584f942f79507f02732e0f788": {
          "model_module": "@jupyter-widgets/controls",
          "model_name": "ProgressStyleModel",
          "state": {
            "_view_name": "StyleView",
            "_model_name": "ProgressStyleModel",
            "description_width": "initial",
            "_view_module": "@jupyter-widgets/base",
            "_model_module_version": "1.5.0",
            "_view_count": null,
            "_view_module_version": "1.2.0",
            "bar_color": null,
            "_model_module": "@jupyter-widgets/controls"
          }
        },
        "98b49626e49b4473a3be716ec957f994": {
          "model_module": "@jupyter-widgets/base",
          "model_name": "LayoutModel",
          "state": {
            "_view_name": "LayoutView",
            "grid_template_rows": null,
            "right": null,
            "justify_content": null,
            "_view_module": "@jupyter-widgets/base",
            "overflow": null,
            "_model_module_version": "1.2.0",
            "_view_count": null,
            "flex_flow": null,
            "width": null,
            "min_width": null,
            "border": null,
            "align_items": null,
            "bottom": null,
            "_model_module": "@jupyter-widgets/base",
            "top": null,
            "grid_column": null,
            "overflow_y": null,
            "overflow_x": null,
            "grid_auto_flow": null,
            "grid_area": null,
            "grid_template_columns": null,
            "flex": null,
            "_model_name": "LayoutModel",
            "justify_items": null,
            "grid_row": null,
            "max_height": null,
            "align_content": null,
            "visibility": null,
            "align_self": null,
            "height": null,
            "min_height": null,
            "padding": null,
            "grid_auto_rows": null,
            "grid_gap": null,
            "max_width": null,
            "order": null,
            "_view_module_version": "1.2.0",
            "grid_template_areas": null,
            "object_position": null,
            "object_fit": null,
            "grid_auto_columns": null,
            "margin": null,
            "display": null,
            "left": null
          }
        },
        "c22246ed70d04f6aa7eda805132b83f0": {
          "model_module": "@jupyter-widgets/controls",
          "model_name": "DescriptionStyleModel",
          "state": {
            "_view_name": "StyleView",
            "_model_name": "DescriptionStyleModel",
            "description_width": "",
            "_view_module": "@jupyter-widgets/base",
            "_model_module_version": "1.5.0",
            "_view_count": null,
            "_view_module_version": "1.2.0",
            "_model_module": "@jupyter-widgets/controls"
          }
        },
        "4b99cff9d06c441196fb49f6f639d1c8": {
          "model_module": "@jupyter-widgets/base",
          "model_name": "LayoutModel",
          "state": {
            "_view_name": "LayoutView",
            "grid_template_rows": null,
            "right": null,
            "justify_content": null,
            "_view_module": "@jupyter-widgets/base",
            "overflow": null,
            "_model_module_version": "1.2.0",
            "_view_count": null,
            "flex_flow": null,
            "width": null,
            "min_width": null,
            "border": null,
            "align_items": null,
            "bottom": null,
            "_model_module": "@jupyter-widgets/base",
            "top": null,
            "grid_column": null,
            "overflow_y": null,
            "overflow_x": null,
            "grid_auto_flow": null,
            "grid_area": null,
            "grid_template_columns": null,
            "flex": null,
            "_model_name": "LayoutModel",
            "justify_items": null,
            "grid_row": null,
            "max_height": null,
            "align_content": null,
            "visibility": null,
            "align_self": null,
            "height": null,
            "min_height": null,
            "padding": null,
            "grid_auto_rows": null,
            "grid_gap": null,
            "max_width": null,
            "order": null,
            "_view_module_version": "1.2.0",
            "grid_template_areas": null,
            "object_position": null,
            "object_fit": null,
            "grid_auto_columns": null,
            "margin": null,
            "display": null,
            "left": null
          }
        },
        "6a4b70f34bb14aa081c28780f1bf342a": {
          "model_module": "@jupyter-widgets/controls",
          "model_name": "HBoxModel",
          "state": {
            "_view_name": "HBoxView",
            "_dom_classes": [],
            "_model_name": "HBoxModel",
            "_view_module": "@jupyter-widgets/controls",
            "_model_module_version": "1.5.0",
            "_view_count": null,
            "_view_module_version": "1.5.0",
            "box_style": "",
            "layout": "IPY_MODEL_7d64665cf4064c8ab74221df1cae5324",
            "_model_module": "@jupyter-widgets/controls",
            "children": [
              "IPY_MODEL_0a6b9b284ad74bd38a2494b0929d3a42",
              "IPY_MODEL_378fdb90a46141c898841935480fcea6"
            ]
          }
        },
        "7d64665cf4064c8ab74221df1cae5324": {
          "model_module": "@jupyter-widgets/base",
          "model_name": "LayoutModel",
          "state": {
            "_view_name": "LayoutView",
            "grid_template_rows": null,
            "right": null,
            "justify_content": null,
            "_view_module": "@jupyter-widgets/base",
            "overflow": null,
            "_model_module_version": "1.2.0",
            "_view_count": null,
            "flex_flow": null,
            "width": null,
            "min_width": null,
            "border": null,
            "align_items": null,
            "bottom": null,
            "_model_module": "@jupyter-widgets/base",
            "top": null,
            "grid_column": null,
            "overflow_y": null,
            "overflow_x": null,
            "grid_auto_flow": null,
            "grid_area": null,
            "grid_template_columns": null,
            "flex": null,
            "_model_name": "LayoutModel",
            "justify_items": null,
            "grid_row": null,
            "max_height": null,
            "align_content": null,
            "visibility": null,
            "align_self": null,
            "height": null,
            "min_height": null,
            "padding": null,
            "grid_auto_rows": null,
            "grid_gap": null,
            "max_width": null,
            "order": null,
            "_view_module_version": "1.2.0",
            "grid_template_areas": null,
            "object_position": null,
            "object_fit": null,
            "grid_auto_columns": null,
            "margin": null,
            "display": null,
            "left": null
          }
        },
        "0a6b9b284ad74bd38a2494b0929d3a42": {
          "model_module": "@jupyter-widgets/controls",
          "model_name": "FloatProgressModel",
          "state": {
            "_view_name": "ProgressView",
            "style": "IPY_MODEL_1c652e41381b44b2be2a1c0461454d85",
            "_dom_classes": [],
            "description": "Extraction completed...: 100%",
            "_model_name": "FloatProgressModel",
            "bar_style": "success",
            "max": 1,
            "_view_module": "@jupyter-widgets/controls",
            "_model_module_version": "1.5.0",
            "value": 1,
            "_view_count": null,
            "_view_module_version": "1.5.0",
            "orientation": "horizontal",
            "min": 0,
            "description_tooltip": null,
            "_model_module": "@jupyter-widgets/controls",
            "layout": "IPY_MODEL_84af99dadeeb4b88b78f6f0af84deab9"
          }
        },
        "378fdb90a46141c898841935480fcea6": {
          "model_module": "@jupyter-widgets/controls",
          "model_name": "HTMLModel",
          "state": {
            "_view_name": "HTMLView",
            "style": "IPY_MODEL_8c7226ac482c4fd09ce1cb798ed1a029",
            "_dom_classes": [],
            "description": "",
            "_model_name": "HTMLModel",
            "placeholder": "​",
            "_view_module": "@jupyter-widgets/controls",
            "_model_module_version": "1.5.0",
            "value": " 1/1 [00:05&lt;00:00,  5.96s/ file]",
            "_view_count": null,
            "_view_module_version": "1.5.0",
            "description_tooltip": null,
            "_model_module": "@jupyter-widgets/controls",
            "layout": "IPY_MODEL_0d68099fd0bf477aa5aa81b5961385b7"
          }
        },
        "1c652e41381b44b2be2a1c0461454d85": {
          "model_module": "@jupyter-widgets/controls",
          "model_name": "ProgressStyleModel",
          "state": {
            "_view_name": "StyleView",
            "_model_name": "ProgressStyleModel",
            "description_width": "initial",
            "_view_module": "@jupyter-widgets/base",
            "_model_module_version": "1.5.0",
            "_view_count": null,
            "_view_module_version": "1.2.0",
            "bar_color": null,
            "_model_module": "@jupyter-widgets/controls"
          }
        },
        "84af99dadeeb4b88b78f6f0af84deab9": {
          "model_module": "@jupyter-widgets/base",
          "model_name": "LayoutModel",
          "state": {
            "_view_name": "LayoutView",
            "grid_template_rows": null,
            "right": null,
            "justify_content": null,
            "_view_module": "@jupyter-widgets/base",
            "overflow": null,
            "_model_module_version": "1.2.0",
            "_view_count": null,
            "flex_flow": null,
            "width": null,
            "min_width": null,
            "border": null,
            "align_items": null,
            "bottom": null,
            "_model_module": "@jupyter-widgets/base",
            "top": null,
            "grid_column": null,
            "overflow_y": null,
            "overflow_x": null,
            "grid_auto_flow": null,
            "grid_area": null,
            "grid_template_columns": null,
            "flex": null,
            "_model_name": "LayoutModel",
            "justify_items": null,
            "grid_row": null,
            "max_height": null,
            "align_content": null,
            "visibility": null,
            "align_self": null,
            "height": null,
            "min_height": null,
            "padding": null,
            "grid_auto_rows": null,
            "grid_gap": null,
            "max_width": null,
            "order": null,
            "_view_module_version": "1.2.0",
            "grid_template_areas": null,
            "object_position": null,
            "object_fit": null,
            "grid_auto_columns": null,
            "margin": null,
            "display": null,
            "left": null
          }
        },
        "8c7226ac482c4fd09ce1cb798ed1a029": {
          "model_module": "@jupyter-widgets/controls",
          "model_name": "DescriptionStyleModel",
          "state": {
            "_view_name": "StyleView",
            "_model_name": "DescriptionStyleModel",
            "description_width": "",
            "_view_module": "@jupyter-widgets/base",
            "_model_module_version": "1.5.0",
            "_view_count": null,
            "_view_module_version": "1.2.0",
            "_model_module": "@jupyter-widgets/controls"
          }
        },
        "0d68099fd0bf477aa5aa81b5961385b7": {
          "model_module": "@jupyter-widgets/base",
          "model_name": "LayoutModel",
          "state": {
            "_view_name": "LayoutView",
            "grid_template_rows": null,
            "right": null,
            "justify_content": null,
            "_view_module": "@jupyter-widgets/base",
            "overflow": null,
            "_model_module_version": "1.2.0",
            "_view_count": null,
            "flex_flow": null,
            "width": null,
            "min_width": null,
            "border": null,
            "align_items": null,
            "bottom": null,
            "_model_module": "@jupyter-widgets/base",
            "top": null,
            "grid_column": null,
            "overflow_y": null,
            "overflow_x": null,
            "grid_auto_flow": null,
            "grid_area": null,
            "grid_template_columns": null,
            "flex": null,
            "_model_name": "LayoutModel",
            "justify_items": null,
            "grid_row": null,
            "max_height": null,
            "align_content": null,
            "visibility": null,
            "align_self": null,
            "height": null,
            "min_height": null,
            "padding": null,
            "grid_auto_rows": null,
            "grid_gap": null,
            "max_width": null,
            "order": null,
            "_view_module_version": "1.2.0",
            "grid_template_areas": null,
            "object_position": null,
            "object_fit": null,
            "grid_auto_columns": null,
            "margin": null,
            "display": null,
            "left": null
          }
        },
        "f5dd1b3d3b0b4a57af0ff7b93b3292c3": {
          "model_module": "@jupyter-widgets/controls",
          "model_name": "HBoxModel",
          "state": {
            "_view_name": "HBoxView",
            "_dom_classes": [],
            "_model_name": "HBoxModel",
            "_view_module": "@jupyter-widgets/controls",
            "_model_module_version": "1.5.0",
            "_view_count": null,
            "_view_module_version": "1.5.0",
            "box_style": "",
            "layout": "IPY_MODEL_e41f9b4f1c28423da831191db05e5840",
            "_model_module": "@jupyter-widgets/controls",
            "children": [
              "IPY_MODEL_802b85eb95bf492a87d2d7372fedafed",
              "IPY_MODEL_e753c60a2a874e2ab15bd01619c71ba0"
            ]
          }
        },
        "e41f9b4f1c28423da831191db05e5840": {
          "model_module": "@jupyter-widgets/base",
          "model_name": "LayoutModel",
          "state": {
            "_view_name": "LayoutView",
            "grid_template_rows": null,
            "right": null,
            "justify_content": null,
            "_view_module": "@jupyter-widgets/base",
            "overflow": null,
            "_model_module_version": "1.2.0",
            "_view_count": null,
            "flex_flow": null,
            "width": null,
            "min_width": null,
            "border": null,
            "align_items": null,
            "bottom": null,
            "_model_module": "@jupyter-widgets/base",
            "top": null,
            "grid_column": null,
            "overflow_y": null,
            "overflow_x": null,
            "grid_auto_flow": null,
            "grid_area": null,
            "grid_template_columns": null,
            "flex": null,
            "_model_name": "LayoutModel",
            "justify_items": null,
            "grid_row": null,
            "max_height": null,
            "align_content": null,
            "visibility": null,
            "align_self": null,
            "height": null,
            "min_height": null,
            "padding": null,
            "grid_auto_rows": null,
            "grid_gap": null,
            "max_width": null,
            "order": null,
            "_view_module_version": "1.2.0",
            "grid_template_areas": null,
            "object_position": null,
            "object_fit": null,
            "grid_auto_columns": null,
            "margin": null,
            "display": null,
            "left": null
          }
        },
        "802b85eb95bf492a87d2d7372fedafed": {
          "model_module": "@jupyter-widgets/controls",
          "model_name": "FloatProgressModel",
          "state": {
            "_view_name": "ProgressView",
            "style": "IPY_MODEL_3bb63307d8224e14a566d0ecdc31fcd3",
            "_dom_classes": [],
            "description": "",
            "_model_name": "FloatProgressModel",
            "bar_style": "info",
            "max": 1,
            "_view_module": "@jupyter-widgets/controls",
            "_model_module_version": "1.5.0",
            "value": 1,
            "_view_count": null,
            "_view_module_version": "1.5.0",
            "orientation": "horizontal",
            "min": 0,
            "description_tooltip": null,
            "_model_module": "@jupyter-widgets/controls",
            "layout": "IPY_MODEL_3da4bec0c59d469986d3116e8a5ac80e"
          }
        },
        "e753c60a2a874e2ab15bd01619c71ba0": {
          "model_module": "@jupyter-widgets/controls",
          "model_name": "HTMLModel",
          "state": {
            "_view_name": "HTMLView",
            "style": "IPY_MODEL_83d5fa33464842d9b4a7cab85436cce4",
            "_dom_classes": [],
            "description": "",
            "_model_name": "HTMLModel",
            "placeholder": "​",
            "_view_module": "@jupyter-widgets/controls",
            "_model_module_version": "1.5.0",
            "value": " 50000/0 [00:45&lt;00:00, 1318.61 examples/s]",
            "_view_count": null,
            "_view_module_version": "1.5.0",
            "description_tooltip": null,
            "_model_module": "@jupyter-widgets/controls",
            "layout": "IPY_MODEL_480c1640759d475c8a0296fbef4fd905"
          }
        },
        "3bb63307d8224e14a566d0ecdc31fcd3": {
          "model_module": "@jupyter-widgets/controls",
          "model_name": "ProgressStyleModel",
          "state": {
            "_view_name": "StyleView",
            "_model_name": "ProgressStyleModel",
            "description_width": "initial",
            "_view_module": "@jupyter-widgets/base",
            "_model_module_version": "1.5.0",
            "_view_count": null,
            "_view_module_version": "1.2.0",
            "bar_color": null,
            "_model_module": "@jupyter-widgets/controls"
          }
        },
        "3da4bec0c59d469986d3116e8a5ac80e": {
          "model_module": "@jupyter-widgets/base",
          "model_name": "LayoutModel",
          "state": {
            "_view_name": "LayoutView",
            "grid_template_rows": null,
            "right": null,
            "justify_content": null,
            "_view_module": "@jupyter-widgets/base",
            "overflow": null,
            "_model_module_version": "1.2.0",
            "_view_count": null,
            "flex_flow": null,
            "width": null,
            "min_width": null,
            "border": null,
            "align_items": null,
            "bottom": null,
            "_model_module": "@jupyter-widgets/base",
            "top": null,
            "grid_column": null,
            "overflow_y": null,
            "overflow_x": null,
            "grid_auto_flow": null,
            "grid_area": null,
            "grid_template_columns": null,
            "flex": null,
            "_model_name": "LayoutModel",
            "justify_items": null,
            "grid_row": null,
            "max_height": null,
            "align_content": null,
            "visibility": null,
            "align_self": null,
            "height": null,
            "min_height": null,
            "padding": null,
            "grid_auto_rows": null,
            "grid_gap": null,
            "max_width": null,
            "order": null,
            "_view_module_version": "1.2.0",
            "grid_template_areas": null,
            "object_position": null,
            "object_fit": null,
            "grid_auto_columns": null,
            "margin": null,
            "display": null,
            "left": null
          }
        },
        "83d5fa33464842d9b4a7cab85436cce4": {
          "model_module": "@jupyter-widgets/controls",
          "model_name": "DescriptionStyleModel",
          "state": {
            "_view_name": "StyleView",
            "_model_name": "DescriptionStyleModel",
            "description_width": "",
            "_view_module": "@jupyter-widgets/base",
            "_model_module_version": "1.5.0",
            "_view_count": null,
            "_view_module_version": "1.2.0",
            "_model_module": "@jupyter-widgets/controls"
          }
        },
        "480c1640759d475c8a0296fbef4fd905": {
          "model_module": "@jupyter-widgets/base",
          "model_name": "LayoutModel",
          "state": {
            "_view_name": "LayoutView",
            "grid_template_rows": null,
            "right": null,
            "justify_content": null,
            "_view_module": "@jupyter-widgets/base",
            "overflow": null,
            "_model_module_version": "1.2.0",
            "_view_count": null,
            "flex_flow": null,
            "width": null,
            "min_width": null,
            "border": null,
            "align_items": null,
            "bottom": null,
            "_model_module": "@jupyter-widgets/base",
            "top": null,
            "grid_column": null,
            "overflow_y": null,
            "overflow_x": null,
            "grid_auto_flow": null,
            "grid_area": null,
            "grid_template_columns": null,
            "flex": null,
            "_model_name": "LayoutModel",
            "justify_items": null,
            "grid_row": null,
            "max_height": null,
            "align_content": null,
            "visibility": null,
            "align_self": null,
            "height": null,
            "min_height": null,
            "padding": null,
            "grid_auto_rows": null,
            "grid_gap": null,
            "max_width": null,
            "order": null,
            "_view_module_version": "1.2.0",
            "grid_template_areas": null,
            "object_position": null,
            "object_fit": null,
            "grid_auto_columns": null,
            "margin": null,
            "display": null,
            "left": null
          }
        },
        "5aa7d7292df94a9daf99dc95ad42e01e": {
          "model_module": "@jupyter-widgets/controls",
          "model_name": "HBoxModel",
          "state": {
            "_view_name": "HBoxView",
            "_dom_classes": [],
            "_model_name": "HBoxModel",
            "_view_module": "@jupyter-widgets/controls",
            "_model_module_version": "1.5.0",
            "_view_count": null,
            "_view_module_version": "1.5.0",
            "box_style": "",
            "layout": "IPY_MODEL_9024ccedc65d4d75a0dd119fd377b1ed",
            "_model_module": "@jupyter-widgets/controls",
            "children": [
              "IPY_MODEL_380a75b13d9649348c20b1e609049b77",
              "IPY_MODEL_609933980d8e4acc84878769a9972ae4"
            ]
          }
        },
        "9024ccedc65d4d75a0dd119fd377b1ed": {
          "model_module": "@jupyter-widgets/base",
          "model_name": "LayoutModel",
          "state": {
            "_view_name": "LayoutView",
            "grid_template_rows": null,
            "right": null,
            "justify_content": null,
            "_view_module": "@jupyter-widgets/base",
            "overflow": null,
            "_model_module_version": "1.2.0",
            "_view_count": null,
            "flex_flow": null,
            "width": null,
            "min_width": null,
            "border": null,
            "align_items": null,
            "bottom": null,
            "_model_module": "@jupyter-widgets/base",
            "top": null,
            "grid_column": null,
            "overflow_y": null,
            "overflow_x": null,
            "grid_auto_flow": null,
            "grid_area": null,
            "grid_template_columns": null,
            "flex": null,
            "_model_name": "LayoutModel",
            "justify_items": null,
            "grid_row": null,
            "max_height": null,
            "align_content": null,
            "visibility": null,
            "align_self": null,
            "height": null,
            "min_height": null,
            "padding": null,
            "grid_auto_rows": null,
            "grid_gap": null,
            "max_width": null,
            "order": null,
            "_view_module_version": "1.2.0",
            "grid_template_areas": null,
            "object_position": null,
            "object_fit": null,
            "grid_auto_columns": null,
            "margin": null,
            "display": null,
            "left": null
          }
        },
        "380a75b13d9649348c20b1e609049b77": {
          "model_module": "@jupyter-widgets/controls",
          "model_name": "FloatProgressModel",
          "state": {
            "_view_name": "ProgressView",
            "style": "IPY_MODEL_81faf9e00e3140998ca4e50ca054f7eb",
            "_dom_classes": [],
            "description": " 90%",
            "_model_name": "FloatProgressModel",
            "bar_style": "danger",
            "max": 50000,
            "_view_module": "@jupyter-widgets/controls",
            "_model_module_version": "1.5.0",
            "value": 44879,
            "_view_count": null,
            "_view_module_version": "1.5.0",
            "orientation": "horizontal",
            "min": 0,
            "description_tooltip": null,
            "_model_module": "@jupyter-widgets/controls",
            "layout": "IPY_MODEL_0c5db22b18f8485596e6fa5b18b5ba4b"
          }
        },
        "609933980d8e4acc84878769a9972ae4": {
          "model_module": "@jupyter-widgets/controls",
          "model_name": "HTMLModel",
          "state": {
            "_view_name": "HTMLView",
            "style": "IPY_MODEL_74c505a8eae64361ad45e2c9fd4b1395",
            "_dom_classes": [],
            "description": "",
            "_model_name": "HTMLModel",
            "placeholder": "​",
            "_view_module": "@jupyter-widgets/controls",
            "_model_module_version": "1.5.0",
            "value": " 44879/50000 [00:00&lt;00:00, 43772.13 examples/s]",
            "_view_count": null,
            "_view_module_version": "1.5.0",
            "description_tooltip": null,
            "_model_module": "@jupyter-widgets/controls",
            "layout": "IPY_MODEL_e1d8a80a3aca4c31bdaec295b1bf9c80"
          }
        },
        "81faf9e00e3140998ca4e50ca054f7eb": {
          "model_module": "@jupyter-widgets/controls",
          "model_name": "ProgressStyleModel",
          "state": {
            "_view_name": "StyleView",
            "_model_name": "ProgressStyleModel",
            "description_width": "initial",
            "_view_module": "@jupyter-widgets/base",
            "_model_module_version": "1.5.0",
            "_view_count": null,
            "_view_module_version": "1.2.0",
            "bar_color": null,
            "_model_module": "@jupyter-widgets/controls"
          }
        },
        "0c5db22b18f8485596e6fa5b18b5ba4b": {
          "model_module": "@jupyter-widgets/base",
          "model_name": "LayoutModel",
          "state": {
            "_view_name": "LayoutView",
            "grid_template_rows": null,
            "right": null,
            "justify_content": null,
            "_view_module": "@jupyter-widgets/base",
            "overflow": null,
            "_model_module_version": "1.2.0",
            "_view_count": null,
            "flex_flow": null,
            "width": null,
            "min_width": null,
            "border": null,
            "align_items": null,
            "bottom": null,
            "_model_module": "@jupyter-widgets/base",
            "top": null,
            "grid_column": null,
            "overflow_y": null,
            "overflow_x": null,
            "grid_auto_flow": null,
            "grid_area": null,
            "grid_template_columns": null,
            "flex": null,
            "_model_name": "LayoutModel",
            "justify_items": null,
            "grid_row": null,
            "max_height": null,
            "align_content": null,
            "visibility": null,
            "align_self": null,
            "height": null,
            "min_height": null,
            "padding": null,
            "grid_auto_rows": null,
            "grid_gap": null,
            "max_width": null,
            "order": null,
            "_view_module_version": "1.2.0",
            "grid_template_areas": null,
            "object_position": null,
            "object_fit": null,
            "grid_auto_columns": null,
            "margin": null,
            "display": null,
            "left": null
          }
        },
        "74c505a8eae64361ad45e2c9fd4b1395": {
          "model_module": "@jupyter-widgets/controls",
          "model_name": "DescriptionStyleModel",
          "state": {
            "_view_name": "StyleView",
            "_model_name": "DescriptionStyleModel",
            "description_width": "",
            "_view_module": "@jupyter-widgets/base",
            "_model_module_version": "1.5.0",
            "_view_count": null,
            "_view_module_version": "1.2.0",
            "_model_module": "@jupyter-widgets/controls"
          }
        },
        "e1d8a80a3aca4c31bdaec295b1bf9c80": {
          "model_module": "@jupyter-widgets/base",
          "model_name": "LayoutModel",
          "state": {
            "_view_name": "LayoutView",
            "grid_template_rows": null,
            "right": null,
            "justify_content": null,
            "_view_module": "@jupyter-widgets/base",
            "overflow": null,
            "_model_module_version": "1.2.0",
            "_view_count": null,
            "flex_flow": null,
            "width": null,
            "min_width": null,
            "border": null,
            "align_items": null,
            "bottom": null,
            "_model_module": "@jupyter-widgets/base",
            "top": null,
            "grid_column": null,
            "overflow_y": null,
            "overflow_x": null,
            "grid_auto_flow": null,
            "grid_area": null,
            "grid_template_columns": null,
            "flex": null,
            "_model_name": "LayoutModel",
            "justify_items": null,
            "grid_row": null,
            "max_height": null,
            "align_content": null,
            "visibility": null,
            "align_self": null,
            "height": null,
            "min_height": null,
            "padding": null,
            "grid_auto_rows": null,
            "grid_gap": null,
            "max_width": null,
            "order": null,
            "_view_module_version": "1.2.0",
            "grid_template_areas": null,
            "object_position": null,
            "object_fit": null,
            "grid_auto_columns": null,
            "margin": null,
            "display": null,
            "left": null
          }
        },
        "f54136a6b87d40788ca74b6ce15199d9": {
          "model_module": "@jupyter-widgets/controls",
          "model_name": "HBoxModel",
          "state": {
            "_view_name": "HBoxView",
            "_dom_classes": [],
            "_model_name": "HBoxModel",
            "_view_module": "@jupyter-widgets/controls",
            "_model_module_version": "1.5.0",
            "_view_count": null,
            "_view_module_version": "1.5.0",
            "box_style": "",
            "layout": "IPY_MODEL_ad059a1d155d4cb0a3d9dceed51ce2a8",
            "_model_module": "@jupyter-widgets/controls",
            "children": [
              "IPY_MODEL_44e37fce914f4aa3b5800f43c307f6fc",
              "IPY_MODEL_74e5eb47641542b2b34ed9286aaeb2e9"
            ]
          }
        },
        "ad059a1d155d4cb0a3d9dceed51ce2a8": {
          "model_module": "@jupyter-widgets/base",
          "model_name": "LayoutModel",
          "state": {
            "_view_name": "LayoutView",
            "grid_template_rows": null,
            "right": null,
            "justify_content": null,
            "_view_module": "@jupyter-widgets/base",
            "overflow": null,
            "_model_module_version": "1.2.0",
            "_view_count": null,
            "flex_flow": null,
            "width": null,
            "min_width": null,
            "border": null,
            "align_items": null,
            "bottom": null,
            "_model_module": "@jupyter-widgets/base",
            "top": null,
            "grid_column": null,
            "overflow_y": null,
            "overflow_x": null,
            "grid_auto_flow": null,
            "grid_area": null,
            "grid_template_columns": null,
            "flex": null,
            "_model_name": "LayoutModel",
            "justify_items": null,
            "grid_row": null,
            "max_height": null,
            "align_content": null,
            "visibility": null,
            "align_self": null,
            "height": null,
            "min_height": null,
            "padding": null,
            "grid_auto_rows": null,
            "grid_gap": null,
            "max_width": null,
            "order": null,
            "_view_module_version": "1.2.0",
            "grid_template_areas": null,
            "object_position": null,
            "object_fit": null,
            "grid_auto_columns": null,
            "margin": null,
            "display": null,
            "left": null
          }
        },
        "44e37fce914f4aa3b5800f43c307f6fc": {
          "model_module": "@jupyter-widgets/controls",
          "model_name": "FloatProgressModel",
          "state": {
            "_view_name": "ProgressView",
            "style": "IPY_MODEL_749854b6a2ba45a28e9483d00146c4f2",
            "_dom_classes": [],
            "description": "",
            "_model_name": "FloatProgressModel",
            "bar_style": "info",
            "max": 1,
            "_view_module": "@jupyter-widgets/controls",
            "_model_module_version": "1.5.0",
            "value": 1,
            "_view_count": null,
            "_view_module_version": "1.5.0",
            "orientation": "horizontal",
            "min": 0,
            "description_tooltip": null,
            "_model_module": "@jupyter-widgets/controls",
            "layout": "IPY_MODEL_d9487917313f4e3087c6c4ddedfd3608"
          }
        },
        "74e5eb47641542b2b34ed9286aaeb2e9": {
          "model_module": "@jupyter-widgets/controls",
          "model_name": "HTMLModel",
          "state": {
            "_view_name": "HTMLView",
            "style": "IPY_MODEL_92b3aa2e570d4a308b1141f65245e0ca",
            "_dom_classes": [],
            "description": "",
            "_model_name": "HTMLModel",
            "placeholder": "​",
            "_view_module": "@jupyter-widgets/controls",
            "_model_module_version": "1.5.0",
            "value": " 10000/0 [00:07&lt;00:00, 1311.89 examples/s]",
            "_view_count": null,
            "_view_module_version": "1.5.0",
            "description_tooltip": null,
            "_model_module": "@jupyter-widgets/controls",
            "layout": "IPY_MODEL_eda7477999d04e2188dbedb748a36289"
          }
        },
        "749854b6a2ba45a28e9483d00146c4f2": {
          "model_module": "@jupyter-widgets/controls",
          "model_name": "ProgressStyleModel",
          "state": {
            "_view_name": "StyleView",
            "_model_name": "ProgressStyleModel",
            "description_width": "initial",
            "_view_module": "@jupyter-widgets/base",
            "_model_module_version": "1.5.0",
            "_view_count": null,
            "_view_module_version": "1.2.0",
            "bar_color": null,
            "_model_module": "@jupyter-widgets/controls"
          }
        },
        "d9487917313f4e3087c6c4ddedfd3608": {
          "model_module": "@jupyter-widgets/base",
          "model_name": "LayoutModel",
          "state": {
            "_view_name": "LayoutView",
            "grid_template_rows": null,
            "right": null,
            "justify_content": null,
            "_view_module": "@jupyter-widgets/base",
            "overflow": null,
            "_model_module_version": "1.2.0",
            "_view_count": null,
            "flex_flow": null,
            "width": null,
            "min_width": null,
            "border": null,
            "align_items": null,
            "bottom": null,
            "_model_module": "@jupyter-widgets/base",
            "top": null,
            "grid_column": null,
            "overflow_y": null,
            "overflow_x": null,
            "grid_auto_flow": null,
            "grid_area": null,
            "grid_template_columns": null,
            "flex": null,
            "_model_name": "LayoutModel",
            "justify_items": null,
            "grid_row": null,
            "max_height": null,
            "align_content": null,
            "visibility": null,
            "align_self": null,
            "height": null,
            "min_height": null,
            "padding": null,
            "grid_auto_rows": null,
            "grid_gap": null,
            "max_width": null,
            "order": null,
            "_view_module_version": "1.2.0",
            "grid_template_areas": null,
            "object_position": null,
            "object_fit": null,
            "grid_auto_columns": null,
            "margin": null,
            "display": null,
            "left": null
          }
        },
        "92b3aa2e570d4a308b1141f65245e0ca": {
          "model_module": "@jupyter-widgets/controls",
          "model_name": "DescriptionStyleModel",
          "state": {
            "_view_name": "StyleView",
            "_model_name": "DescriptionStyleModel",
            "description_width": "",
            "_view_module": "@jupyter-widgets/base",
            "_model_module_version": "1.5.0",
            "_view_count": null,
            "_view_module_version": "1.2.0",
            "_model_module": "@jupyter-widgets/controls"
          }
        },
        "eda7477999d04e2188dbedb748a36289": {
          "model_module": "@jupyter-widgets/base",
          "model_name": "LayoutModel",
          "state": {
            "_view_name": "LayoutView",
            "grid_template_rows": null,
            "right": null,
            "justify_content": null,
            "_view_module": "@jupyter-widgets/base",
            "overflow": null,
            "_model_module_version": "1.2.0",
            "_view_count": null,
            "flex_flow": null,
            "width": null,
            "min_width": null,
            "border": null,
            "align_items": null,
            "bottom": null,
            "_model_module": "@jupyter-widgets/base",
            "top": null,
            "grid_column": null,
            "overflow_y": null,
            "overflow_x": null,
            "grid_auto_flow": null,
            "grid_area": null,
            "grid_template_columns": null,
            "flex": null,
            "_model_name": "LayoutModel",
            "justify_items": null,
            "grid_row": null,
            "max_height": null,
            "align_content": null,
            "visibility": null,
            "align_self": null,
            "height": null,
            "min_height": null,
            "padding": null,
            "grid_auto_rows": null,
            "grid_gap": null,
            "max_width": null,
            "order": null,
            "_view_module_version": "1.2.0",
            "grid_template_areas": null,
            "object_position": null,
            "object_fit": null,
            "grid_auto_columns": null,
            "margin": null,
            "display": null,
            "left": null
          }
        },
        "e6f756afa4164611ada3027fe6e5e71a": {
          "model_module": "@jupyter-widgets/controls",
          "model_name": "HBoxModel",
          "state": {
            "_view_name": "HBoxView",
            "_dom_classes": [],
            "_model_name": "HBoxModel",
            "_view_module": "@jupyter-widgets/controls",
            "_model_module_version": "1.5.0",
            "_view_count": null,
            "_view_module_version": "1.5.0",
            "box_style": "",
            "layout": "IPY_MODEL_a75454655347454a883ba33f33253c36",
            "_model_module": "@jupyter-widgets/controls",
            "children": [
              "IPY_MODEL_04c1a9ecebd1440fbf1da6e25dfefaa8",
              "IPY_MODEL_d3d600c4b0c2453899c1c56c4f9292b9"
            ]
          }
        },
        "a75454655347454a883ba33f33253c36": {
          "model_module": "@jupyter-widgets/base",
          "model_name": "LayoutModel",
          "state": {
            "_view_name": "LayoutView",
            "grid_template_rows": null,
            "right": null,
            "justify_content": null,
            "_view_module": "@jupyter-widgets/base",
            "overflow": null,
            "_model_module_version": "1.2.0",
            "_view_count": null,
            "flex_flow": null,
            "width": null,
            "min_width": null,
            "border": null,
            "align_items": null,
            "bottom": null,
            "_model_module": "@jupyter-widgets/base",
            "top": null,
            "grid_column": null,
            "overflow_y": null,
            "overflow_x": null,
            "grid_auto_flow": null,
            "grid_area": null,
            "grid_template_columns": null,
            "flex": null,
            "_model_name": "LayoutModel",
            "justify_items": null,
            "grid_row": null,
            "max_height": null,
            "align_content": null,
            "visibility": null,
            "align_self": null,
            "height": null,
            "min_height": null,
            "padding": null,
            "grid_auto_rows": null,
            "grid_gap": null,
            "max_width": null,
            "order": null,
            "_view_module_version": "1.2.0",
            "grid_template_areas": null,
            "object_position": null,
            "object_fit": null,
            "grid_auto_columns": null,
            "margin": null,
            "display": null,
            "left": null
          }
        },
        "04c1a9ecebd1440fbf1da6e25dfefaa8": {
          "model_module": "@jupyter-widgets/controls",
          "model_name": "FloatProgressModel",
          "state": {
            "_view_name": "ProgressView",
            "style": "IPY_MODEL_9bba202f099747e4b17c155827ad9bce",
            "_dom_classes": [],
            "description": " 84%",
            "_model_name": "FloatProgressModel",
            "bar_style": "danger",
            "max": 10000,
            "_view_module": "@jupyter-widgets/controls",
            "_model_module_version": "1.5.0",
            "value": 8449,
            "_view_count": null,
            "_view_module_version": "1.5.0",
            "orientation": "horizontal",
            "min": 0,
            "description_tooltip": null,
            "_model_module": "@jupyter-widgets/controls",
            "layout": "IPY_MODEL_1928058a96894861a7c129edc46d5685"
          }
        },
        "d3d600c4b0c2453899c1c56c4f9292b9": {
          "model_module": "@jupyter-widgets/controls",
          "model_name": "HTMLModel",
          "state": {
            "_view_name": "HTMLView",
            "style": "IPY_MODEL_d589801137d945908d35ffc8a21e266d",
            "_dom_classes": [],
            "description": "",
            "_model_name": "HTMLModel",
            "placeholder": "​",
            "_view_module": "@jupyter-widgets/controls",
            "_model_module_version": "1.5.0",
            "value": " 8449/10000 [00:00&lt;00:00, 84488.87 examples/s]",
            "_view_count": null,
            "_view_module_version": "1.5.0",
            "description_tooltip": null,
            "_model_module": "@jupyter-widgets/controls",
            "layout": "IPY_MODEL_76b46519422c4142b49d6f3d3f639d4a"
          }
        },
        "9bba202f099747e4b17c155827ad9bce": {
          "model_module": "@jupyter-widgets/controls",
          "model_name": "ProgressStyleModel",
          "state": {
            "_view_name": "StyleView",
            "_model_name": "ProgressStyleModel",
            "description_width": "initial",
            "_view_module": "@jupyter-widgets/base",
            "_model_module_version": "1.5.0",
            "_view_count": null,
            "_view_module_version": "1.2.0",
            "bar_color": null,
            "_model_module": "@jupyter-widgets/controls"
          }
        },
        "1928058a96894861a7c129edc46d5685": {
          "model_module": "@jupyter-widgets/base",
          "model_name": "LayoutModel",
          "state": {
            "_view_name": "LayoutView",
            "grid_template_rows": null,
            "right": null,
            "justify_content": null,
            "_view_module": "@jupyter-widgets/base",
            "overflow": null,
            "_model_module_version": "1.2.0",
            "_view_count": null,
            "flex_flow": null,
            "width": null,
            "min_width": null,
            "border": null,
            "align_items": null,
            "bottom": null,
            "_model_module": "@jupyter-widgets/base",
            "top": null,
            "grid_column": null,
            "overflow_y": null,
            "overflow_x": null,
            "grid_auto_flow": null,
            "grid_area": null,
            "grid_template_columns": null,
            "flex": null,
            "_model_name": "LayoutModel",
            "justify_items": null,
            "grid_row": null,
            "max_height": null,
            "align_content": null,
            "visibility": null,
            "align_self": null,
            "height": null,
            "min_height": null,
            "padding": null,
            "grid_auto_rows": null,
            "grid_gap": null,
            "max_width": null,
            "order": null,
            "_view_module_version": "1.2.0",
            "grid_template_areas": null,
            "object_position": null,
            "object_fit": null,
            "grid_auto_columns": null,
            "margin": null,
            "display": null,
            "left": null
          }
        },
        "d589801137d945908d35ffc8a21e266d": {
          "model_module": "@jupyter-widgets/controls",
          "model_name": "DescriptionStyleModel",
          "state": {
            "_view_name": "StyleView",
            "_model_name": "DescriptionStyleModel",
            "description_width": "",
            "_view_module": "@jupyter-widgets/base",
            "_model_module_version": "1.5.0",
            "_view_count": null,
            "_view_module_version": "1.2.0",
            "_model_module": "@jupyter-widgets/controls"
          }
        },
        "76b46519422c4142b49d6f3d3f639d4a": {
          "model_module": "@jupyter-widgets/base",
          "model_name": "LayoutModel",
          "state": {
            "_view_name": "LayoutView",
            "grid_template_rows": null,
            "right": null,
            "justify_content": null,
            "_view_module": "@jupyter-widgets/base",
            "overflow": null,
            "_model_module_version": "1.2.0",
            "_view_count": null,
            "flex_flow": null,
            "width": null,
            "min_width": null,
            "border": null,
            "align_items": null,
            "bottom": null,
            "_model_module": "@jupyter-widgets/base",
            "top": null,
            "grid_column": null,
            "overflow_y": null,
            "overflow_x": null,
            "grid_auto_flow": null,
            "grid_area": null,
            "grid_template_columns": null,
            "flex": null,
            "_model_name": "LayoutModel",
            "justify_items": null,
            "grid_row": null,
            "max_height": null,
            "align_content": null,
            "visibility": null,
            "align_self": null,
            "height": null,
            "min_height": null,
            "padding": null,
            "grid_auto_rows": null,
            "grid_gap": null,
            "max_width": null,
            "order": null,
            "_view_module_version": "1.2.0",
            "grid_template_areas": null,
            "object_position": null,
            "object_fit": null,
            "grid_auto_columns": null,
            "margin": null,
            "display": null,
            "left": null
          }
        }
      }
    }
  },
  "cells": [
    {
      "cell_type": "markdown",
      "metadata": {
        "id": "LpnEVMCYYlnD",
        "colab_type": "text"
      },
      "source": [
        "#2η ομαδική άσκηση στη Τεχνολογία και Ανάλυση Εικόνων και Βίντεο"
      ]
    },
    {
      "cell_type": "markdown",
      "metadata": {
        "id": "PY1MrSpZcv1L",
        "colab_type": "text"
      },
      "source": [
        "***Χαρίτου Δανάη-Νικολέτα (03116045)*** \\\n",
        "\n",
        "***Γαλάνης Δημήτριος (03116088)*** \\\n",
        "\n",
        "***Ομάδα F01***\n"
      ]
    },
    {
      "cell_type": "markdown",
      "metadata": {
        "id": "DfEMjsB4Yurm",
        "colab_type": "text"
      },
      "source": [
        "## Εισαγωγή και επισκόπηση του συνόλου δεδομένων"
      ]
    },
    {
      "cell_type": "code",
      "metadata": {
        "id": "STXQMBuN3nZ6",
        "colab_type": "code",
        "colab": {}
      },
      "source": [
        "from __future__ import absolute_import, division, print_function, unicode_literals # legacy compatibility\n",
        "from keras.utils import np_utils\n",
        "\n",
        "import tensorflow_datasets as tfds\n",
        "import os\n",
        "import numpy as np\n",
        "import pandas as pd\n",
        "import matplotlib.pyplot as plt\n",
        "import pickle"
      ],
      "execution_count": null,
      "outputs": []
    },
    {
      "cell_type": "code",
      "metadata": {
        "id": "Ph0pQ8-GHtWj",
        "colab_type": "code",
        "colab": {
          "base_uri": "https://localhost:8080/",
          "height": 128
        },
        "outputId": "b8ad7265-e6ea-4f6c-9910-3579a2d63677"
      },
      "source": [
        "from google.colab import drive\n",
        "\n",
        "drive.mount('/content/gdrive')\n",
        "gdrive_filename = 'gdrive/My Drive/ask/'"
      ],
      "execution_count": null,
      "outputs": [
        {
          "output_type": "stream",
          "text": [
            "Go to this URL in a browser: https://accounts.google.com/o/oauth2/auth?client_id=947318989803-6bn6qk8qdgf4n4g3pfee6491hc0brc4i.apps.googleusercontent.com&redirect_uri=urn%3aietf%3awg%3aoauth%3a2.0%3aoob&response_type=code&scope=email%20https%3a%2f%2fwww.googleapis.com%2fauth%2fdocs.test%20https%3a%2f%2fwww.googleapis.com%2fauth%2fdrive%20https%3a%2f%2fwww.googleapis.com%2fauth%2fdrive.photos.readonly%20https%3a%2f%2fwww.googleapis.com%2fauth%2fpeopleapi.readonly\n",
            "\n",
            "Enter your authorization code:\n",
            "··········\n",
            "Mounted at /content/gdrive\n"
          ],
          "name": "stdout"
        }
      ]
    },
    {
      "cell_type": "code",
      "metadata": {
        "id": "2WSEGPI9Q7tW",
        "colab_type": "code",
        "colab": {}
      },
      "source": [
        "# helper functions\n",
        "\n",
        "# select from from_list elements with index in index_list\n",
        "def select_from_list(from_list, index_list):\n",
        "  filtered_list= [from_list[i] for i in index_list]\n",
        "  return(filtered_list)\n",
        "\n",
        "# append in filtered_list the index of each element of unfilterd_list if it exists in in target_list\n",
        "def get_ds_index(unfiliterd_list, target_list):\n",
        "  index = 0\n",
        "  filtered_list=[]\n",
        "  for i_ in unfiliterd_list:\n",
        "    if i_[0] in target_list:\n",
        "      filtered_list.append(index)\n",
        "    index += 1\n",
        "  return(filtered_list)\n",
        "\n",
        "# select a url for a unique subset of CIFAR-100 with 20, 40, 60, or 80 classes\n",
        "def select_classes_number(classes_number = 20):\n",
        "  cifar100_20_classes_url = \"https://pastebin.com/raw/nzE1n98V\"\n",
        "  cifar100_40_classes_url = \"https://pastebin.com/raw/zGX4mCNP\"\n",
        "  cifar100_60_classes_url = \"https://pastebin.com/raw/nsDTd3Qn\"\n",
        "  cifar100_80_classes_url = \"https://pastebin.com/raw/SNbXz700\"\n",
        "  if classes_number == 20:\n",
        "    return cifar100_20_classes_url\n",
        "  elif classes_number == 40:\n",
        "    return cifar100_40_classes_url\n",
        "  elif classes_number == 60:\n",
        "    return cifar100_60_classes_url\n",
        "  elif classes_number == 80:\n",
        "    return cifar100_80_classes_url\n",
        "  else:\n",
        "    return -1"
      ],
      "execution_count": null,
      "outputs": []
    },
    {
      "cell_type": "code",
      "metadata": {
        "id": "OCW71UaGzz0Q",
        "colab_type": "code",
        "colab": {
          "base_uri": "https://localhost:8080/",
          "height": 54
        },
        "outputId": "ac5ec4e9-0149-49cd-8221-35617a470174"
      },
      "source": [
        "# load the entire dataset\n",
        "import tensorflow as tf\n",
        "from tensorflow.keras import datasets, layers, models\n",
        "\n",
        "(x_train_all, y_train_all), (x_test_all, y_test_all) = tf.keras.datasets.cifar100.load_data(label_mode='fine')"
      ],
      "execution_count": null,
      "outputs": [
        {
          "output_type": "stream",
          "text": [
            "Downloading data from https://www.cs.toronto.edu/~kriz/cifar-100-python.tar.gz\n",
            "169009152/169001437 [==============================] - 4s 0us/step\n"
          ],
          "name": "stdout"
        }
      ]
    },
    {
      "cell_type": "code",
      "metadata": {
        "id": "kGKYHffEE1do",
        "colab_type": "code",
        "colab": {
          "base_uri": "https://localhost:8080/",
          "height": 35
        },
        "outputId": "2ade62ea-c856-4323-e63c-ea00cf17e830"
      },
      "source": [
        "print(x_train_all.shape)"
      ],
      "execution_count": null,
      "outputs": [
        {
          "output_type": "stream",
          "text": [
            "(50000, 32, 32, 3)\n"
          ],
          "name": "stdout"
        }
      ]
    },
    {
      "cell_type": "markdown",
      "metadata": {
        "id": "9PO9wIwYUf0R",
        "colab_type": "text"
      },
      "source": [
        "Η κάθε ομάδα θα δουλέψει με διαφορετικό υποσύνολο του dataset.\n",
        "Στο επόμενο κελί, αντικαταστήστε την τιμή της μεταβλητής `team_seed` με τον αριθμό που αντιστοιχεί στην ομάδας σας. "
      ]
    },
    {
      "cell_type": "code",
      "metadata": {
        "id": "NN0kEze7uZ_G",
        "colab_type": "code",
        "colab": {}
      },
      "source": [
        "# REPLACE WITH YOUR TEAM NUMBER\n",
        "team_seed = 1"
      ],
      "execution_count": null,
      "outputs": []
    },
    {
      "cell_type": "markdown",
      "metadata": {
        "id": "8xYQ_Q1SVZEk",
        "colab_type": "text"
      },
      "source": [
        "Στο επόμενο κελί μπορείτε να διαλέξετε το πλήθος των κατηγορίων σας: 20 (default), 40, 60 ή 80."
      ]
    },
    {
      "cell_type": "code",
      "metadata": {
        "id": "RhbZJW6PxUDJ",
        "colab_type": "code",
        "colab": {}
      },
      "source": [
        "# select the number of classes\n",
        "num_classes = 20\n",
        "cifar100_classes_url = select_classes_number(num_classes)"
      ],
      "execution_count": null,
      "outputs": []
    },
    {
      "cell_type": "markdown",
      "metadata": {
        "id": "yO9f6wb0Wi0H",
        "colab_type": "text"
      },
      "source": [
        "Δημιουργούμε το μοναδικό dataset της ομάδας μας:"
      ]
    },
    {
      "cell_type": "code",
      "metadata": {
        "id": "PgIN2h_KuCp_",
        "colab_type": "code",
        "colab": {}
      },
      "source": [
        "team_classes = pd.read_csv(cifar100_classes_url, sep=',', header=None)\n",
        "CIFAR100_LABELS_LIST = pd.read_csv('https://pastebin.com/raw/qgDaNggt', sep=',', header=None).astype(str).values.tolist()[0]\n",
        "\n",
        "our_index = team_classes.iloc[team_seed,:].values.tolist()\n",
        "our_classes = select_from_list(CIFAR100_LABELS_LIST, our_index)\n",
        "train_index = get_ds_index(y_train_all, our_index)\n",
        "test_index = get_ds_index(y_test_all, our_index)\n",
        "\n",
        "x_train_ds = np.asarray(select_from_list(x_train_all, train_index))\n",
        "y_train_ds = np.asarray(select_from_list(y_train_all, train_index))\n",
        "x_test_ds = np.asarray(select_from_list(x_test_all, test_index))\n",
        "y_test_ds = np.asarray(select_from_list(y_test_all, test_index))"
      ],
      "execution_count": null,
      "outputs": []
    },
    {
      "cell_type": "code",
      "metadata": {
        "id": "_B4-tvVOQq3j",
        "colab_type": "code",
        "colab": {
          "base_uri": "https://localhost:8080/",
          "height": 55
        },
        "outputId": "0af9b1b8-a5e6-4c62-ebd7-108830f48c4f"
      },
      "source": [
        "# print our classes\n",
        "print(our_classes)"
      ],
      "execution_count": null,
      "outputs": [
        {
          "output_type": "stream",
          "text": [
            "[' beaver', ' bridge', ' caterpillar', ' cup', ' leopard', ' lizard', ' lobster', ' motorcycle', ' mouse', ' otter', ' pine_tree', ' porcupine', ' possum', ' rabbit', ' skunk', ' table', ' telephone', ' tractor', ' turtle', ' wolf']\n"
          ],
          "name": "stdout"
        }
      ]
    },
    {
      "cell_type": "code",
      "metadata": {
        "id": "bk5wy0u7GGMj",
        "colab_type": "code",
        "colab": {
          "base_uri": "https://localhost:8080/",
          "height": 35
        },
        "outputId": "a98a05a9-40ed-4d94-b59c-5b3b02f83e9b"
      },
      "source": [
        "print(x_train_ds[1].shape)"
      ],
      "execution_count": null,
      "outputs": [
        {
          "output_type": "stream",
          "text": [
            "(32, 32, 3)\n"
          ],
          "name": "stdout"
        }
      ]
    },
    {
      "cell_type": "code",
      "metadata": {
        "id": "QpGXgTs_5ZCk",
        "colab_type": "code",
        "colab": {
          "base_uri": "https://localhost:8080/",
          "height": 463
        },
        "outputId": "d90b90d6-cc07-4a53-809c-ca327a9e603a"
      },
      "source": [
        "# get (train) dataset dimensions\n",
        "data_size, img_rows, img_cols, img_channels = x_train_ds.shape\n",
        "print(\"data_size = \", data_size, \"img_rows = \", img_rows, \"img_channels = \", img_channels)\n",
        "# set validation set percentage (wrt the training set size)\n",
        "validation_percentage = 0.15\n",
        "val_size = round(validation_percentage * data_size)\n",
        "\n",
        "# Reserve val_size samples for validation and normalize all values\n",
        "x_val = x_train_ds[-val_size:]/255\n",
        "y_val = y_train_ds[-val_size:]\n",
        "x_train = x_train_ds[:-val_size]/255\n",
        "y_train = y_train_ds[:-val_size]\n",
        "x_test = x_test_ds/255\n",
        "y_test = y_test_ds\n",
        "\n",
        "# summarize loaded dataset\n",
        "print('Train: X=%s, y=%s' % (x_train.shape, y_train.shape))\n",
        "print('Validation: X=%s, y=%s' % (x_val.shape, y_val.shape))\n",
        "print('Test: X=%s, y=%s' % (x_test.shape, y_test.shape))\n",
        "\n",
        "# get class label from class index\n",
        "def class_label_from_index(fine_category):\n",
        "  return(CIFAR100_LABELS_LIST[fine_category.item(0)])\n",
        "\n",
        "# plot first few images\n",
        "plt.figure(figsize=(6, 6))\n",
        "for i in range(9):\n",
        "\t# define subplot\n",
        "  plt.subplot(330 + 1 + i).set_title(class_label_from_index(y_train[i]))\n",
        "\t# plot raw pixel data\n",
        "  plt.imshow(x_train[i], cmap=plt.get_cmap('gray'))\n",
        "  #show the figure\n",
        "plt.show()"
      ],
      "execution_count": null,
      "outputs": [
        {
          "output_type": "stream",
          "text": [
            "data_size =  10000 img_rows =  32 img_channels =  3\n",
            "Train: X=(8500, 32, 32, 3), y=(8500, 1)\n",
            "Validation: X=(1500, 32, 32, 3), y=(1500, 1)\n",
            "Test: X=(2000, 32, 32, 3), y=(2000, 1)\n"
          ],
          "name": "stdout"
        },
        {
          "output_type": "display_data",
          "data": {
            "image/png": "[encoded data removed]",
            "text/plain": [
              "<Figure size 432x432 with 9 Axes>"
            ]
          },
          "metadata": {
            "tags": [],
            "needs_background": "light"
          }
        }
      ]
    },
    {
      "cell_type": "code",
      "metadata": {
        "id": "lO48Zl4n4mXe",
        "colab_type": "code",
        "colab": {}
      },
      "source": [
        "\"\"\"\n",
        "The classification problem we try to solve has num_classes classes and therefore is a subproblem of cifar100.\n",
        "Therefore we have to map our classes [0, num_classes-1]\n",
        "\"\"\"\n",
        "def mapping(arr):\n",
        "  i=0\n",
        "  dictionary = {}\n",
        "  for label in arr:\n",
        "    if label not in dictionary.keys():\n",
        "      dictionary[label] = i\n",
        "      i+=1\n",
        "  return dictionary\n",
        "\n",
        "def apply_mapping(arr,d): \n",
        "  return [d[x] for x in arr]"
      ],
      "execution_count": null,
      "outputs": []
    },
    {
      "cell_type": "code",
      "metadata": {
        "id": "fjy2mNpY-GU4",
        "colab_type": "code",
        "colab": {}
      },
      "source": [
        "# get mapping \n",
        "label_dict = mapping(y_train.reshape(1,-1)[0])\n",
        "# apply mapping\n",
        "y_train = apply_mapping(y_train.reshape(1,-1)[0], label_dict)\n",
        "y_test = apply_mapping(y_test.reshape(1,-1)[0], label_dict)\n",
        "y_val = apply_mapping(y_val.reshape(1,-1)[0], label_dict)"
      ],
      "execution_count": null,
      "outputs": []
    },
    {
      "cell_type": "code",
      "metadata": {
        "id": "KfK9qJC3-GHl",
        "colab_type": "code",
        "colab": {}
      },
      "source": [
        "y_train = np.array([[i] for i in y_train])\n",
        "y_test = np.array([[i] for i in y_test])\n",
        "y_val = np.array([[i] for i in y_val])"
      ],
      "execution_count": null,
      "outputs": []
    },
    {
      "cell_type": "markdown",
      "metadata": {
        "id": "M_T6Y9EJDuOu",
        "colab_type": "text"
      },
      "source": [
        "## Διαχείριση μνήμης (TFRecord)\n",
        "Η φόρτωση δεδομένων με τον τρόπο που το κάναμε παραπάνω στο απλό παράδειγμα υλοποίησης είναι πολύ βολική αλλά δεν είναι καθόλου αποτελεσματική ως προς τη διαχείριση της μνήμης. Συγκεκριμένα, με τον τρόπο αυτό, τα δεδομένα αποθηκεύονται απευθείας σε μεταβλητές, οι οποίες όλες μαζί καταλαμβάνουν τη RAM της CPU ή της GPU, κάτι που κάνει αδύνατη τη διαχείριση μεγάλων datasets ή τον μεταχηματισμό των δεδομένων όπως όταν κάνουμε αύξηση δεδομένων (data augmentation).\n",
        "\n",
        "Για να παρακαμφθεί αυτό το πρόβλημα, υπάρχει η δυνατότητα της σειριοποίησης των δεδομένων (serialization) και της αποθήκευσής τους σε αρχεία μεσαίου μεγέθους (κάποιων MB) τα οποία μπορούνα να αναγνωστούν γραμμικά. Το φορμάτ TFRecord είναι ένα φορμάτ που επιτρέπει την αποθήκευση σειράς δυαδικών εγγραφών. Διαβάστε τα σχετικά λήμματα [TFRecord and tf.Example](https://www.tensorflow.org/tutorials/load_data/tfrecord) και [tf.data: Build TensorFlow input pipelines](https://www.tensorflow.org/guide/data). \n",
        "\n",
        "Σημειώστε ότι με τη μέθοδο αυτή θα πρέπει να γίνει import η `tensorflow_datasets` και να χρησιμοποιήσουμε την `tfds.load` ώστε να αποθηκευθεί το σύνολο δεδομένων σε αρχεία tfrecord στο δίσκο (δείτε [εδώ](https://colab.research.google.com/github/tensorflow/datasets/blob/master/docs/overview.ipynb) ένα παράδειγμα). Φυσικά μπορούμε να μετατρέψουμε και τα πρωτογενή δεδομένα (raw data) του dataset όπως αρχεία jpg σε φορματ tfrecord όπως [εδώ](https://towardsdatascience.com/working-with-tfrecords-and-tf-train-example-36d111b3ff4d).\n"
      ]
    },
    {
      "cell_type": "markdown",
      "metadata": {
        "id": "nmo9PfIHUX1H",
        "colab_type": "text"
      },
      "source": [
        "###***Aπάντηση***:\n",
        "Αξιοποιώντας την εντολή load της βιβλιοθήκης tensorflow_datasets, αποθηκεύουμε \n",
        "το σύνολο δεδομένων σε αρχεία tfrecords στο δίσκο. Με αυτό τον τρόπο μπορούμε να ανασύρουμε δυναμικά το dataset κατά την διάρκεια εκπάιδευσης του μοντέλου, επιλύοντας το πρόβλημα διαχείρισης της μνήμης. Ωστόσο απαταιτείται κάποιας μορφής επεξεργασία για την δημιουργία του μοναδικού dataset που αντιστοιχεί στην ομάδα μας, κατά αναλογία με την διαδικασία που εκετέλεστηκε προηγουμένως. "
      ]
    },
    {
      "cell_type": "code",
      "metadata": {
        "id": "2ruKDLJ-T52T",
        "colab_type": "code",
        "colab": {
          "base_uri": "https://localhost:8080/",
          "height": 415,
          "referenced_widgets": [
            "110465dac7ae466bb81a0c831b469ff2",
            "3e0f0e34679f41ae997afffe6d28baee",
            "fd2db4ea8fb144bf87957844ff39d5b2",
            "af05ef3af75d46cc8dfbd74585495bb9",
            "63be8b87160d460eb66fdf8fc04ff78e",
            "f5e37df44a68437482d01964a707eb34",
            "63abd53cdea54f03845b7a28f56fc6ec",
            "4bd5f63825514b8bb90cdecfbccc1ad8",
            "295c56f4f25447aba13f6a485ae252b8",
            "87949746ce1d408b8aa730d4106fdb9f",
            "ee6da0dfd44b4c4da67fcd72f2127321",
            "3d9f39b2a7fd4a968bbf810f1da8d228",
            "df1d52c584f942f79507f02732e0f788",
            "98b49626e49b4473a3be716ec957f994",
            "c22246ed70d04f6aa7eda805132b83f0",
            "4b99cff9d06c441196fb49f6f639d1c8",
            "6a4b70f34bb14aa081c28780f1bf342a",
            "7d64665cf4064c8ab74221df1cae5324",
            "0a6b9b284ad74bd38a2494b0929d3a42",
            "378fdb90a46141c898841935480fcea6",
            "1c652e41381b44b2be2a1c0461454d85",
            "84af99dadeeb4b88b78f6f0af84deab9",
            "8c7226ac482c4fd09ce1cb798ed1a029",
            "0d68099fd0bf477aa5aa81b5961385b7",
            "f5dd1b3d3b0b4a57af0ff7b93b3292c3",
            "e41f9b4f1c28423da831191db05e5840",
            "802b85eb95bf492a87d2d7372fedafed",
            "e753c60a2a874e2ab15bd01619c71ba0",
            "3bb63307d8224e14a566d0ecdc31fcd3",
            "3da4bec0c59d469986d3116e8a5ac80e",
            "83d5fa33464842d9b4a7cab85436cce4",
            "480c1640759d475c8a0296fbef4fd905",
            "5aa7d7292df94a9daf99dc95ad42e01e",
            "9024ccedc65d4d75a0dd119fd377b1ed",
            "380a75b13d9649348c20b1e609049b77",
            "609933980d8e4acc84878769a9972ae4",
            "81faf9e00e3140998ca4e50ca054f7eb",
            "0c5db22b18f8485596e6fa5b18b5ba4b",
            "74c505a8eae64361ad45e2c9fd4b1395",
            "e1d8a80a3aca4c31bdaec295b1bf9c80",
            "f54136a6b87d40788ca74b6ce15199d9",
            "ad059a1d155d4cb0a3d9dceed51ce2a8",
            "44e37fce914f4aa3b5800f43c307f6fc",
            "74e5eb47641542b2b34ed9286aaeb2e9",
            "749854b6a2ba45a28e9483d00146c4f2",
            "d9487917313f4e3087c6c4ddedfd3608",
            "92b3aa2e570d4a308b1141f65245e0ca",
            "eda7477999d04e2188dbedb748a36289",
            "e6f756afa4164611ada3027fe6e5e71a",
            "a75454655347454a883ba33f33253c36",
            "04c1a9ecebd1440fbf1da6e25dfefaa8",
            "d3d600c4b0c2453899c1c56c4f9292b9",
            "9bba202f099747e4b17c155827ad9bce",
            "1928058a96894861a7c129edc46d5685",
            "d589801137d945908d35ffc8a21e266d",
            "76b46519422c4142b49d6f3d3f639d4a"
          ]
        },
        "outputId": "76b7a3d8-d724-4557-fbac-f636303947db"
      },
      "source": [
        "(ds_train, ds_test), ds_info = tfds.load('cifar100', split=['train', 'test'], shuffle_files=True, as_supervised=True, with_info=True)\n",
        "assert isinstance(ds_train, tf.data.Dataset)\n",
        "assert isinstance(ds_test, tf.data.Dataset)"
      ],
      "execution_count": null,
      "outputs": [
        {
          "output_type": "stream",
          "text": [
            "\u001b[1mDownloading and preparing dataset cifar100/3.0.0 (download: 160.71 MiB, generated: Unknown size, total: 160.71 MiB) to /root/tensorflow_datasets/cifar100/3.0.0...\u001b[0m\n"
          ],
          "name": "stdout"
        },
        {
          "output_type": "display_data",
          "data": {
            "application/vnd.jupyter.widget-view+json": {
              "model_id": "110465dac7ae466bb81a0c831b469ff2",
              "version_minor": 0,
              "version_major": 2
            },
            "text/plain": [
              "HBox(children=(FloatProgress(value=1.0, bar_style='info', description='Dl Completed...', max=1.0, style=Progre…"
            ]
          },
          "metadata": {
            "tags": []
          }
        },
        {
          "output_type": "display_data",
          "data": {
            "application/vnd.jupyter.widget-view+json": {
              "model_id": "295c56f4f25447aba13f6a485ae252b8",
              "version_minor": 0,
              "version_major": 2
            },
            "text/plain": [
              "HBox(children=(FloatProgress(value=1.0, bar_style='info', description='Dl Size...', max=1.0, style=ProgressSty…"
            ]
          },
          "metadata": {
            "tags": []
          }
        },
        {
          "output_type": "display_data",
          "data": {
            "application/vnd.jupyter.widget-view+json": {
              "model_id": "6a4b70f34bb14aa081c28780f1bf342a",
              "version_minor": 0,
              "version_major": 2
            },
            "text/plain": [
              "HBox(children=(FloatProgress(value=1.0, bar_style='info', description='Extraction completed...', max=1.0, styl…"
            ]
          },
          "metadata": {
            "tags": []
          }
        },
        {
          "output_type": "stream",
          "text": [
            "/usr/local/lib/python3.6/dist-packages/urllib3/connectionpool.py:847: InsecureRequestWarning: Unverified HTTPS request is being made. Adding certificate verification is strongly advised. See: https://urllib3.readthedocs.io/en/latest/advanced-usage.html#ssl-warnings\n",
            "  InsecureRequestWarning)\n"
          ],
          "name": "stderr"
        },
        {
          "output_type": "stream",
          "text": [
            "\n",
            "\n",
            "\n",
            "\n",
            "\n",
            "\n"
          ],
          "name": "stdout"
        },
        {
          "output_type": "display_data",
          "data": {
            "application/vnd.jupyter.widget-view+json": {
              "model_id": "f5dd1b3d3b0b4a57af0ff7b93b3292c3",
              "version_minor": 0,
              "version_major": 2
            },
            "text/plain": [
              "HBox(children=(FloatProgress(value=1.0, bar_style='info', max=1.0), HTML(value='')))"
            ]
          },
          "metadata": {
            "tags": []
          }
        },
        {
          "output_type": "stream",
          "text": [
            "\rShuffling and writing examples to /root/tensorflow_datasets/cifar100/3.0.0.incompleteH20EHH/cifar100-train.tfrecord\n"
          ],
          "name": "stdout"
        },
        {
          "output_type": "display_data",
          "data": {
            "application/vnd.jupyter.widget-view+json": {
              "model_id": "5aa7d7292df94a9daf99dc95ad42e01e",
              "version_minor": 0,
              "version_major": 2
            },
            "text/plain": [
              "HBox(children=(FloatProgress(value=0.0, max=50000.0), HTML(value='')))"
            ]
          },
          "metadata": {
            "tags": []
          }
        },
        {
          "output_type": "stream",
          "text": [
            "\r"
          ],
          "name": "stdout"
        },
        {
          "output_type": "display_data",
          "data": {
            "application/vnd.jupyter.widget-view+json": {
              "model_id": "f54136a6b87d40788ca74b6ce15199d9",
              "version_minor": 0,
              "version_major": 2
            },
            "text/plain": [
              "HBox(children=(FloatProgress(value=1.0, bar_style='info', max=1.0), HTML(value='')))"
            ]
          },
          "metadata": {
            "tags": []
          }
        },
        {
          "output_type": "stream",
          "text": [
            "\rShuffling and writing examples to /root/tensorflow_datasets/cifar100/3.0.0.incompleteH20EHH/cifar100-test.tfrecord\n"
          ],
          "name": "stdout"
        },
        {
          "output_type": "display_data",
          "data": {
            "application/vnd.jupyter.widget-view+json": {
              "model_id": "e6f756afa4164611ada3027fe6e5e71a",
              "version_minor": 0,
              "version_major": 2
            },
            "text/plain": [
              "HBox(children=(FloatProgress(value=0.0, max=10000.0), HTML(value='')))"
            ]
          },
          "metadata": {
            "tags": []
          }
        },
        {
          "output_type": "stream",
          "text": [
            "\u001b[1mDataset cifar100 downloaded and prepared to /root/tensorflow_datasets/cifar100/3.0.0. Subsequent calls will reuse this data.\u001b[0m\n",
            "\r"
          ],
          "name": "stdout"
        }
      ]
    },
    {
      "cell_type": "markdown",
      "metadata": {
        "id": "MWup3rxiJ9iP",
        "colab_type": "text"
      },
      "source": [
        "Εναλλακτικά, τρέχουμε τον παρακάτω κώδικα για το serialization των train, test, val δεδομένων. Τα σειριοποιημένα δεδομένα, αποθηκεύονται σε φάκελο του GoogleDrive (και επομένως χρειάζεται να έχει πραγματοποιηθεί το authorization μέσω του κώδικα που δόθηκε στην αρχή αυτού του notebook). Για να τρέξει τοπικά θα πρέπει τα ο φάκελος στον οποίο γράφονται (gdrive_filename) να υπάρχει στο mounted Google Drive filesystem."
      ]
    },
    {
      "cell_type": "code",
      "metadata": {
        "id": "kecWYysPCKxp",
        "colab_type": "code",
        "colab": {}
      },
      "source": [
        "def _bytes_feature(value):\n",
        "  \"\"\"Returns a bytes_list from a string / byte.\"\"\"\n",
        "  if isinstance(value, type(tf.constant(0))):\n",
        "    value = value.numpy() # BytesList won't unpack a string from an EagerTensor.\n",
        "  return tf.train.Feature(bytes_list=tf.train.BytesList(value=[value]))\n",
        "\n",
        "def _float_feature(value):\n",
        "  \"\"\"Returns a float_list from a float / double.\"\"\"\n",
        "  return tf.train.Feature(float_list=tf.train.FloatList(value=[value]))\n",
        "\n",
        "def _int64_feature(value):\n",
        "  \"\"\"Returns an int64_list from a bool / enum / int / uint.\"\"\"\n",
        "  return tf.train.Feature(int64_list=tf.train.Int64List(value=[value]))\n",
        "\n",
        "def serialize_example(feature0, feature1):\n",
        "  \"\"\"\n",
        "  Creates a tf.Example message ready to be written to a file.\n",
        "  \"\"\"\n",
        "  # Create a dictionary mapping the feature name to the tf.Example-compatible\n",
        "  # data type.\n",
        "  feature = {\n",
        "      'image_raw': _bytes_feature(feature0.tostring()),\n",
        "      'label': _int64_feature(feature1),\n",
        "  }\n",
        "\n",
        "  # Create a Features message using tf.train.Example.\n",
        "\n",
        "  example = tf.train.Example(features=tf.train.Features(feature=feature))\n",
        "  return example.SerializeToString()\n",
        "\n",
        "\n",
        "def write_tfrecord (dataset,labels,set_label):\n",
        "  with tf.io.TFRecordWriter(gdrive_filename+set_label) as writer:\n",
        "    for i in range(dataset.shape[0]):\n",
        "      example = serialize_example(dataset[i], labels[i])\n",
        "      writer.write(example)\n",
        "  writer.close()"
      ],
      "execution_count": null,
      "outputs": []
    },
    {
      "cell_type": "code",
      "metadata": {
        "id": "GTfHO2kvHIqg",
        "colab_type": "code",
        "colab": {}
      },
      "source": [
        "write_tfrecord(x_train, y_train, 'train')\n",
        "write_tfrecord(x_test, y_test, 'test')\n",
        "write_tfrecord(x_val, y_val, 'val')"
      ],
      "execution_count": null,
      "outputs": []
    },
    {
      "cell_type": "markdown",
      "metadata": {
        "id": "yzJtok45snsa",
        "colab_type": "text"
      },
      "source": [
        "Έπειτα, διαβάζουμε τα εν λόγω σύνολα δεδομένων από τα αντίστοιχα tfrecords αρχεία. "
      ]
    },
    {
      "cell_type": "code",
      "metadata": {
        "id": "tzm9SGWJkFke",
        "colab_type": "code",
        "colab": {}
      },
      "source": [
        "image_features = {\n",
        "    'image_raw': tf.io.FixedLenFeature([], tf.string),\n",
        "    'label': tf.io.FixedLenFeature([], tf.int64),\n",
        "}\n",
        "\n",
        "def _parse_image_function(example):\n",
        "  # Parse the input tf.Example proto using the dictionary above.\n",
        "  return tf.io.parse_single_example(example, image_features)\n",
        "\n",
        "def read_tfrecord (set_label):\n",
        "  final_set = []\n",
        "  final_labels = []\n",
        "  dataset = tf.data.TFRecordDataset(gdrive_filename+set_label)\n",
        "  parsed_dataset = dataset.map(_parse_image_function, num_parallel_calls=4)\n",
        "  for item in parsed_dataset:\n",
        "    image_raw = item['image_raw'].numpy()\n",
        "    image = np.frombuffer(image_raw).reshape((32,32,3))\n",
        "    final_set.append(image)\n",
        "    label = item['label'].numpy()\n",
        "    final_labels.append(label)\n",
        "  return np.array(final_set), np.array(final_labels).reshape((len(final_labels),1))"
      ],
      "execution_count": null,
      "outputs": []
    },
    {
      "cell_type": "code",
      "metadata": {
        "id": "12s1ySONHgc6",
        "colab_type": "code",
        "colab": {}
      },
      "source": [
        "x_train_tfrecord, y_train_tfrecord = read_tfrecord('train')\n",
        "x_test_tfrecord, y_test_tfrecord = read_tfrecord('test')\n",
        "x_val_tfrecord, y_val_tfrecord = read_tfrecord('val')"
      ],
      "execution_count": null,
      "outputs": []
    },
    {
      "cell_type": "code",
      "metadata": {
        "id": "I8NX5QBwHlEU",
        "colab_type": "code",
        "colab": {
          "base_uri": "https://localhost:8080/",
          "height": 235
        },
        "outputId": "0cf43e0d-002b-4475-fdcf-1805349ce7f1"
      },
      "source": [
        "print(x_train.shape)\n",
        "print(x_train_tfrecord.shape)\n",
        "print(y_train.shape)\n",
        "print(y_train_tfrecord.shape)\n",
        "print(x_test.shape)\n",
        "print(x_test_tfrecord.shape)\n",
        "print(y_test.shape)\n",
        "print(y_test_tfrecord.shape)\n",
        "print(x_val.shape)\n",
        "print(x_val_tfrecord.shape)\n",
        "print(y_val.shape)\n",
        "print(y_val_tfrecord.shape)"
      ],
      "execution_count": null,
      "outputs": [
        {
          "output_type": "stream",
          "text": [
            "(17000, 32, 32, 3)\n",
            "(17000, 32, 32, 3)\n",
            "(17000, 1)\n",
            "(17000, 1)\n",
            "(4000, 32, 32, 3)\n",
            "(4000, 32, 32, 3)\n",
            "(4000, 1)\n",
            "(4000, 1)\n",
            "(3000, 32, 32, 3)\n",
            "(3000, 32, 32, 3)\n",
            "(3000, 1)\n",
            "(3000, 1)\n"
          ],
          "name": "stdout"
        }
      ]
    },
    {
      "cell_type": "markdown",
      "metadata": {
        "id": "n3GxoV8706OC",
        "colab_type": "text"
      },
      "source": [
        "#Ερώτημα 1\n",
        "**Βήμα 1:** Σχεδίαση, μεταγλώττιση και εκπαίδευση των μοντέλων \\\n",
        "\n",
        "**1.1.** Σχεδίασετε αρχικά τα ακόλουθα μοντέλα:\n",
        "\n",
        "Softmax (baseline): FC(200), SOFTMAX\n",
        "\n",
        "MLP: FC(512), RELU, FC(200), SOFTMAX\n",
        "\n",
        "LeNet: CONV(32, 3), RELU, POOL(2), CONV(32,3), RELU, POOL(2), FC(512, RELU, FC(200),SOFTMAX\n",
        "\n",
        "CNN1: CONV(16, 5), RELU, POOL(2), CONV(16,3), RELU, POOL(2), CONV(32, 3), RELU, FC(200), SOFTMAX\n",
        "\n",
        "CNN2: σχεδίαστε την αρχιτεκτονική του και δικού σας μοντέλου\n",
        "\n"
      ]
    },
    {
      "cell_type": "code",
      "metadata": {
        "id": "jsU6tRRW1Qd_",
        "colab_type": "code",
        "colab": {
          "base_uri": "https://localhost:8080/",
          "height": 1000
        },
        "outputId": "aca95e0e-ff04-4604-ca7e-4ed5548dd673"
      },
      "source": [
        "model_softbase1 = models.Sequential()\n",
        "model_softbase1.add(layers.Flatten(input_shape=(32,32,3)))\n",
        "model_softbase1.add(layers.Dense(200))\n",
        "model_softbase1.add(layers.Dense(num_classes, activation='softmax'))\n",
        "model_softbase1.summary()\n",
        "model_softbase2 = tf.keras.models.clone_model(model_softbase1)\n",
        "\n",
        "\n",
        "model_mlp1 = models.Sequential()\n",
        "model_mlp1.add(layers.Flatten(input_shape=(32,32,3)))\n",
        "model_mlp1.add(layers.Dense(512, activation='relu'))\n",
        "model_mlp1.add(layers.Dense(200))\n",
        "model_mlp1.add(layers.Dense(num_classes, activation='softmax'))\n",
        "model_mlp1.summary()\n",
        "model_mlp2= tf.keras.models.clone_model(model_mlp1)\n",
        "\n",
        "model_lenet1 = models.Sequential()\n",
        "model_lenet1.add(layers.Conv2D(32, (3, 3), activation='relu', input_shape=(32, 32, 3)))\n",
        "model_lenet1.add(layers.MaxPooling2D((3, 3)))\n",
        "model_lenet1.add(layers.Conv2D(32,(3,3), activation='relu' ))\n",
        "model_lenet1.add(layers.MaxPooling2D((2, 2)))\n",
        "model_lenet1.add(layers.Flatten())\n",
        "model_lenet1.add(layers.Dense(512, activation='relu'))\n",
        "model_lenet1.add(layers.Dense(200))\n",
        "model_lenet1.add(layers.Dense(num_classes, activation='softmax'))\n",
        "model_lenet1.summary()\n",
        "model_lenet2 = tf.keras.models.clone_model(model_lenet1)\n",
        "\n",
        "\n",
        "model_cnn11 = models.Sequential()\n",
        "model_cnn11.add(layers.Conv2D(16, (5, 5), activation='relu', input_shape=(32, 32, 3)))\n",
        "model_cnn11.add(layers.MaxPooling2D((2, 2)))\n",
        "model_cnn11.add(layers.Conv2D(16, (3, 3), activation='relu'))\n",
        "model_cnn11.add(layers.MaxPooling2D((2, 2)))\n",
        "model_cnn11.add(layers.Conv2D(32, (3, 3), activation='relu'))\n",
        "model_cnn11.add(layers.Flatten())\n",
        "model_cnn11.add(layers.Dense(200))\n",
        "model_cnn11.add(layers.Dense(num_classes, activation='softmax'))\n",
        "model_cnn11.summary()\n",
        "model_cnn12 = tf.keras.models.clone_model(model_cnn11)\n",
        "\n",
        "\n",
        "model_cnn21 = models.Sequential()\n",
        "model_cnn21.add(layers.Conv2D(128, (3,3), padding=\"same\",input_shape=(32, 32, 3)))\n",
        "model_cnn21.add(tf.keras.layers.LeakyReLU())\n",
        "model_cnn21.add(layers.Conv2D(128, (3, 3), padding='same'))\n",
        "model_cnn21.add(layers.MaxPooling2D((2, 2)))\n",
        "model_cnn21.add(tf.keras.layers.LeakyReLU())\n",
        "model_cnn21.add(layers.Conv2D(256, (3, 3), padding='same'))\n",
        "model_cnn21.add(tf.keras.layers.LeakyReLU())\n",
        "model_cnn21.add(layers.MaxPooling2D((2, 2)))\n",
        "model_cnn21.add(layers.Conv2D(512, (3, 3), padding='same'))\n",
        "model_cnn21.add(tf.keras.layers.LeakyReLU())\n",
        "model_cnn21.add(layers.Conv2D(256, (3, 3)))\n",
        "model_cnn21.add(tf.keras.layers.LeakyReLU())\n",
        "model_cnn21.add(layers.MaxPooling2D((2, 2)))\n",
        "model_cnn21.add(layers.Flatten())\n",
        "model_cnn21.add(layers.Dense(1024))\n",
        "model_cnn21.add(tf.keras.layers.LeakyReLU())\n",
        "model_cnn21.add(layers.Dense(200))\n",
        "model_cnn21.add(layers.Dense(num_classes, activation='softmax'))\n",
        "model_cnn21.summary()\n",
        "model_cnn22 = tf.keras.models.clone_model(model_cnn21)\n"
      ],
      "execution_count": null,
      "outputs": [
        {
          "output_type": "stream",
          "text": [
            "Model: \"sequential_15\"\n",
            "_________________________________________________________________\n",
            "Layer (type)                 Output Shape              Param #   \n",
            "=================================================================\n",
            "flatten_15 (Flatten)         (None, 3072)              0         \n",
            "_________________________________________________________________\n",
            "dense_41 (Dense)             (None, 200)               614600    \n",
            "_________________________________________________________________\n",
            "dense_42 (Dense)             (None, 20)                4020      \n",
            "=================================================================\n",
            "Total params: 618,620\n",
            "Trainable params: 618,620\n",
            "Non-trainable params: 0\n",
            "_________________________________________________________________\n",
            "Model: \"sequential_16\"\n",
            "_________________________________________________________________\n",
            "Layer (type)                 Output Shape              Param #   \n",
            "=================================================================\n",
            "flatten_16 (Flatten)         (None, 3072)              0         \n",
            "_________________________________________________________________\n",
            "dense_43 (Dense)             (None, 512)               1573376   \n",
            "_________________________________________________________________\n",
            "dense_44 (Dense)             (None, 200)               102600    \n",
            "_________________________________________________________________\n",
            "dense_45 (Dense)             (None, 20)                4020      \n",
            "=================================================================\n",
            "Total params: 1,679,996\n",
            "Trainable params: 1,679,996\n",
            "Non-trainable params: 0\n",
            "_________________________________________________________________\n",
            "Model: \"sequential_17\"\n",
            "_________________________________________________________________\n",
            "Layer (type)                 Output Shape              Param #   \n",
            "=================================================================\n",
            "conv2d_20 (Conv2D)           (None, 30, 30, 32)        896       \n",
            "_________________________________________________________________\n",
            "max_pooling2d_17 (MaxPooling (None, 10, 10, 32)        0         \n",
            "_________________________________________________________________\n",
            "conv2d_21 (Conv2D)           (None, 8, 8, 32)          9248      \n",
            "_________________________________________________________________\n",
            "max_pooling2d_18 (MaxPooling (None, 4, 4, 32)          0         \n",
            "_________________________________________________________________\n",
            "flatten_17 (Flatten)         (None, 512)               0         \n",
            "_________________________________________________________________\n",
            "dense_46 (Dense)             (None, 512)               262656    \n",
            "_________________________________________________________________\n",
            "dense_47 (Dense)             (None, 200)               102600    \n",
            "_________________________________________________________________\n",
            "dense_48 (Dense)             (None, 20)                4020      \n",
            "=================================================================\n",
            "Total params: 379,420\n",
            "Trainable params: 379,420\n",
            "Non-trainable params: 0\n",
            "_________________________________________________________________\n",
            "Model: \"sequential_18\"\n",
            "_________________________________________________________________\n",
            "Layer (type)                 Output Shape              Param #   \n",
            "=================================================================\n",
            "conv2d_22 (Conv2D)           (None, 28, 28, 16)        1216      \n",
            "_________________________________________________________________\n",
            "max_pooling2d_19 (MaxPooling (None, 14, 14, 16)        0         \n",
            "_________________________________________________________________\n",
            "conv2d_23 (Conv2D)           (None, 12, 12, 16)        2320      \n",
            "_________________________________________________________________\n",
            "max_pooling2d_20 (MaxPooling (None, 6, 6, 16)          0         \n",
            "_________________________________________________________________\n",
            "conv2d_24 (Conv2D)           (None, 4, 4, 32)          4640      \n",
            "_________________________________________________________________\n",
            "flatten_18 (Flatten)         (None, 512)               0         \n",
            "_________________________________________________________________\n",
            "dense_49 (Dense)             (None, 200)               102600    \n",
            "_________________________________________________________________\n",
            "dense_50 (Dense)             (None, 20)                4020      \n",
            "=================================================================\n",
            "Total params: 114,796\n",
            "Trainable params: 114,796\n",
            "Non-trainable params: 0\n",
            "_________________________________________________________________\n",
            "Model: \"sequential_19\"\n",
            "_________________________________________________________________\n",
            "Layer (type)                 Output Shape              Param #   \n",
            "=================================================================\n",
            "conv2d_25 (Conv2D)           (None, 32, 32, 128)       3584      \n",
            "_________________________________________________________________\n",
            "leaky_re_lu_24 (LeakyReLU)   (None, 32, 32, 128)       0         \n",
            "_________________________________________________________________\n",
            "conv2d_26 (Conv2D)           (None, 32, 32, 128)       147584    \n",
            "_________________________________________________________________\n",
            "max_pooling2d_21 (MaxPooling (None, 16, 16, 128)       0         \n",
            "_________________________________________________________________\n",
            "leaky_re_lu_25 (LeakyReLU)   (None, 16, 16, 128)       0         \n",
            "_________________________________________________________________\n",
            "conv2d_27 (Conv2D)           (None, 16, 16, 256)       295168    \n",
            "_________________________________________________________________\n",
            "leaky_re_lu_26 (LeakyReLU)   (None, 16, 16, 256)       0         \n",
            "_________________________________________________________________\n",
            "max_pooling2d_22 (MaxPooling (None, 8, 8, 256)         0         \n",
            "_________________________________________________________________\n",
            "conv2d_28 (Conv2D)           (None, 8, 8, 512)         1180160   \n",
            "_________________________________________________________________\n",
            "leaky_re_lu_27 (LeakyReLU)   (None, 8, 8, 512)         0         \n",
            "_________________________________________________________________\n",
            "conv2d_29 (Conv2D)           (None, 6, 6, 256)         1179904   \n",
            "_________________________________________________________________\n",
            "leaky_re_lu_28 (LeakyReLU)   (None, 6, 6, 256)         0         \n",
            "_________________________________________________________________\n",
            "max_pooling2d_23 (MaxPooling (None, 3, 3, 256)         0         \n",
            "_________________________________________________________________\n",
            "flatten_19 (Flatten)         (None, 2304)              0         \n",
            "_________________________________________________________________\n",
            "dense_51 (Dense)             (None, 1024)              2360320   \n",
            "_________________________________________________________________\n",
            "leaky_re_lu_29 (LeakyReLU)   (None, 1024)              0         \n",
            "_________________________________________________________________\n",
            "dense_52 (Dense)             (None, 200)               205000    \n",
            "_________________________________________________________________\n",
            "dense_53 (Dense)             (None, 20)                4020      \n",
            "=================================================================\n",
            "Total params: 5,375,740\n",
            "Trainable params: 5,375,740\n",
            "Non-trainable params: 0\n",
            "_________________________________________________________________\n"
          ],
          "name": "stdout"
        }
      ]
    },
    {
      "cell_type": "markdown",
      "metadata": {
        "id": "C10l1xsS0hqz",
        "colab_type": "text"
      },
      "source": [
        "- Όσον αφορά την αρχιτεκτονική του δικού μας μοντέλου, επιλέξαμε να αποτελείται από μια ισχυρή συνεκτική βάση, δηλαδή ένα πλήθος από convolutional layers με σταδιακά μειούμενο μέγεθος, μεταξύ των οποίων παρεμβάλλονται τα κατάλληλα max-pooling layers αλλά και μη γραμμικές συναρτήσεις ενεργοποίησης με την μορφή της Leaky ReLU. Η κεφαλή ταξινόμησης σχεδιάστηκε με απλό τρόπο, εφόσον με αυτή την υλοποίηση επιτυγχάνονται ικανοποιητικά αποτελέσματα και συγχρόνως δεν επιβαρύνεται υπολογιστικά το νευρωνικό δίκτυο. "
      ]
    },
    {
      "cell_type": "markdown",
      "metadata": {
        "id": "XzdgKI3diu9S",
        "colab_type": "text"
      },
      "source": [
        "- Όσον αφορά τις δοθείσες αρχιτεκτονικές μοντέλων, προσθέσαμε στο τελικό στάδιο ένα fully connected layer με συνάρτηση εναργοποίησης την softmax, το οποίο πραγματοποιεί στην ουσία την ταξινόμηση στο ζητούμενο αριθμό κλάσεων. Οι δυνατές επιλογές ως προς την παράμετρο αυτή στα πλαίσια της παρούσης άσκησης είναι 20, 40, 60 ή 80. Ωστόσο, θεωρώντας την χρήση του accuracy ως μετρική αξιολόγησης, οι εν λόγω κλάσεις κωδικοποιούνται με αριθμούς από το 1 έως το 100, οπότε με βάση την παρατήρηση αυτή επιλέγεται το πλήθος νευρώνων στο αντίστοιχο επίπεδο. Για την υλοποίηση αυτής της κωδικοποίησης τα indices των num_classes κλάσεων του train set γίνονται map στο διάστημα [0, num_classes-1]."
      ]
    },
    {
      "cell_type": "markdown",
      "metadata": {
        "id": "n1udkybw8S3A",
        "colab_type": "text"
      },
      "source": [
        "**1.2.** Μεταγλωτίστε και εκπαιδεύστε, έπειτα, όλα τα μοντέλα σας, χρησιμοποιώντας 2 διαφορετικούς (καλύτερους) συνδυασμούς optimizer, loss, metrics και epoch (θα προκύψουν 10 διαφορετικά εκπαιδευμένα μοντέλα, 2 ανά αρχιτεκτονική)."
      ]
    },
    {
      "cell_type": "markdown",
      "metadata": {
        "id": "YTDtoVeNwqC7",
        "colab_type": "text"
      },
      "source": [
        "###***Aπάντηση***:\n",
        "\n",
        "H επιλογή των αναγραφόμενων παραμέτρων εκπαίδευσης (otpimizer, loss, metrics) που χρησιμοποιούνται στα εξεταζόμενα μοντέλα, πραγαματοποιήθηκε ύστερα από σχετικό πειραματισμό. Ειδικότερα, όσον αφορά την μετρική αξιολόγησης, παρατηρήσαμε ότι η συμπεριφορά της εξαρτάται από την επίδοση του εκάστοτε μοντέλου με μόνη διαφοροποίηση ανάμεσα στις διάφορες επιλογές στην χρησιμοποιούμενη κλίμακα ή την ποσοτική της έκφραση. Για τον λόγο αυτό επιλέξαμε να χρησιμοποιήσουμε σε όλες τις εκδοχές των μοντέλων την μετρική της ακρίβειας, η οποία αποτελεί ένα εύληπτο μέτρο της απόδοσης και συγχρόνως καθιστά εφικτή την σύγκριση μεταξύ διαφορετικών μοντέλων."
      ]
    },
    {
      "cell_type": "code",
      "metadata": {
        "id": "eZC96K_l8XT0",
        "colab_type": "code",
        "colab": {
          "base_uri": "https://localhost:8080/",
          "height": 1000
        },
        "outputId": "74165053-3221-4d1e-f2e5-2adb28f522fd"
      },
      "source": [
        "model_softbase1.compile(optimizer='adam',\n",
        "              loss='sparse_categorical_crossentropy',\n",
        "              metrics=['accuracy'])\n",
        "\n",
        "history_softbase1 = model_softbase1.fit(x_train, y_train, epochs=24, \n",
        "                    validation_data=(x_val, y_val))\n",
        "\n",
        "model_softbase1.save('softbase1.h5')\n",
        "\n",
        "\n",
        "\n",
        "model_softbase2.compile(optimizer='adagrad',\n",
        "              loss='sparse_categorical_crossentropy',\n",
        "              metrics=['accuracy'])\n",
        "\n",
        "history_softbase2 = model_softbase2.fit(x_train, y_train, epochs=20, \n",
        "                    validation_data=(x_val, y_val))\n",
        "\n",
        "model_softbase2.save('softbase2.h5')"
      ],
      "execution_count": null,
      "outputs": [
        {
          "output_type": "stream",
          "text": [
            "Epoch 1/24\n",
            "266/266 [==============================] - 1s 3ms/step - loss: 3.5139 - accuracy: 0.1687 - val_loss: 3.2343 - val_accuracy: 0.1747\n",
            "Epoch 2/24\n",
            "266/266 [==============================] - 1s 3ms/step - loss: 2.9288 - accuracy: 0.2279 - val_loss: 2.7639 - val_accuracy: 0.2073\n",
            "Epoch 3/24\n",
            "266/266 [==============================] - 1s 3ms/step - loss: 2.6162 - accuracy: 0.2576 - val_loss: 2.6982 - val_accuracy: 0.2420\n",
            "Epoch 4/24\n",
            "266/266 [==============================] - 1s 3ms/step - loss: 2.4852 - accuracy: 0.2865 - val_loss: 2.6167 - val_accuracy: 0.2453\n",
            "Epoch 5/24\n",
            "266/266 [==============================] - 1s 3ms/step - loss: 2.4179 - accuracy: 0.2922 - val_loss: 2.5696 - val_accuracy: 0.2600\n",
            "Epoch 6/24\n",
            "266/266 [==============================] - 1s 3ms/step - loss: 2.3994 - accuracy: 0.2995 - val_loss: 2.5291 - val_accuracy: 0.2760\n",
            "Epoch 7/24\n",
            "266/266 [==============================] - 1s 3ms/step - loss: 2.3866 - accuracy: 0.3019 - val_loss: 2.5124 - val_accuracy: 0.2680\n",
            "Epoch 8/24\n",
            "266/266 [==============================] - 1s 3ms/step - loss: 2.3618 - accuracy: 0.3086 - val_loss: 2.7486 - val_accuracy: 0.2440\n",
            "Epoch 9/24\n",
            "266/266 [==============================] - 1s 3ms/step - loss: 2.3689 - accuracy: 0.3051 - val_loss: 2.6819 - val_accuracy: 0.2407\n",
            "Epoch 10/24\n",
            "266/266 [==============================] - 1s 3ms/step - loss: 2.3554 - accuracy: 0.3085 - val_loss: 2.4905 - val_accuracy: 0.2700\n",
            "Epoch 11/24\n",
            "266/266 [==============================] - 1s 3ms/step - loss: 2.3220 - accuracy: 0.3179 - val_loss: 2.6504 - val_accuracy: 0.2420\n",
            "Epoch 12/24\n",
            "266/266 [==============================] - 1s 3ms/step - loss: 2.3197 - accuracy: 0.3172 - val_loss: 2.5911 - val_accuracy: 0.2487\n",
            "Epoch 13/24\n",
            "266/266 [==============================] - 1s 3ms/step - loss: 2.3115 - accuracy: 0.3246 - val_loss: 2.4786 - val_accuracy: 0.2660\n",
            "Epoch 14/24\n",
            "266/266 [==============================] - 1s 3ms/step - loss: 2.3102 - accuracy: 0.3215 - val_loss: 2.5255 - val_accuracy: 0.2600\n",
            "Epoch 15/24\n",
            "266/266 [==============================] - 1s 3ms/step - loss: 2.2850 - accuracy: 0.3267 - val_loss: 2.4949 - val_accuracy: 0.2820\n",
            "Epoch 16/24\n",
            "266/266 [==============================] - 1s 3ms/step - loss: 2.3003 - accuracy: 0.3278 - val_loss: 2.6805 - val_accuracy: 0.2327\n",
            "Epoch 17/24\n",
            "266/266 [==============================] - 1s 3ms/step - loss: 2.2905 - accuracy: 0.3291 - val_loss: 2.5011 - val_accuracy: 0.2800\n",
            "Epoch 18/24\n",
            "266/266 [==============================] - 1s 3ms/step - loss: 2.2637 - accuracy: 0.3399 - val_loss: 2.5214 - val_accuracy: 0.2753\n",
            "Epoch 19/24\n",
            "266/266 [==============================] - 1s 3ms/step - loss: 2.2580 - accuracy: 0.3345 - val_loss: 2.6131 - val_accuracy: 0.2807\n",
            "Epoch 20/24\n",
            "266/266 [==============================] - 1s 3ms/step - loss: 2.2530 - accuracy: 0.3416 - val_loss: 2.6129 - val_accuracy: 0.2580\n",
            "Epoch 21/24\n",
            "266/266 [==============================] - 1s 3ms/step - loss: 2.2352 - accuracy: 0.3429 - val_loss: 2.5459 - val_accuracy: 0.2720\n",
            "Epoch 22/24\n",
            "266/266 [==============================] - 1s 3ms/step - loss: 2.2416 - accuracy: 0.3474 - val_loss: 2.6606 - val_accuracy: 0.2260\n",
            "Epoch 23/24\n",
            "266/266 [==============================] - 1s 3ms/step - loss: 2.2352 - accuracy: 0.3469 - val_loss: 2.4904 - val_accuracy: 0.2653\n",
            "Epoch 24/24\n",
            "266/266 [==============================] - 1s 3ms/step - loss: 2.2106 - accuracy: 0.3546 - val_loss: 2.5544 - val_accuracy: 0.2780\n",
            "Epoch 1/20\n",
            "266/266 [==============================] - 1s 3ms/step - loss: 2.9004 - accuracy: 0.1687 - val_loss: 2.6610 - val_accuracy: 0.1927\n",
            "Epoch 2/20\n",
            "266/266 [==============================] - 1s 3ms/step - loss: 2.5804 - accuracy: 0.2388 - val_loss: 2.5899 - val_accuracy: 0.2227\n",
            "Epoch 3/20\n",
            "266/266 [==============================] - 1s 3ms/step - loss: 2.5128 - accuracy: 0.2655 - val_loss: 2.5659 - val_accuracy: 0.2180\n",
            "Epoch 4/20\n",
            "266/266 [==============================] - 1s 3ms/step - loss: 2.4710 - accuracy: 0.2831 - val_loss: 2.5375 - val_accuracy: 0.2400\n",
            "Epoch 5/20\n",
            "266/266 [==============================] - 1s 3ms/step - loss: 2.4456 - accuracy: 0.2862 - val_loss: 2.5194 - val_accuracy: 0.2533\n",
            "Epoch 6/20\n",
            "266/266 [==============================] - 1s 3ms/step - loss: 2.4224 - accuracy: 0.2944 - val_loss: 2.5142 - val_accuracy: 0.2660\n",
            "Epoch 7/20\n",
            "266/266 [==============================] - 1s 3ms/step - loss: 2.4046 - accuracy: 0.2995 - val_loss: 2.4992 - val_accuracy: 0.2693\n",
            "Epoch 8/20\n",
            "266/266 [==============================] - 1s 3ms/step - loss: 2.3884 - accuracy: 0.3011 - val_loss: 2.4942 - val_accuracy: 0.2767\n",
            "Epoch 9/20\n",
            "266/266 [==============================] - 1s 3ms/step - loss: 2.3761 - accuracy: 0.3125 - val_loss: 2.4836 - val_accuracy: 0.2793\n",
            "Epoch 10/20\n",
            "266/266 [==============================] - 1s 3ms/step - loss: 2.3677 - accuracy: 0.3136 - val_loss: 2.4762 - val_accuracy: 0.2820\n",
            "Epoch 11/20\n",
            "266/266 [==============================] - 1s 3ms/step - loss: 2.3548 - accuracy: 0.3151 - val_loss: 2.4729 - val_accuracy: 0.2760\n",
            "Epoch 12/20\n",
            "266/266 [==============================] - 1s 3ms/step - loss: 2.3480 - accuracy: 0.3202 - val_loss: 2.4575 - val_accuracy: 0.2853\n",
            "Epoch 13/20\n",
            "266/266 [==============================] - 1s 3ms/step - loss: 2.3378 - accuracy: 0.3215 - val_loss: 2.4666 - val_accuracy: 0.2827\n",
            "Epoch 14/20\n",
            "266/266 [==============================] - 1s 2ms/step - loss: 2.3331 - accuracy: 0.3252 - val_loss: 2.4524 - val_accuracy: 0.2800\n",
            "Epoch 15/20\n",
            "266/266 [==============================] - 1s 3ms/step - loss: 2.3247 - accuracy: 0.3259 - val_loss: 2.4556 - val_accuracy: 0.2953\n",
            "Epoch 16/20\n",
            "266/266 [==============================] - 1s 2ms/step - loss: 2.3190 - accuracy: 0.3278 - val_loss: 2.4465 - val_accuracy: 0.2893\n",
            "Epoch 17/20\n",
            "266/266 [==============================] - 1s 2ms/step - loss: 2.3098 - accuracy: 0.3278 - val_loss: 2.4513 - val_accuracy: 0.2920\n",
            "Epoch 18/20\n",
            "266/266 [==============================] - 1s 2ms/step - loss: 2.3062 - accuracy: 0.3305 - val_loss: 2.4570 - val_accuracy: 0.2847\n",
            "Epoch 19/20\n",
            "266/266 [==============================] - 1s 3ms/step - loss: 2.3015 - accuracy: 0.3334 - val_loss: 2.4424 - val_accuracy: 0.2867\n",
            "Epoch 20/20\n",
            "266/266 [==============================] - 1s 3ms/step - loss: 2.2965 - accuracy: 0.3331 - val_loss: 2.4641 - val_accuracy: 0.2873\n"
          ],
          "name": "stdout"
        }
      ]
    },
    {
      "cell_type": "code",
      "metadata": {
        "id": "o2auRWSZMAlT",
        "colab_type": "code",
        "colab": {
          "base_uri": "https://localhost:8080/",
          "height": 1000
        },
        "outputId": "4429eae4-d667-4e80-fbe4-e56fff191857"
      },
      "source": [
        "model_mlp1.compile(optimizer='adam',\n",
        "                  loss='sparse_categorical_crossentropy',\n",
        "                  metrics=['accuracy'])\n",
        "\n",
        "\n",
        "history_mlp1 = model_mlp1.fit(x_train, y_train, epochs=48, \n",
        "                    validation_data=(x_val, y_val))\n",
        "\n",
        "model_mlp1.save('mlp1.h5')\n",
        "\n",
        "\n",
        "model_mlp2.compile(optimizer='sgd',\n",
        "              loss='sparse_categorical_crossentropy',\n",
        "              metrics=['accuracy'])\n",
        "\n",
        "history_mlp2 = model_mlp2.fit(x_train, y_train, epochs=57, \n",
        "                    validation_data=(x_val, y_val))\n",
        "\n",
        "model_mlp2.save('mlp2.h5')"
      ],
      "execution_count": null,
      "outputs": [
        {
          "output_type": "stream",
          "text": [
            "Epoch 1/48\n",
            "266/266 [==============================] - 1s 3ms/step - loss: 2.8301 - accuracy: 0.1615 - val_loss: 2.6368 - val_accuracy: 0.2053\n",
            "Epoch 2/48\n",
            "266/266 [==============================] - 1s 3ms/step - loss: 2.5544 - accuracy: 0.2325 - val_loss: 2.4885 - val_accuracy: 0.2513\n",
            "Epoch 3/48\n",
            "266/266 [==============================] - 1s 3ms/step - loss: 2.4704 - accuracy: 0.2571 - val_loss: 2.4534 - val_accuracy: 0.2867\n",
            "Epoch 4/48\n",
            "266/266 [==============================] - 1s 3ms/step - loss: 2.4117 - accuracy: 0.2740 - val_loss: 2.4655 - val_accuracy: 0.2673\n",
            "Epoch 5/48\n",
            "266/266 [==============================] - 1s 3ms/step - loss: 2.3716 - accuracy: 0.2899 - val_loss: 2.4172 - val_accuracy: 0.2933\n",
            "Epoch 6/48\n",
            "266/266 [==============================] - 1s 3ms/step - loss: 2.3536 - accuracy: 0.2896 - val_loss: 2.4679 - val_accuracy: 0.2727\n",
            "Epoch 7/48\n",
            "266/266 [==============================] - 1s 3ms/step - loss: 2.3244 - accuracy: 0.3025 - val_loss: 2.4261 - val_accuracy: 0.2793\n",
            "Epoch 8/48\n",
            "266/266 [==============================] - 1s 3ms/step - loss: 2.2920 - accuracy: 0.3113 - val_loss: 2.4531 - val_accuracy: 0.2720\n",
            "Epoch 9/48\n",
            "266/266 [==============================] - 1s 3ms/step - loss: 2.2840 - accuracy: 0.3185 - val_loss: 2.4188 - val_accuracy: 0.2787\n",
            "Epoch 10/48\n",
            "266/266 [==============================] - 1s 3ms/step - loss: 2.2690 - accuracy: 0.3180 - val_loss: 2.3904 - val_accuracy: 0.2773\n",
            "Epoch 11/48\n",
            "266/266 [==============================] - 1s 3ms/step - loss: 2.2431 - accuracy: 0.3252 - val_loss: 2.3961 - val_accuracy: 0.3067\n",
            "Epoch 12/48\n",
            "266/266 [==============================] - 1s 3ms/step - loss: 2.2363 - accuracy: 0.3258 - val_loss: 2.4240 - val_accuracy: 0.2787\n",
            "Epoch 13/48\n",
            "266/266 [==============================] - 1s 3ms/step - loss: 2.2034 - accuracy: 0.3382 - val_loss: 2.4621 - val_accuracy: 0.2840\n",
            "Epoch 14/48\n",
            "266/266 [==============================] - 1s 3ms/step - loss: 2.2057 - accuracy: 0.3369 - val_loss: 2.3210 - val_accuracy: 0.3193\n",
            "Epoch 15/48\n",
            "266/266 [==============================] - 1s 3ms/step - loss: 2.1953 - accuracy: 0.3358 - val_loss: 2.4273 - val_accuracy: 0.2900\n",
            "Epoch 16/48\n",
            "266/266 [==============================] - 1s 3ms/step - loss: 2.1768 - accuracy: 0.3401 - val_loss: 2.3293 - val_accuracy: 0.3207\n",
            "Epoch 17/48\n",
            "266/266 [==============================] - 1s 3ms/step - loss: 2.1856 - accuracy: 0.3407 - val_loss: 2.4892 - val_accuracy: 0.2767\n",
            "Epoch 18/48\n",
            "266/266 [==============================] - 1s 3ms/step - loss: 2.1618 - accuracy: 0.3536 - val_loss: 2.3737 - val_accuracy: 0.3173\n",
            "Epoch 19/48\n",
            "266/266 [==============================] - 1s 3ms/step - loss: 2.1356 - accuracy: 0.3555 - val_loss: 2.3595 - val_accuracy: 0.3087\n",
            "Epoch 20/48\n",
            "266/266 [==============================] - 1s 3ms/step - loss: 2.1521 - accuracy: 0.3492 - val_loss: 2.6338 - val_accuracy: 0.2533\n",
            "Epoch 21/48\n",
            "266/266 [==============================] - 1s 3ms/step - loss: 2.1413 - accuracy: 0.3535 - val_loss: 2.3698 - val_accuracy: 0.3033\n",
            "Epoch 22/48\n",
            "266/266 [==============================] - 1s 3ms/step - loss: 2.1103 - accuracy: 0.3654 - val_loss: 2.3414 - val_accuracy: 0.3240\n",
            "Epoch 23/48\n",
            "266/266 [==============================] - 1s 3ms/step - loss: 2.1072 - accuracy: 0.3635 - val_loss: 2.3551 - val_accuracy: 0.3127\n",
            "Epoch 24/48\n",
            "266/266 [==============================] - 1s 3ms/step - loss: 2.1174 - accuracy: 0.3615 - val_loss: 2.3548 - val_accuracy: 0.3120\n",
            "Epoch 25/48\n",
            "266/266 [==============================] - 1s 3ms/step - loss: 2.0865 - accuracy: 0.3673 - val_loss: 2.4249 - val_accuracy: 0.3153\n",
            "Epoch 26/48\n",
            "266/266 [==============================] - 1s 3ms/step - loss: 2.0825 - accuracy: 0.3672 - val_loss: 2.3857 - val_accuracy: 0.3173\n",
            "Epoch 27/48\n",
            "266/266 [==============================] - 1s 3ms/step - loss: 2.0674 - accuracy: 0.3740 - val_loss: 2.4128 - val_accuracy: 0.3107\n",
            "Epoch 28/48\n",
            "266/266 [==============================] - 1s 3ms/step - loss: 2.0508 - accuracy: 0.3755 - val_loss: 2.4372 - val_accuracy: 0.3113\n",
            "Epoch 29/48\n",
            "266/266 [==============================] - 1s 3ms/step - loss: 2.0475 - accuracy: 0.3784 - val_loss: 2.5284 - val_accuracy: 0.2580\n",
            "Epoch 30/48\n",
            "266/266 [==============================] - 1s 3ms/step - loss: 2.0588 - accuracy: 0.3767 - val_loss: 2.4052 - val_accuracy: 0.2987\n",
            "Epoch 31/48\n",
            "266/266 [==============================] - 1s 3ms/step - loss: 2.0319 - accuracy: 0.3871 - val_loss: 2.4539 - val_accuracy: 0.3013\n",
            "Epoch 32/48\n",
            "266/266 [==============================] - 1s 3ms/step - loss: 2.0315 - accuracy: 0.3781 - val_loss: 2.4051 - val_accuracy: 0.3047\n",
            "Epoch 33/48\n",
            "266/266 [==============================] - 1s 3ms/step - loss: 2.0162 - accuracy: 0.3928 - val_loss: 2.4145 - val_accuracy: 0.3107\n",
            "Epoch 34/48\n",
            "266/266 [==============================] - 1s 3ms/step - loss: 2.0005 - accuracy: 0.3944 - val_loss: 2.5189 - val_accuracy: 0.2953\n",
            "Epoch 35/48\n",
            "266/266 [==============================] - 1s 3ms/step - loss: 2.0084 - accuracy: 0.3939 - val_loss: 2.4548 - val_accuracy: 0.2787\n",
            "Epoch 36/48\n",
            "266/266 [==============================] - 1s 3ms/step - loss: 1.9879 - accuracy: 0.3994 - val_loss: 2.4984 - val_accuracy: 0.2907\n",
            "Epoch 37/48\n",
            "266/266 [==============================] - 1s 3ms/step - loss: 1.9935 - accuracy: 0.3982 - val_loss: 2.5171 - val_accuracy: 0.2980\n",
            "Epoch 38/48\n",
            "266/266 [==============================] - 1s 3ms/step - loss: 1.9839 - accuracy: 0.3966 - val_loss: 2.5533 - val_accuracy: 0.2847\n",
            "Epoch 39/48\n",
            "266/266 [==============================] - 1s 3ms/step - loss: 1.9793 - accuracy: 0.4044 - val_loss: 2.4223 - val_accuracy: 0.3107\n",
            "Epoch 40/48\n",
            "266/266 [==============================] - 1s 3ms/step - loss: 1.9720 - accuracy: 0.4016 - val_loss: 2.4270 - val_accuracy: 0.3087\n",
            "Epoch 41/48\n",
            "266/266 [==============================] - 1s 3ms/step - loss: 1.9588 - accuracy: 0.3994 - val_loss: 2.4762 - val_accuracy: 0.2933\n",
            "Epoch 42/48\n",
            "266/266 [==============================] - 1s 3ms/step - loss: 1.9491 - accuracy: 0.4041 - val_loss: 2.4380 - val_accuracy: 0.3153\n",
            "Epoch 43/48\n",
            "266/266 [==============================] - 1s 3ms/step - loss: 1.9474 - accuracy: 0.4029 - val_loss: 2.4510 - val_accuracy: 0.3120\n",
            "Epoch 44/48\n",
            "266/266 [==============================] - 1s 3ms/step - loss: 1.9587 - accuracy: 0.3981 - val_loss: 2.4154 - val_accuracy: 0.3240\n",
            "Epoch 45/48\n",
            "266/266 [==============================] - 1s 3ms/step - loss: 1.9242 - accuracy: 0.4139 - val_loss: 2.6204 - val_accuracy: 0.2747\n",
            "Epoch 46/48\n",
            "266/266 [==============================] - 1s 3ms/step - loss: 1.9365 - accuracy: 0.4128 - val_loss: 2.4735 - val_accuracy: 0.3007\n",
            "Epoch 47/48\n",
            "266/266 [==============================] - 1s 3ms/step - loss: 1.9179 - accuracy: 0.4121 - val_loss: 2.5189 - val_accuracy: 0.2913\n",
            "Epoch 48/48\n",
            "266/266 [==============================] - 1s 3ms/step - loss: 1.9256 - accuracy: 0.4087 - val_loss: 2.5469 - val_accuracy: 0.2933\n",
            "Epoch 1/57\n",
            "266/266 [==============================] - 1s 3ms/step - loss: 2.7693 - accuracy: 0.1596 - val_loss: 2.6217 - val_accuracy: 0.2160\n",
            "Epoch 2/57\n",
            "266/266 [==============================] - 1s 3ms/step - loss: 2.5370 - accuracy: 0.2487 - val_loss: 2.5226 - val_accuracy: 0.2287\n",
            "Epoch 3/57\n",
            "266/266 [==============================] - 1s 3ms/step - loss: 2.4370 - accuracy: 0.2809 - val_loss: 2.4924 - val_accuracy: 0.2613\n",
            "Epoch 4/57\n",
            "266/266 [==============================] - 1s 3ms/step - loss: 2.3633 - accuracy: 0.3098 - val_loss: 2.5036 - val_accuracy: 0.2673\n",
            "Epoch 5/57\n",
            "266/266 [==============================] - 1s 3ms/step - loss: 2.3090 - accuracy: 0.3161 - val_loss: 2.4564 - val_accuracy: 0.2593\n",
            "Epoch 6/57\n",
            "266/266 [==============================] - 1s 3ms/step - loss: 2.2611 - accuracy: 0.3324 - val_loss: 2.3531 - val_accuracy: 0.2973\n",
            "Epoch 7/57\n",
            "266/266 [==============================] - 1s 3ms/step - loss: 2.2171 - accuracy: 0.3468 - val_loss: 2.3533 - val_accuracy: 0.3073\n",
            "Epoch 8/57\n",
            "266/266 [==============================] - 1s 3ms/step - loss: 2.1797 - accuracy: 0.3542 - val_loss: 2.3808 - val_accuracy: 0.2873\n",
            "Epoch 9/57\n",
            "266/266 [==============================] - 1s 3ms/step - loss: 2.1458 - accuracy: 0.3693 - val_loss: 2.3397 - val_accuracy: 0.3140\n",
            "Epoch 10/57\n",
            "266/266 [==============================] - 1s 3ms/step - loss: 2.1068 - accuracy: 0.3773 - val_loss: 2.2688 - val_accuracy: 0.3247\n",
            "Epoch 11/57\n",
            "266/266 [==============================] - 1s 3ms/step - loss: 2.0775 - accuracy: 0.3852 - val_loss: 2.2836 - val_accuracy: 0.3313\n",
            "Epoch 12/57\n",
            "266/266 [==============================] - 1s 3ms/step - loss: 2.0515 - accuracy: 0.3953 - val_loss: 2.3268 - val_accuracy: 0.3153\n",
            "Epoch 13/57\n",
            "266/266 [==============================] - 1s 3ms/step - loss: 2.0152 - accuracy: 0.4055 - val_loss: 2.2795 - val_accuracy: 0.3307\n",
            "Epoch 14/57\n",
            "266/266 [==============================] - 1s 3ms/step - loss: 1.9877 - accuracy: 0.4101 - val_loss: 2.3504 - val_accuracy: 0.2953\n",
            "Epoch 15/57\n",
            "266/266 [==============================] - 1s 3ms/step - loss: 1.9512 - accuracy: 0.4228 - val_loss: 2.2619 - val_accuracy: 0.3307\n",
            "Epoch 16/57\n",
            "266/266 [==============================] - 1s 3ms/step - loss: 1.9264 - accuracy: 0.4272 - val_loss: 2.3143 - val_accuracy: 0.3207\n",
            "Epoch 17/57\n",
            "266/266 [==============================] - 1s 3ms/step - loss: 1.8985 - accuracy: 0.4362 - val_loss: 2.2300 - val_accuracy: 0.3447\n",
            "Epoch 18/57\n",
            "266/266 [==============================] - 1s 3ms/step - loss: 1.8650 - accuracy: 0.4481 - val_loss: 2.3225 - val_accuracy: 0.3233\n",
            "Epoch 19/57\n",
            "266/266 [==============================] - 1s 3ms/step - loss: 1.8443 - accuracy: 0.4501 - val_loss: 2.1797 - val_accuracy: 0.3660\n",
            "Epoch 20/57\n",
            "266/266 [==============================] - 1s 3ms/step - loss: 1.8126 - accuracy: 0.4587 - val_loss: 2.1440 - val_accuracy: 0.3687\n",
            "Epoch 21/57\n",
            "266/266 [==============================] - 1s 3ms/step - loss: 1.7875 - accuracy: 0.4673 - val_loss: 2.3515 - val_accuracy: 0.3147\n",
            "Epoch 22/57\n",
            "266/266 [==============================] - 1s 3ms/step - loss: 1.7576 - accuracy: 0.4807 - val_loss: 2.2438 - val_accuracy: 0.3473\n",
            "Epoch 23/57\n",
            "266/266 [==============================] - 1s 3ms/step - loss: 1.7384 - accuracy: 0.4815 - val_loss: 2.2426 - val_accuracy: 0.3593\n",
            "Epoch 24/57\n",
            "266/266 [==============================] - 1s 3ms/step - loss: 1.7172 - accuracy: 0.4886 - val_loss: 2.2062 - val_accuracy: 0.3627\n",
            "Epoch 25/57\n",
            "266/266 [==============================] - 1s 3ms/step - loss: 1.6815 - accuracy: 0.5039 - val_loss: 2.2617 - val_accuracy: 0.3413\n",
            "Epoch 26/57\n",
            "266/266 [==============================] - 1s 3ms/step - loss: 1.6586 - accuracy: 0.5024 - val_loss: 2.3090 - val_accuracy: 0.3487\n",
            "Epoch 27/57\n",
            "266/266 [==============================] - 1s 3ms/step - loss: 1.6391 - accuracy: 0.5092 - val_loss: 2.2963 - val_accuracy: 0.3567\n",
            "Epoch 28/57\n",
            "266/266 [==============================] - 1s 3ms/step - loss: 1.6039 - accuracy: 0.5213 - val_loss: 2.2335 - val_accuracy: 0.3493\n",
            "Epoch 29/57\n",
            "266/266 [==============================] - 1s 3ms/step - loss: 1.5785 - accuracy: 0.5349 - val_loss: 2.3058 - val_accuracy: 0.3393\n",
            "Epoch 30/57\n",
            "266/266 [==============================] - 1s 3ms/step - loss: 1.5532 - accuracy: 0.5362 - val_loss: 2.2362 - val_accuracy: 0.3740\n",
            "Epoch 31/57\n",
            "266/266 [==============================] - 1s 3ms/step - loss: 1.5396 - accuracy: 0.5378 - val_loss: 2.2403 - val_accuracy: 0.3660\n",
            "Epoch 32/57\n",
            "266/266 [==============================] - 1s 3ms/step - loss: 1.4961 - accuracy: 0.5538 - val_loss: 2.3234 - val_accuracy: 0.3560\n",
            "Epoch 33/57\n",
            "266/266 [==============================] - 1s 3ms/step - loss: 1.4689 - accuracy: 0.5605 - val_loss: 2.3210 - val_accuracy: 0.3433\n",
            "Epoch 34/57\n",
            "266/266 [==============================] - 1s 3ms/step - loss: 1.4599 - accuracy: 0.5660 - val_loss: 2.1889 - val_accuracy: 0.3907\n",
            "Epoch 35/57\n",
            "266/266 [==============================] - 1s 3ms/step - loss: 1.4280 - accuracy: 0.5691 - val_loss: 2.4246 - val_accuracy: 0.3267\n",
            "Epoch 36/57\n",
            "266/266 [==============================] - 1s 3ms/step - loss: 1.3963 - accuracy: 0.5841 - val_loss: 2.3004 - val_accuracy: 0.3587\n",
            "Epoch 37/57\n",
            "266/266 [==============================] - 1s 3ms/step - loss: 1.3692 - accuracy: 0.5914 - val_loss: 2.4049 - val_accuracy: 0.3493\n",
            "Epoch 38/57\n",
            "266/266 [==============================] - 1s 3ms/step - loss: 1.3512 - accuracy: 0.5980 - val_loss: 2.6998 - val_accuracy: 0.2967\n",
            "Epoch 39/57\n",
            "266/266 [==============================] - 1s 3ms/step - loss: 1.3287 - accuracy: 0.6068 - val_loss: 2.2677 - val_accuracy: 0.3693\n",
            "Epoch 40/57\n",
            "266/266 [==============================] - 1s 3ms/step - loss: 1.2973 - accuracy: 0.6162 - val_loss: 2.4204 - val_accuracy: 0.3420\n",
            "Epoch 41/57\n",
            "266/266 [==============================] - 1s 3ms/step - loss: 1.2715 - accuracy: 0.6219 - val_loss: 2.4296 - val_accuracy: 0.3480\n",
            "Epoch 42/57\n",
            "266/266 [==============================] - 1s 3ms/step - loss: 1.2487 - accuracy: 0.6235 - val_loss: 2.3693 - val_accuracy: 0.3653\n",
            "Epoch 43/57\n",
            "266/266 [==============================] - 1s 3ms/step - loss: 1.2329 - accuracy: 0.6325 - val_loss: 2.4616 - val_accuracy: 0.3360\n",
            "Epoch 44/57\n",
            "266/266 [==============================] - 1s 3ms/step - loss: 1.2046 - accuracy: 0.6399 - val_loss: 2.5001 - val_accuracy: 0.3613\n",
            "Epoch 45/57\n",
            "266/266 [==============================] - 1s 3ms/step - loss: 1.1794 - accuracy: 0.6467 - val_loss: 2.3863 - val_accuracy: 0.3733\n",
            "Epoch 46/57\n",
            "266/266 [==============================] - 1s 3ms/step - loss: 1.1614 - accuracy: 0.6529 - val_loss: 2.4926 - val_accuracy: 0.3400\n",
            "Epoch 47/57\n",
            "266/266 [==============================] - 1s 3ms/step - loss: 1.1325 - accuracy: 0.6605 - val_loss: 2.4551 - val_accuracy: 0.3580\n",
            "Epoch 48/57\n",
            "266/266 [==============================] - 1s 3ms/step - loss: 1.1006 - accuracy: 0.6695 - val_loss: 2.4564 - val_accuracy: 0.3527\n",
            "Epoch 49/57\n",
            "266/266 [==============================] - 1s 3ms/step - loss: 1.0844 - accuracy: 0.6756 - val_loss: 2.6919 - val_accuracy: 0.3233\n",
            "Epoch 50/57\n",
            "266/266 [==============================] - 1s 3ms/step - loss: 1.0569 - accuracy: 0.6851 - val_loss: 2.4872 - val_accuracy: 0.3547\n",
            "Epoch 51/57\n",
            "266/266 [==============================] - 1s 3ms/step - loss: 1.0378 - accuracy: 0.6927 - val_loss: 2.4073 - val_accuracy: 0.3680\n",
            "Epoch 52/57\n",
            "266/266 [==============================] - 1s 3ms/step - loss: 1.0038 - accuracy: 0.7014 - val_loss: 2.4487 - val_accuracy: 0.3620\n",
            "Epoch 53/57\n",
            "266/266 [==============================] - 1s 3ms/step - loss: 0.9864 - accuracy: 0.7040 - val_loss: 2.7495 - val_accuracy: 0.3307\n",
            "Epoch 54/57\n",
            "266/266 [==============================] - 1s 3ms/step - loss: 0.9639 - accuracy: 0.7169 - val_loss: 2.5283 - val_accuracy: 0.3627\n",
            "Epoch 55/57\n",
            "266/266 [==============================] - 1s 3ms/step - loss: 0.9385 - accuracy: 0.7182 - val_loss: 2.5288 - val_accuracy: 0.3627\n",
            "Epoch 56/57\n",
            "266/266 [==============================] - 1s 3ms/step - loss: 0.9080 - accuracy: 0.7342 - val_loss: 2.8027 - val_accuracy: 0.3213\n",
            "Epoch 57/57\n",
            "266/266 [==============================] - 1s 3ms/step - loss: 0.9096 - accuracy: 0.7253 - val_loss: 2.6647 - val_accuracy: 0.3420\n"
          ],
          "name": "stdout"
        }
      ]
    },
    {
      "cell_type": "code",
      "metadata": {
        "id": "sA6UT9QC0a3V",
        "colab_type": "code",
        "colab": {
          "base_uri": "https://localhost:8080/",
          "height": 1000
        },
        "outputId": "7049f5db-34ec-42a0-9c27-6b73fb8fb11f"
      },
      "source": [
        "model_lenet1.compile(optimizer='adam',\n",
        "                  loss='sparse_categorical_crossentropy',\n",
        "                  metrics=['accuracy'])\n",
        "\n",
        "\n",
        "history_lenet1 = model_lenet1.fit(x_train, y_train, epochs=11, \n",
        "                    validation_data=(x_val, y_val))\n",
        "\n",
        "model_lenet1.save('lenet1.h5')\n",
        "\n",
        "\n",
        "\n",
        "model_lenet2.compile(optimizer='sgd',\n",
        "              loss='sparse_categorical_crossentropy',\n",
        "              metrics=['accuracy'])\n",
        "\n",
        "history_lenet2 = model_lenet2.fit(x_train, y_train, epochs=58, \n",
        "                    validation_data=(x_val, y_val))\n",
        "\n",
        "model_lenet2.save('lenet2.h5')"
      ],
      "execution_count": null,
      "outputs": [
        {
          "output_type": "stream",
          "text": [
            "Epoch 1/11\n",
            "266/266 [==============================] - 1s 5ms/step - loss: 2.4773 - accuracy: 0.2569 - val_loss: 2.2091 - val_accuracy: 0.3440\n",
            "Epoch 2/11\n",
            "266/266 [==============================] - 1s 4ms/step - loss: 2.0342 - accuracy: 0.3828 - val_loss: 2.0346 - val_accuracy: 0.3927\n",
            "Epoch 3/11\n",
            "266/266 [==============================] - 1s 4ms/step - loss: 1.8137 - accuracy: 0.4431 - val_loss: 1.9230 - val_accuracy: 0.4213\n",
            "Epoch 4/11\n",
            "266/266 [==============================] - 1s 4ms/step - loss: 1.6428 - accuracy: 0.4949 - val_loss: 1.8137 - val_accuracy: 0.4573\n",
            "Epoch 5/11\n",
            "266/266 [==============================] - 1s 4ms/step - loss: 1.4669 - accuracy: 0.5452 - val_loss: 1.8873 - val_accuracy: 0.4547\n",
            "Epoch 6/11\n",
            "266/266 [==============================] - 1s 3ms/step - loss: 1.2929 - accuracy: 0.5979 - val_loss: 1.8740 - val_accuracy: 0.4673\n",
            "Epoch 7/11\n",
            "266/266 [==============================] - 1s 3ms/step - loss: 1.1256 - accuracy: 0.6434 - val_loss: 1.8579 - val_accuracy: 0.4840\n",
            "Epoch 8/11\n",
            "266/266 [==============================] - 1s 3ms/step - loss: 0.9417 - accuracy: 0.7012 - val_loss: 1.9873 - val_accuracy: 0.4793\n",
            "Epoch 9/11\n",
            "266/266 [==============================] - 1s 4ms/step - loss: 0.7647 - accuracy: 0.7554 - val_loss: 2.1025 - val_accuracy: 0.4647\n",
            "Epoch 10/11\n",
            "266/266 [==============================] - 1s 4ms/step - loss: 0.6123 - accuracy: 0.8051 - val_loss: 2.3120 - val_accuracy: 0.4807\n",
            "Epoch 11/11\n",
            "266/266 [==============================] - 1s 3ms/step - loss: 0.4625 - accuracy: 0.8505 - val_loss: 2.5354 - val_accuracy: 0.4867\n",
            "Epoch 1/58\n",
            "266/266 [==============================] - 1s 4ms/step - loss: 2.9750 - accuracy: 0.0747 - val_loss: 2.9415 - val_accuracy: 0.1253\n",
            "Epoch 2/58\n",
            "266/266 [==============================] - 1s 3ms/step - loss: 2.8694 - accuracy: 0.1366 - val_loss: 2.8106 - val_accuracy: 0.1547\n",
            "Epoch 3/58\n",
            "266/266 [==============================] - 1s 3ms/step - loss: 2.6942 - accuracy: 0.1978 - val_loss: 2.6484 - val_accuracy: 0.2120\n",
            "Epoch 4/58\n",
            "266/266 [==============================] - 1s 3ms/step - loss: 2.5736 - accuracy: 0.2301 - val_loss: 2.5250 - val_accuracy: 0.2527\n",
            "Epoch 5/58\n",
            "266/266 [==============================] - 1s 3ms/step - loss: 2.4755 - accuracy: 0.2613 - val_loss: 2.5001 - val_accuracy: 0.2553\n",
            "Epoch 6/58\n",
            "266/266 [==============================] - 1s 3ms/step - loss: 2.3872 - accuracy: 0.2916 - val_loss: 2.3915 - val_accuracy: 0.2780\n",
            "Epoch 7/58\n",
            "266/266 [==============================] - 1s 4ms/step - loss: 2.3099 - accuracy: 0.3133 - val_loss: 2.3208 - val_accuracy: 0.3360\n",
            "Epoch 8/58\n",
            "266/266 [==============================] - 1s 4ms/step - loss: 2.2419 - accuracy: 0.3375 - val_loss: 2.4501 - val_accuracy: 0.2773\n",
            "Epoch 9/58\n",
            "266/266 [==============================] - 1s 4ms/step - loss: 2.1654 - accuracy: 0.3598 - val_loss: 2.2417 - val_accuracy: 0.3240\n",
            "Epoch 10/58\n",
            "266/266 [==============================] - 1s 4ms/step - loss: 2.1099 - accuracy: 0.3784 - val_loss: 2.1383 - val_accuracy: 0.3860\n",
            "Epoch 11/58\n",
            "266/266 [==============================] - 1s 4ms/step - loss: 2.0482 - accuracy: 0.3934 - val_loss: 2.0875 - val_accuracy: 0.4000\n",
            "Epoch 12/58\n",
            "266/266 [==============================] - 1s 4ms/step - loss: 2.0083 - accuracy: 0.4015 - val_loss: 2.1008 - val_accuracy: 0.3720\n",
            "Epoch 13/58\n",
            "266/266 [==============================] - 1s 4ms/step - loss: 1.9606 - accuracy: 0.4196 - val_loss: 2.0831 - val_accuracy: 0.3747\n",
            "Epoch 14/58\n",
            "266/266 [==============================] - 1s 4ms/step - loss: 1.9130 - accuracy: 0.4285 - val_loss: 1.9946 - val_accuracy: 0.4207\n",
            "Epoch 15/58\n",
            "266/266 [==============================] - 1s 4ms/step - loss: 1.8665 - accuracy: 0.4419 - val_loss: 2.0127 - val_accuracy: 0.3967\n",
            "Epoch 16/58\n",
            "266/266 [==============================] - 1s 3ms/step - loss: 1.8202 - accuracy: 0.4478 - val_loss: 1.9713 - val_accuracy: 0.4100\n",
            "Epoch 17/58\n",
            "266/266 [==============================] - 1s 3ms/step - loss: 1.7803 - accuracy: 0.4628 - val_loss: 1.9285 - val_accuracy: 0.4193\n",
            "Epoch 18/58\n",
            "266/266 [==============================] - 1s 4ms/step - loss: 1.7382 - accuracy: 0.4722 - val_loss: 1.9805 - val_accuracy: 0.4033\n",
            "Epoch 19/58\n",
            "266/266 [==============================] - 1s 3ms/step - loss: 1.7021 - accuracy: 0.4871 - val_loss: 1.9262 - val_accuracy: 0.4327\n",
            "Epoch 20/58\n",
            "266/266 [==============================] - 1s 4ms/step - loss: 1.6530 - accuracy: 0.5044 - val_loss: 1.9514 - val_accuracy: 0.4273\n",
            "Epoch 21/58\n",
            "266/266 [==============================] - 1s 4ms/step - loss: 1.6134 - accuracy: 0.5104 - val_loss: 1.9210 - val_accuracy: 0.4387\n",
            "Epoch 22/58\n",
            "266/266 [==============================] - 1s 3ms/step - loss: 1.5688 - accuracy: 0.5221 - val_loss: 1.9197 - val_accuracy: 0.4140\n",
            "Epoch 23/58\n",
            "266/266 [==============================] - 1s 3ms/step - loss: 1.5363 - accuracy: 0.5307 - val_loss: 1.9113 - val_accuracy: 0.4427\n",
            "Epoch 24/58\n",
            "266/266 [==============================] - 1s 3ms/step - loss: 1.4927 - accuracy: 0.5406 - val_loss: 2.0954 - val_accuracy: 0.4033\n",
            "Epoch 25/58\n",
            "266/266 [==============================] - 1s 3ms/step - loss: 1.4525 - accuracy: 0.5578 - val_loss: 1.8508 - val_accuracy: 0.4580\n",
            "Epoch 26/58\n",
            "266/266 [==============================] - 1s 3ms/step - loss: 1.4084 - accuracy: 0.5707 - val_loss: 1.8596 - val_accuracy: 0.4553\n",
            "Epoch 27/58\n",
            "266/266 [==============================] - 1s 3ms/step - loss: 1.3662 - accuracy: 0.5829 - val_loss: 1.8836 - val_accuracy: 0.4520\n",
            "Epoch 28/58\n",
            "266/266 [==============================] - 1s 3ms/step - loss: 1.3228 - accuracy: 0.5891 - val_loss: 1.8704 - val_accuracy: 0.4527\n",
            "Epoch 29/58\n",
            "266/266 [==============================] - 1s 3ms/step - loss: 1.2762 - accuracy: 0.6047 - val_loss: 1.9393 - val_accuracy: 0.4460\n",
            "Epoch 30/58\n",
            "266/266 [==============================] - 1s 3ms/step - loss: 1.2315 - accuracy: 0.6208 - val_loss: 1.9256 - val_accuracy: 0.4493\n",
            "Epoch 31/58\n",
            "266/266 [==============================] - 1s 3ms/step - loss: 1.1862 - accuracy: 0.6302 - val_loss: 1.9687 - val_accuracy: 0.4460\n",
            "Epoch 32/58\n",
            "266/266 [==============================] - 1s 3ms/step - loss: 1.1454 - accuracy: 0.6474 - val_loss: 1.9925 - val_accuracy: 0.4233\n",
            "Epoch 33/58\n",
            "266/266 [==============================] - 1s 3ms/step - loss: 1.1010 - accuracy: 0.6587 - val_loss: 1.9577 - val_accuracy: 0.4427\n",
            "Epoch 34/58\n",
            "266/266 [==============================] - 1s 3ms/step - loss: 1.0538 - accuracy: 0.6692 - val_loss: 1.9694 - val_accuracy: 0.4553\n",
            "Epoch 35/58\n",
            "266/266 [==============================] - 1s 4ms/step - loss: 1.0063 - accuracy: 0.6884 - val_loss: 1.9993 - val_accuracy: 0.4560\n",
            "Epoch 36/58\n",
            "266/266 [==============================] - 1s 3ms/step - loss: 0.9699 - accuracy: 0.6973 - val_loss: 2.0013 - val_accuracy: 0.4600\n",
            "Epoch 37/58\n",
            "266/266 [==============================] - 1s 3ms/step - loss: 0.9182 - accuracy: 0.7094 - val_loss: 2.1408 - val_accuracy: 0.4407\n",
            "Epoch 38/58\n",
            "266/266 [==============================] - 1s 4ms/step - loss: 0.8690 - accuracy: 0.7258 - val_loss: 2.1357 - val_accuracy: 0.4493\n",
            "Epoch 39/58\n",
            "266/266 [==============================] - 1s 4ms/step - loss: 0.8213 - accuracy: 0.7436 - val_loss: 2.0366 - val_accuracy: 0.4613\n",
            "Epoch 40/58\n",
            "266/266 [==============================] - 1s 3ms/step - loss: 0.7809 - accuracy: 0.7544 - val_loss: 2.1426 - val_accuracy: 0.4620\n",
            "Epoch 41/58\n",
            "266/266 [==============================] - 1s 3ms/step - loss: 0.7168 - accuracy: 0.7755 - val_loss: 2.4540 - val_accuracy: 0.4267\n",
            "Epoch 42/58\n",
            "266/266 [==============================] - 1s 3ms/step - loss: 0.6796 - accuracy: 0.7836 - val_loss: 2.2869 - val_accuracy: 0.4600\n",
            "Epoch 43/58\n",
            "266/266 [==============================] - 1s 3ms/step - loss: 0.6273 - accuracy: 0.8024 - val_loss: 2.3468 - val_accuracy: 0.4480\n",
            "Epoch 44/58\n",
            "266/266 [==============================] - 1s 3ms/step - loss: 0.5906 - accuracy: 0.8153 - val_loss: 2.2843 - val_accuracy: 0.4587\n",
            "Epoch 45/58\n",
            "266/266 [==============================] - 1s 3ms/step - loss: 0.5345 - accuracy: 0.8367 - val_loss: 2.4956 - val_accuracy: 0.4493\n",
            "Epoch 46/58\n",
            "266/266 [==============================] - 1s 3ms/step - loss: 0.5004 - accuracy: 0.8446 - val_loss: 2.6052 - val_accuracy: 0.4380\n",
            "Epoch 47/58\n",
            "266/266 [==============================] - 1s 3ms/step - loss: 0.4590 - accuracy: 0.8564 - val_loss: 2.5595 - val_accuracy: 0.4547\n",
            "Epoch 48/58\n",
            "266/266 [==============================] - 1s 3ms/step - loss: 0.4172 - accuracy: 0.8719 - val_loss: 2.8963 - val_accuracy: 0.4347\n",
            "Epoch 49/58\n",
            "266/266 [==============================] - 1s 3ms/step - loss: 0.3813 - accuracy: 0.8875 - val_loss: 2.6909 - val_accuracy: 0.4453\n",
            "Epoch 50/58\n",
            "266/266 [==============================] - 1s 3ms/step - loss: 0.3479 - accuracy: 0.8936 - val_loss: 2.6697 - val_accuracy: 0.4513\n",
            "Epoch 51/58\n",
            "266/266 [==============================] - 1s 3ms/step - loss: 0.3037 - accuracy: 0.9121 - val_loss: 2.7642 - val_accuracy: 0.4460\n",
            "Epoch 52/58\n",
            "266/266 [==============================] - 1s 3ms/step - loss: 0.2731 - accuracy: 0.9214 - val_loss: 3.0130 - val_accuracy: 0.4367\n",
            "Epoch 53/58\n",
            "266/266 [==============================] - 1s 3ms/step - loss: 0.2355 - accuracy: 0.9351 - val_loss: 2.8834 - val_accuracy: 0.4540\n",
            "Epoch 54/58\n",
            "266/266 [==============================] - 1s 4ms/step - loss: 0.1920 - accuracy: 0.9525 - val_loss: 3.2101 - val_accuracy: 0.4480\n",
            "Epoch 55/58\n",
            "266/266 [==============================] - 1s 3ms/step - loss: 0.1807 - accuracy: 0.9559 - val_loss: 3.1016 - val_accuracy: 0.4527\n",
            "Epoch 56/58\n",
            "266/266 [==============================] - 1s 4ms/step - loss: 0.1491 - accuracy: 0.9665 - val_loss: 3.1441 - val_accuracy: 0.4553\n",
            "Epoch 57/58\n",
            "266/266 [==============================] - 1s 3ms/step - loss: 0.1404 - accuracy: 0.9681 - val_loss: 3.3124 - val_accuracy: 0.4400\n",
            "Epoch 58/58\n",
            "266/266 [==============================] - 1s 3ms/step - loss: 0.1084 - accuracy: 0.9798 - val_loss: 3.2771 - val_accuracy: 0.4653\n"
          ],
          "name": "stdout"
        }
      ]
    },
    {
      "cell_type": "code",
      "metadata": {
        "id": "MQMTwzaF3s2S",
        "colab_type": "code",
        "colab": {
          "base_uri": "https://localhost:8080/",
          "height": 1000
        },
        "outputId": "a5aa2ccf-8edc-4b66-b7ae-a6db9b2cae3e"
      },
      "source": [
        "model_cnn11.compile(optimizer='adamax',\n",
        "                  loss='sparse_categorical_crossentropy',\n",
        "                  metrics=['accuracy'])\n",
        "\n",
        "\n",
        "history_cnn11 = model_cnn11.fit(x_train, y_train, epochs=57, \n",
        "                    validation_data=(x_val, y_val))\n",
        "\n",
        "model_cnn11.save('cnn11.h5')\n",
        "\n",
        "\n",
        "\n",
        "model_cnn12.compile(optimizer='adam',\n",
        "              loss='sparse_categorical_crossentropy',\n",
        "              metrics=['accuracy'])\n",
        "\n",
        "history_cnn12 = model_cnn12.fit(x_train, y_train, epochs=58, \n",
        "                    validation_data=(x_val, y_val))\n",
        "\n",
        "model_cnn12.save('cnn12.h5')\n"
      ],
      "execution_count": null,
      "outputs": [
        {
          "output_type": "stream",
          "text": [
            "Epoch 1/57\n",
            "266/266 [==============================] - 1s 4ms/step - loss: 2.7355 - accuracy: 0.1738 - val_loss: 2.5706 - val_accuracy: 0.2440\n",
            "Epoch 2/57\n",
            "266/266 [==============================] - 1s 3ms/step - loss: 2.4484 - accuracy: 0.2631 - val_loss: 2.4102 - val_accuracy: 0.2947\n",
            "Epoch 3/57\n",
            "266/266 [==============================] - 1s 3ms/step - loss: 2.3006 - accuracy: 0.3138 - val_loss: 2.3310 - val_accuracy: 0.3100\n",
            "Epoch 4/57\n",
            "266/266 [==============================] - 1s 4ms/step - loss: 2.1984 - accuracy: 0.3488 - val_loss: 2.2385 - val_accuracy: 0.3340\n",
            "Epoch 5/57\n",
            "266/266 [==============================] - 1s 4ms/step - loss: 2.1119 - accuracy: 0.3731 - val_loss: 2.2035 - val_accuracy: 0.3580\n",
            "Epoch 6/57\n",
            "266/266 [==============================] - 1s 4ms/step - loss: 2.0637 - accuracy: 0.3882 - val_loss: 2.1325 - val_accuracy: 0.3700\n",
            "Epoch 7/57\n",
            "266/266 [==============================] - 1s 4ms/step - loss: 1.9988 - accuracy: 0.4035 - val_loss: 2.1093 - val_accuracy: 0.3733\n",
            "Epoch 8/57\n",
            "266/266 [==============================] - 1s 4ms/step - loss: 1.9605 - accuracy: 0.4152 - val_loss: 2.0525 - val_accuracy: 0.3860\n",
            "Epoch 9/57\n",
            "266/266 [==============================] - 1s 4ms/step - loss: 1.9252 - accuracy: 0.4262 - val_loss: 2.0742 - val_accuracy: 0.3747\n",
            "Epoch 10/57\n",
            "266/266 [==============================] - 1s 4ms/step - loss: 1.8869 - accuracy: 0.4344 - val_loss: 2.0762 - val_accuracy: 0.3907\n",
            "Epoch 11/57\n",
            "266/266 [==============================] - 1s 4ms/step - loss: 1.8491 - accuracy: 0.4474 - val_loss: 2.0366 - val_accuracy: 0.4080\n",
            "Epoch 12/57\n",
            "266/266 [==============================] - 1s 4ms/step - loss: 1.8201 - accuracy: 0.4519 - val_loss: 2.0164 - val_accuracy: 0.4107\n",
            "Epoch 13/57\n",
            "266/266 [==============================] - 1s 3ms/step - loss: 1.7920 - accuracy: 0.4614 - val_loss: 1.9875 - val_accuracy: 0.4180\n",
            "Epoch 14/57\n",
            "266/266 [==============================] - 1s 3ms/step - loss: 1.7561 - accuracy: 0.4712 - val_loss: 1.9827 - val_accuracy: 0.4207\n",
            "Epoch 15/57\n",
            "266/266 [==============================] - 1s 4ms/step - loss: 1.7273 - accuracy: 0.4782 - val_loss: 2.0061 - val_accuracy: 0.4200\n",
            "Epoch 16/57\n",
            "266/266 [==============================] - 1s 4ms/step - loss: 1.6976 - accuracy: 0.4902 - val_loss: 1.9906 - val_accuracy: 0.4240\n",
            "Epoch 17/57\n",
            "266/266 [==============================] - 1s 4ms/step - loss: 1.6781 - accuracy: 0.4927 - val_loss: 1.9620 - val_accuracy: 0.4360\n",
            "Epoch 18/57\n",
            "266/266 [==============================] - 1s 4ms/step - loss: 1.6459 - accuracy: 0.5021 - val_loss: 1.9596 - val_accuracy: 0.4353\n",
            "Epoch 19/57\n",
            "266/266 [==============================] - 1s 4ms/step - loss: 1.6195 - accuracy: 0.5089 - val_loss: 1.9942 - val_accuracy: 0.4247\n",
            "Epoch 20/57\n",
            "266/266 [==============================] - 1s 4ms/step - loss: 1.6038 - accuracy: 0.5162 - val_loss: 1.9643 - val_accuracy: 0.4313\n",
            "Epoch 21/57\n",
            "266/266 [==============================] - 1s 3ms/step - loss: 1.5695 - accuracy: 0.5249 - val_loss: 2.0210 - val_accuracy: 0.4240\n",
            "Epoch 22/57\n",
            "266/266 [==============================] - 1s 3ms/step - loss: 1.5477 - accuracy: 0.5278 - val_loss: 1.9057 - val_accuracy: 0.4493\n",
            "Epoch 23/57\n",
            "266/266 [==============================] - 1s 3ms/step - loss: 1.5350 - accuracy: 0.5359 - val_loss: 1.9551 - val_accuracy: 0.4473\n",
            "Epoch 24/57\n",
            "266/266 [==============================] - 1s 4ms/step - loss: 1.5014 - accuracy: 0.5452 - val_loss: 1.9452 - val_accuracy: 0.4427\n",
            "Epoch 25/57\n",
            "266/266 [==============================] - 1s 4ms/step - loss: 1.4833 - accuracy: 0.5484 - val_loss: 1.9951 - val_accuracy: 0.4347\n",
            "Epoch 26/57\n",
            "266/266 [==============================] - 1s 3ms/step - loss: 1.4711 - accuracy: 0.5475 - val_loss: 1.9637 - val_accuracy: 0.4380\n",
            "Epoch 27/57\n",
            "266/266 [==============================] - 1s 4ms/step - loss: 1.4489 - accuracy: 0.5520 - val_loss: 1.9423 - val_accuracy: 0.4587\n",
            "Epoch 28/57\n",
            "266/266 [==============================] - 1s 4ms/step - loss: 1.4207 - accuracy: 0.5629 - val_loss: 2.0537 - val_accuracy: 0.4227\n",
            "Epoch 29/57\n",
            "266/266 [==============================] - 1s 4ms/step - loss: 1.4099 - accuracy: 0.5674 - val_loss: 1.9356 - val_accuracy: 0.4627\n",
            "Epoch 30/57\n",
            "266/266 [==============================] - 1s 4ms/step - loss: 1.3820 - accuracy: 0.5729 - val_loss: 1.9475 - val_accuracy: 0.4613\n",
            "Epoch 31/57\n",
            "266/266 [==============================] - 1s 4ms/step - loss: 1.3754 - accuracy: 0.5751 - val_loss: 1.9748 - val_accuracy: 0.4527\n",
            "Epoch 32/57\n",
            "266/266 [==============================] - 1s 4ms/step - loss: 1.3473 - accuracy: 0.5845 - val_loss: 1.9676 - val_accuracy: 0.4507\n",
            "Epoch 33/57\n",
            "266/266 [==============================] - 1s 4ms/step - loss: 1.3421 - accuracy: 0.5845 - val_loss: 2.0062 - val_accuracy: 0.4507\n",
            "Epoch 34/57\n",
            "266/266 [==============================] - 1s 4ms/step - loss: 1.3259 - accuracy: 0.5885 - val_loss: 2.0074 - val_accuracy: 0.4467\n",
            "Epoch 35/57\n",
            "266/266 [==============================] - 1s 4ms/step - loss: 1.3110 - accuracy: 0.5944 - val_loss: 1.9960 - val_accuracy: 0.4473\n",
            "Epoch 36/57\n",
            "266/266 [==============================] - 1s 4ms/step - loss: 1.2894 - accuracy: 0.5978 - val_loss: 2.0001 - val_accuracy: 0.4560\n",
            "Epoch 37/57\n",
            "266/266 [==============================] - 1s 4ms/step - loss: 1.2912 - accuracy: 0.5994 - val_loss: 2.0301 - val_accuracy: 0.4427\n",
            "Epoch 38/57\n",
            "266/266 [==============================] - 1s 4ms/step - loss: 1.2759 - accuracy: 0.5978 - val_loss: 2.1069 - val_accuracy: 0.4293\n",
            "Epoch 39/57\n",
            "266/266 [==============================] - 1s 4ms/step - loss: 1.2514 - accuracy: 0.6106 - val_loss: 2.0528 - val_accuracy: 0.4420\n",
            "Epoch 40/57\n",
            "266/266 [==============================] - 1s 4ms/step - loss: 1.2277 - accuracy: 0.6200 - val_loss: 2.0384 - val_accuracy: 0.4413\n",
            "Epoch 41/57\n",
            "266/266 [==============================] - 1s 4ms/step - loss: 1.2158 - accuracy: 0.6228 - val_loss: 2.0708 - val_accuracy: 0.4320\n",
            "Epoch 42/57\n",
            "266/266 [==============================] - 1s 4ms/step - loss: 1.2075 - accuracy: 0.6218 - val_loss: 2.1078 - val_accuracy: 0.4320\n",
            "Epoch 43/57\n",
            "266/266 [==============================] - 1s 3ms/step - loss: 1.1968 - accuracy: 0.6259 - val_loss: 2.1700 - val_accuracy: 0.4327\n",
            "Epoch 44/57\n",
            "266/266 [==============================] - 1s 3ms/step - loss: 1.1704 - accuracy: 0.6387 - val_loss: 2.1407 - val_accuracy: 0.4340\n",
            "Epoch 45/57\n",
            "266/266 [==============================] - 1s 4ms/step - loss: 1.1597 - accuracy: 0.6378 - val_loss: 2.0987 - val_accuracy: 0.4420\n",
            "Epoch 46/57\n",
            "266/266 [==============================] - 1s 4ms/step - loss: 1.1491 - accuracy: 0.6439 - val_loss: 2.2305 - val_accuracy: 0.4253\n",
            "Epoch 47/57\n",
            "266/266 [==============================] - 1s 4ms/step - loss: 1.1367 - accuracy: 0.6440 - val_loss: 2.1132 - val_accuracy: 0.4453\n",
            "Epoch 48/57\n",
            "266/266 [==============================] - 1s 3ms/step - loss: 1.1243 - accuracy: 0.6456 - val_loss: 2.2382 - val_accuracy: 0.4340\n",
            "Epoch 49/57\n",
            "266/266 [==============================] - 1s 4ms/step - loss: 1.1072 - accuracy: 0.6515 - val_loss: 2.1770 - val_accuracy: 0.4473\n",
            "Epoch 50/57\n",
            "266/266 [==============================] - 1s 4ms/step - loss: 1.0933 - accuracy: 0.6573 - val_loss: 2.1958 - val_accuracy: 0.4360\n",
            "Epoch 51/57\n",
            "266/266 [==============================] - 1s 4ms/step - loss: 1.0870 - accuracy: 0.6635 - val_loss: 2.2110 - val_accuracy: 0.4253\n",
            "Epoch 52/57\n",
            "266/266 [==============================] - 1s 4ms/step - loss: 1.0759 - accuracy: 0.6618 - val_loss: 2.2194 - val_accuracy: 0.4487\n",
            "Epoch 53/57\n",
            "266/266 [==============================] - 1s 4ms/step - loss: 1.0595 - accuracy: 0.6639 - val_loss: 2.2736 - val_accuracy: 0.4293\n",
            "Epoch 54/57\n",
            "266/266 [==============================] - 1s 4ms/step - loss: 1.0456 - accuracy: 0.6721 - val_loss: 2.2323 - val_accuracy: 0.4340\n",
            "Epoch 55/57\n",
            "266/266 [==============================] - 1s 4ms/step - loss: 1.0347 - accuracy: 0.6722 - val_loss: 2.2588 - val_accuracy: 0.4373\n",
            "Epoch 56/57\n",
            "266/266 [==============================] - 1s 4ms/step - loss: 1.0261 - accuracy: 0.6821 - val_loss: 2.2642 - val_accuracy: 0.4293\n",
            "Epoch 57/57\n",
            "266/266 [==============================] - 1s 4ms/step - loss: 1.0097 - accuracy: 0.6796 - val_loss: 2.2828 - val_accuracy: 0.4547\n",
            "Epoch 1/58\n",
            "266/266 [==============================] - 1s 4ms/step - loss: 2.6788 - accuracy: 0.1873 - val_loss: 2.4603 - val_accuracy: 0.2700\n",
            "Epoch 2/58\n",
            "266/266 [==============================] - 1s 4ms/step - loss: 2.2855 - accuracy: 0.3225 - val_loss: 2.2517 - val_accuracy: 0.3293\n",
            "Epoch 3/58\n",
            "266/266 [==============================] - 1s 3ms/step - loss: 2.1303 - accuracy: 0.3629 - val_loss: 2.1217 - val_accuracy: 0.3753\n",
            "Epoch 4/58\n",
            "266/266 [==============================] - 1s 3ms/step - loss: 2.0153 - accuracy: 0.3947 - val_loss: 2.1125 - val_accuracy: 0.3667\n",
            "Epoch 5/58\n",
            "266/266 [==============================] - 1s 4ms/step - loss: 1.9153 - accuracy: 0.4214 - val_loss: 2.1057 - val_accuracy: 0.3853\n",
            "Epoch 6/58\n",
            "266/266 [==============================] - 1s 3ms/step - loss: 1.8437 - accuracy: 0.4369 - val_loss: 2.0393 - val_accuracy: 0.3793\n",
            "Epoch 7/58\n",
            "266/266 [==============================] - 1s 3ms/step - loss: 1.7685 - accuracy: 0.4566 - val_loss: 1.9798 - val_accuracy: 0.4093\n",
            "Epoch 8/58\n",
            "266/266 [==============================] - 1s 4ms/step - loss: 1.6999 - accuracy: 0.4852 - val_loss: 1.9571 - val_accuracy: 0.4187\n",
            "Epoch 9/58\n",
            "266/266 [==============================] - 1s 4ms/step - loss: 1.6444 - accuracy: 0.4966 - val_loss: 1.9738 - val_accuracy: 0.4127\n",
            "Epoch 10/58\n",
            "266/266 [==============================] - 1s 4ms/step - loss: 1.5761 - accuracy: 0.5209 - val_loss: 1.9801 - val_accuracy: 0.4140\n",
            "Epoch 11/58\n",
            "266/266 [==============================] - 1s 3ms/step - loss: 1.5370 - accuracy: 0.5311 - val_loss: 1.9978 - val_accuracy: 0.4253\n",
            "Epoch 12/58\n",
            "266/266 [==============================] - 1s 3ms/step - loss: 1.4917 - accuracy: 0.5395 - val_loss: 2.0019 - val_accuracy: 0.4173\n",
            "Epoch 13/58\n",
            "266/266 [==============================] - 1s 4ms/step - loss: 1.4270 - accuracy: 0.5611 - val_loss: 2.0464 - val_accuracy: 0.4127\n",
            "Epoch 14/58\n",
            "266/266 [==============================] - 1s 4ms/step - loss: 1.3736 - accuracy: 0.5728 - val_loss: 2.0682 - val_accuracy: 0.4200\n",
            "Epoch 15/58\n",
            "266/266 [==============================] - 1s 4ms/step - loss: 1.3385 - accuracy: 0.5813 - val_loss: 2.1326 - val_accuracy: 0.4193\n",
            "Epoch 16/58\n",
            "266/266 [==============================] - 1s 4ms/step - loss: 1.3018 - accuracy: 0.5967 - val_loss: 2.1288 - val_accuracy: 0.4267\n",
            "Epoch 17/58\n",
            "266/266 [==============================] - 1s 4ms/step - loss: 1.2640 - accuracy: 0.6061 - val_loss: 2.2153 - val_accuracy: 0.4153\n",
            "Epoch 18/58\n",
            "266/266 [==============================] - 1s 3ms/step - loss: 1.2202 - accuracy: 0.6194 - val_loss: 2.1578 - val_accuracy: 0.4160\n",
            "Epoch 19/58\n",
            "266/266 [==============================] - 1s 3ms/step - loss: 1.1733 - accuracy: 0.6339 - val_loss: 2.2553 - val_accuracy: 0.4100\n",
            "Epoch 20/58\n",
            "266/266 [==============================] - 1s 3ms/step - loss: 1.1457 - accuracy: 0.6400 - val_loss: 2.3276 - val_accuracy: 0.4087\n",
            "Epoch 21/58\n",
            "266/266 [==============================] - 1s 3ms/step - loss: 1.1027 - accuracy: 0.6545 - val_loss: 2.3580 - val_accuracy: 0.4007\n",
            "Epoch 22/58\n",
            "266/266 [==============================] - 1s 3ms/step - loss: 1.0727 - accuracy: 0.6571 - val_loss: 2.4780 - val_accuracy: 0.3933\n",
            "Epoch 23/58\n",
            "266/266 [==============================] - 1s 4ms/step - loss: 1.0411 - accuracy: 0.6658 - val_loss: 2.4867 - val_accuracy: 0.3920\n",
            "Epoch 24/58\n",
            "266/266 [==============================] - 1s 4ms/step - loss: 1.0321 - accuracy: 0.6715 - val_loss: 2.5507 - val_accuracy: 0.4020\n",
            "Epoch 25/58\n",
            "266/266 [==============================] - 1s 3ms/step - loss: 0.9904 - accuracy: 0.6844 - val_loss: 2.6915 - val_accuracy: 0.3833\n",
            "Epoch 26/58\n",
            "266/266 [==============================] - 1s 3ms/step - loss: 0.9655 - accuracy: 0.6895 - val_loss: 2.5909 - val_accuracy: 0.4027\n",
            "Epoch 27/58\n",
            "266/266 [==============================] - 1s 3ms/step - loss: 0.9342 - accuracy: 0.7047 - val_loss: 2.7612 - val_accuracy: 0.3940\n",
            "Epoch 28/58\n",
            "266/266 [==============================] - 1s 3ms/step - loss: 0.9176 - accuracy: 0.7100 - val_loss: 2.6735 - val_accuracy: 0.3940\n",
            "Epoch 29/58\n",
            "266/266 [==============================] - 1s 3ms/step - loss: 0.8768 - accuracy: 0.7202 - val_loss: 2.7965 - val_accuracy: 0.3827\n",
            "Epoch 30/58\n",
            "266/266 [==============================] - 1s 3ms/step - loss: 0.8643 - accuracy: 0.7213 - val_loss: 2.8328 - val_accuracy: 0.3820\n",
            "Epoch 31/58\n",
            "266/266 [==============================] - 1s 4ms/step - loss: 0.8446 - accuracy: 0.7325 - val_loss: 2.9949 - val_accuracy: 0.3767\n",
            "Epoch 32/58\n",
            "266/266 [==============================] - 1s 4ms/step - loss: 0.8311 - accuracy: 0.7312 - val_loss: 2.8772 - val_accuracy: 0.3887\n",
            "Epoch 33/58\n",
            "266/266 [==============================] - 1s 4ms/step - loss: 0.7891 - accuracy: 0.7478 - val_loss: 2.9801 - val_accuracy: 0.3940\n",
            "Epoch 34/58\n",
            "266/266 [==============================] - 1s 4ms/step - loss: 0.8042 - accuracy: 0.7345 - val_loss: 3.0529 - val_accuracy: 0.3800\n",
            "Epoch 35/58\n",
            "266/266 [==============================] - 1s 4ms/step - loss: 0.7549 - accuracy: 0.7553 - val_loss: 3.2997 - val_accuracy: 0.3787\n",
            "Epoch 36/58\n",
            "266/266 [==============================] - 1s 3ms/step - loss: 0.7460 - accuracy: 0.7596 - val_loss: 3.2951 - val_accuracy: 0.3760\n",
            "Epoch 37/58\n",
            "266/266 [==============================] - 1s 3ms/step - loss: 0.7380 - accuracy: 0.7578 - val_loss: 3.3567 - val_accuracy: 0.3873\n",
            "Epoch 38/58\n",
            "266/266 [==============================] - 1s 3ms/step - loss: 0.7043 - accuracy: 0.7692 - val_loss: 3.3807 - val_accuracy: 0.3833\n",
            "Epoch 39/58\n",
            "266/266 [==============================] - 1s 3ms/step - loss: 0.6728 - accuracy: 0.7829 - val_loss: 3.4702 - val_accuracy: 0.3840\n",
            "Epoch 40/58\n",
            "266/266 [==============================] - 1s 4ms/step - loss: 0.6833 - accuracy: 0.7733 - val_loss: 3.7060 - val_accuracy: 0.3620\n",
            "Epoch 41/58\n",
            "266/266 [==============================] - 1s 3ms/step - loss: 0.6595 - accuracy: 0.7818 - val_loss: 3.7328 - val_accuracy: 0.3687\n",
            "Epoch 42/58\n",
            "266/266 [==============================] - 1s 4ms/step - loss: 0.6281 - accuracy: 0.7880 - val_loss: 4.0010 - val_accuracy: 0.3707\n",
            "Epoch 43/58\n",
            "266/266 [==============================] - 1s 3ms/step - loss: 0.6300 - accuracy: 0.7919 - val_loss: 3.8558 - val_accuracy: 0.3693\n",
            "Epoch 44/58\n",
            "266/266 [==============================] - 1s 3ms/step - loss: 0.6066 - accuracy: 0.7965 - val_loss: 3.9570 - val_accuracy: 0.3820\n",
            "Epoch 45/58\n",
            "266/266 [==============================] - 1s 3ms/step - loss: 0.5850 - accuracy: 0.8053 - val_loss: 4.0121 - val_accuracy: 0.3707\n",
            "Epoch 46/58\n",
            "266/266 [==============================] - 1s 4ms/step - loss: 0.5868 - accuracy: 0.8021 - val_loss: 4.0932 - val_accuracy: 0.3693\n",
            "Epoch 47/58\n",
            "266/266 [==============================] - 1s 3ms/step - loss: 0.5784 - accuracy: 0.8048 - val_loss: 4.1317 - val_accuracy: 0.3847\n",
            "Epoch 48/58\n",
            "266/266 [==============================] - 1s 3ms/step - loss: 0.5493 - accuracy: 0.8161 - val_loss: 4.2248 - val_accuracy: 0.3747\n",
            "Epoch 49/58\n",
            "266/266 [==============================] - 1s 3ms/step - loss: 0.5590 - accuracy: 0.8106 - val_loss: 4.4394 - val_accuracy: 0.3693\n",
            "Epoch 50/58\n",
            "266/266 [==============================] - 1s 4ms/step - loss: 0.5417 - accuracy: 0.8226 - val_loss: 4.4811 - val_accuracy: 0.3700\n",
            "Epoch 51/58\n",
            "266/266 [==============================] - 1s 3ms/step - loss: 0.5060 - accuracy: 0.8284 - val_loss: 4.6245 - val_accuracy: 0.3740\n",
            "Epoch 52/58\n",
            "266/266 [==============================] - 1s 3ms/step - loss: 0.5091 - accuracy: 0.8274 - val_loss: 4.6222 - val_accuracy: 0.3807\n",
            "Epoch 53/58\n",
            "266/266 [==============================] - 1s 3ms/step - loss: 0.5159 - accuracy: 0.8293 - val_loss: 4.8700 - val_accuracy: 0.3660\n",
            "Epoch 54/58\n",
            "266/266 [==============================] - 1s 4ms/step - loss: 0.4832 - accuracy: 0.8385 - val_loss: 4.8674 - val_accuracy: 0.3673\n",
            "Epoch 55/58\n",
            "266/266 [==============================] - 1s 4ms/step - loss: 0.5089 - accuracy: 0.8304 - val_loss: 4.9387 - val_accuracy: 0.3700\n",
            "Epoch 56/58\n",
            "266/266 [==============================] - 1s 3ms/step - loss: 0.4725 - accuracy: 0.8398 - val_loss: 5.1254 - val_accuracy: 0.3660\n",
            "Epoch 57/58\n",
            "266/266 [==============================] - 1s 4ms/step - loss: 0.4688 - accuracy: 0.8444 - val_loss: 5.0861 - val_accuracy: 0.3720\n",
            "Epoch 58/58\n",
            "266/266 [==============================] - 1s 3ms/step - loss: 0.4495 - accuracy: 0.8474 - val_loss: 5.1241 - val_accuracy: 0.3720\n"
          ],
          "name": "stdout"
        }
      ]
    },
    {
      "cell_type": "code",
      "metadata": {
        "id": "74aiS080AHj7",
        "colab_type": "code",
        "colab": {
          "base_uri": "https://localhost:8080/",
          "height": 1000
        },
        "outputId": "82c706a0-7a46-471a-f336-fb27d04ceeb5"
      },
      "source": [
        "model_cnn21.compile(optimizer='adam',\n",
        "                  loss='sparse_categorical_crossentropy',\n",
        "                  metrics=['accuracy'])\n",
        "\n",
        "\n",
        "history_cnn21 = model_cnn21.fit(x_train, y_train, epochs=10, \n",
        "                    validation_data=(x_test, y_test))\n",
        "\n",
        "model_cnn21.save('cnn21.h5')\n",
        "\n",
        "\n",
        "model_cnn22.compile(optimizer='sgd',\n",
        "              loss='sparse_categorical_crossentropy',\n",
        "              metrics=['accuracy'])\n",
        "\n",
        "history_cnn22 = model_cnn22.fit(x_train, y_train, epochs=37, \n",
        "                    validation_data=(x_val, y_val))\n",
        "\n",
        "model_cnn22.save('cnn22.h5')\n"
      ],
      "execution_count": null,
      "outputs": [
        {
          "output_type": "stream",
          "text": [
            "Epoch 1/10\n",
            "266/266 [==============================] - 5s 19ms/step - loss: 2.7571 - accuracy: 0.1638 - val_loss: 2.5075 - val_accuracy: 0.2490\n",
            "Epoch 2/10\n",
            "266/266 [==============================] - 4s 17ms/step - loss: 2.3067 - accuracy: 0.3069 - val_loss: 2.1742 - val_accuracy: 0.3305\n",
            "Epoch 3/10\n",
            "266/266 [==============================] - 4s 17ms/step - loss: 2.0391 - accuracy: 0.3873 - val_loss: 1.9613 - val_accuracy: 0.4165\n",
            "Epoch 4/10\n",
            "266/266 [==============================] - 4s 17ms/step - loss: 1.7504 - accuracy: 0.4682 - val_loss: 1.7346 - val_accuracy: 0.4810\n",
            "Epoch 5/10\n",
            "266/266 [==============================] - 5s 17ms/step - loss: 1.5115 - accuracy: 0.5367 - val_loss: 1.7116 - val_accuracy: 0.4760\n",
            "Epoch 6/10\n",
            "266/266 [==============================] - 5s 17ms/step - loss: 1.3798 - accuracy: 0.5754 - val_loss: 1.8198 - val_accuracy: 0.4760\n",
            "Epoch 7/10\n",
            "266/266 [==============================] - 5s 17ms/step - loss: 1.1050 - accuracy: 0.6632 - val_loss: 1.8477 - val_accuracy: 0.5220\n",
            "Epoch 8/10\n",
            "266/266 [==============================] - 5s 17ms/step - loss: 0.9418 - accuracy: 0.7121 - val_loss: 2.2031 - val_accuracy: 0.4735\n",
            "Epoch 9/10\n",
            "266/266 [==============================] - 5s 17ms/step - loss: 0.7530 - accuracy: 0.7647 - val_loss: 2.4082 - val_accuracy: 0.4810\n",
            "Epoch 10/10\n",
            "266/266 [==============================] - 5s 17ms/step - loss: 0.6608 - accuracy: 0.8004 - val_loss: 2.5789 - val_accuracy: 0.5045\n",
            "Epoch 1/37\n",
            "266/266 [==============================] - 5s 17ms/step - loss: 2.9841 - accuracy: 0.0734 - val_loss: 2.9618 - val_accuracy: 0.1233\n",
            "Epoch 2/37\n",
            "266/266 [==============================] - 4s 17ms/step - loss: 2.8809 - accuracy: 0.1266 - val_loss: 2.7617 - val_accuracy: 0.1673\n",
            "Epoch 3/37\n",
            "266/266 [==============================] - 4s 17ms/step - loss: 2.6632 - accuracy: 0.2011 - val_loss: 2.6368 - val_accuracy: 0.2100\n",
            "Epoch 4/37\n",
            "266/266 [==============================] - 4s 17ms/step - loss: 2.5249 - accuracy: 0.2449 - val_loss: 2.5033 - val_accuracy: 0.2653\n",
            "Epoch 5/37\n",
            "266/266 [==============================] - 4s 16ms/step - loss: 2.4102 - accuracy: 0.2885 - val_loss: 2.3925 - val_accuracy: 0.2907\n",
            "Epoch 6/37\n",
            "266/266 [==============================] - 4s 16ms/step - loss: 2.2988 - accuracy: 0.3158 - val_loss: 2.2727 - val_accuracy: 0.3413\n",
            "Epoch 7/37\n",
            "266/266 [==============================] - 4s 16ms/step - loss: 2.1849 - accuracy: 0.3494 - val_loss: 2.2507 - val_accuracy: 0.3280\n",
            "Epoch 8/37\n",
            "266/266 [==============================] - 4s 16ms/step - loss: 2.0735 - accuracy: 0.3844 - val_loss: 2.1219 - val_accuracy: 0.3733\n",
            "Epoch 9/37\n",
            "266/266 [==============================] - 4s 16ms/step - loss: 1.9791 - accuracy: 0.4104 - val_loss: 2.1151 - val_accuracy: 0.3687\n",
            "Epoch 10/37\n",
            "266/266 [==============================] - 4s 16ms/step - loss: 1.8760 - accuracy: 0.4414 - val_loss: 2.0353 - val_accuracy: 0.3953\n",
            "Epoch 11/37\n",
            "266/266 [==============================] - 4s 16ms/step - loss: 1.7771 - accuracy: 0.4715 - val_loss: 1.9047 - val_accuracy: 0.4247\n",
            "Epoch 12/37\n",
            "266/266 [==============================] - 4s 16ms/step - loss: 1.6738 - accuracy: 0.4926 - val_loss: 1.9315 - val_accuracy: 0.4240\n",
            "Epoch 13/37\n",
            "266/266 [==============================] - 4s 16ms/step - loss: 1.5806 - accuracy: 0.5218 - val_loss: 1.9110 - val_accuracy: 0.4320\n",
            "Epoch 14/37\n",
            "266/266 [==============================] - 4s 16ms/step - loss: 1.4886 - accuracy: 0.5451 - val_loss: 1.8583 - val_accuracy: 0.4613\n",
            "Epoch 15/37\n",
            "266/266 [==============================] - 4s 16ms/step - loss: 1.3799 - accuracy: 0.5759 - val_loss: 1.9661 - val_accuracy: 0.4467\n",
            "Epoch 16/37\n",
            "266/266 [==============================] - 4s 16ms/step - loss: 1.2874 - accuracy: 0.6040 - val_loss: 1.8812 - val_accuracy: 0.4613\n",
            "Epoch 17/37\n",
            "266/266 [==============================] - 4s 16ms/step - loss: 1.1704 - accuracy: 0.6349 - val_loss: 1.9706 - val_accuracy: 0.4527\n",
            "Epoch 18/37\n",
            "266/266 [==============================] - 4s 17ms/step - loss: 1.0551 - accuracy: 0.6705 - val_loss: 1.9076 - val_accuracy: 0.4693\n",
            "Epoch 19/37\n",
            "266/266 [==============================] - 4s 16ms/step - loss: 0.9368 - accuracy: 0.7086 - val_loss: 1.9789 - val_accuracy: 0.4733\n",
            "Epoch 20/37\n",
            "266/266 [==============================] - 4s 17ms/step - loss: 0.8165 - accuracy: 0.7435 - val_loss: 2.1483 - val_accuracy: 0.4613\n",
            "Epoch 21/37\n",
            "266/266 [==============================] - 4s 16ms/step - loss: 0.6989 - accuracy: 0.7842 - val_loss: 2.1668 - val_accuracy: 0.4673\n",
            "Epoch 22/37\n",
            "266/266 [==============================] - 4s 16ms/step - loss: 0.5891 - accuracy: 0.8112 - val_loss: 2.3758 - val_accuracy: 0.4547\n",
            "Epoch 23/37\n",
            "266/266 [==============================] - 4s 16ms/step - loss: 0.4856 - accuracy: 0.8453 - val_loss: 2.5501 - val_accuracy: 0.4753\n",
            "Epoch 24/37\n",
            "266/266 [==============================] - 4s 17ms/step - loss: 0.3948 - accuracy: 0.8771 - val_loss: 2.8863 - val_accuracy: 0.4440\n",
            "Epoch 25/37\n",
            "266/266 [==============================] - 4s 17ms/step - loss: 0.3164 - accuracy: 0.9019 - val_loss: 3.0383 - val_accuracy: 0.4467\n",
            "Epoch 26/37\n",
            "266/266 [==============================] - 4s 17ms/step - loss: 0.2615 - accuracy: 0.9187 - val_loss: 3.2000 - val_accuracy: 0.4480\n",
            "Epoch 27/37\n",
            "266/266 [==============================] - 4s 16ms/step - loss: 0.1835 - accuracy: 0.9473 - val_loss: 3.4523 - val_accuracy: 0.4413\n",
            "Epoch 28/37\n",
            "266/266 [==============================] - 4s 16ms/step - loss: 0.1691 - accuracy: 0.9493 - val_loss: 3.7635 - val_accuracy: 0.4313\n",
            "Epoch 29/37\n",
            "266/266 [==============================] - 4s 16ms/step - loss: 0.1086 - accuracy: 0.9692 - val_loss: 3.5074 - val_accuracy: 0.4660\n",
            "Epoch 30/37\n",
            "266/266 [==============================] - 4s 16ms/step - loss: 0.0709 - accuracy: 0.9818 - val_loss: 3.5444 - val_accuracy: 0.4660\n",
            "Epoch 31/37\n",
            "266/266 [==============================] - 4s 16ms/step - loss: 0.0178 - accuracy: 0.9982 - val_loss: 3.5713 - val_accuracy: 0.4860\n",
            "Epoch 32/37\n",
            "266/266 [==============================] - 4s 16ms/step - loss: 0.0050 - accuracy: 1.0000 - val_loss: 3.6165 - val_accuracy: 0.4907\n",
            "Epoch 33/37\n",
            "266/266 [==============================] - 4s 16ms/step - loss: 0.0028 - accuracy: 1.0000 - val_loss: 3.7272 - val_accuracy: 0.4887\n",
            "Epoch 34/37\n",
            "266/266 [==============================] - 4s 16ms/step - loss: 0.0021 - accuracy: 1.0000 - val_loss: 3.8010 - val_accuracy: 0.4907\n",
            "Epoch 35/37\n",
            "266/266 [==============================] - 4s 16ms/step - loss: 0.0017 - accuracy: 1.0000 - val_loss: 3.8678 - val_accuracy: 0.4913\n",
            "Epoch 36/37\n",
            "266/266 [==============================] - 4s 16ms/step - loss: 0.0014 - accuracy: 1.0000 - val_loss: 3.9259 - val_accuracy: 0.4880\n",
            "Epoch 37/37\n",
            "266/266 [==============================] - 4s 16ms/step - loss: 0.0012 - accuracy: 1.0000 - val_loss: 3.9701 - val_accuracy: 0.4947\n"
          ],
          "name": "stdout"
        }
      ]
    },
    {
      "cell_type": "markdown",
      "metadata": {
        "id": "n-PX8EdVTfre",
        "colab_type": "text"
      },
      "source": [
        "\n",
        "#### Βήμα 2: Αξιολόγηση των μοντέλων\n",
        "\n",
        "**2.1**. Για κάθε ένα από τα μοντέλα που εκπαιδεύσατε, απεικονίστε σε κοινό διάγραμμα την ακρίβεια εκπαίδευσης και την ακρίβεια επικύρωσης στο σύνολο των εποχών, για κάθε διαφορετικό συνδυασμό του βήματος 1.2 (10 διαγράμματα) και επιλέξτε αυτό με την καλύτερη ακρίβεια από κάθε μοντέλο (ένα από κάθε αρχιτεκτονική, συνολικά 5).  \n",
        "\n"
      ]
    },
    {
      "cell_type": "code",
      "metadata": {
        "id": "QZ4xkpZeTxE1",
        "colab_type": "code",
        "colab": {}
      },
      "source": [
        "def acc_vs_valacc(history, title=''):\n",
        "  fig = plt.figure()\n",
        "  plt.title(title)\n",
        "  plt.plot(history.history['accuracy'], label='accuracy')\n",
        "  plt.plot(history.history['val_accuracy'], label = 'val_accuracy')\n",
        "  plt.xlabel('Epoch')\n",
        "  plt.ylabel('Accuracy')\n",
        "  plt.legend(loc='lower right')"
      ],
      "execution_count": null,
      "outputs": []
    },
    {
      "cell_type": "code",
      "metadata": {
        "id": "FYgY_B5Io91g",
        "colab_type": "code",
        "colab": {
          "base_uri": "https://localhost:8080/",
          "height": 1000
        },
        "outputId": "5fd7cb50-f863-408f-fee6-2e2d17db79c2"
      },
      "source": [
        "acc_vs_valacc(history_cnn21, 'CNN2 - version 1')\n",
        "acc_vs_valacc(history_cnn22, 'CNN2 - version 2')\n",
        "\n",
        "acc_vs_valacc(history_cnn11, 'CNN1 - version 1')\n",
        "acc_vs_valacc(history_cnn12, 'CNN1 - version 2')\n",
        "\n",
        "acc_vs_valacc(history_lenet1, 'LeNet - version 1')\n",
        "acc_vs_valacc(history_lenet2, 'LeNet - version 2')\n",
        "\n",
        "acc_vs_valacc(history_mlp1, 'MLP - version 1')\n",
        "acc_vs_valacc(history_mlp2, 'MLP - version 2')\n",
        "\n",
        "acc_vs_valacc(history_softbase1, 'Softbase - version 1')\n",
        "acc_vs_valacc(history_softbase2, 'Softbase - version 2')"
      ],
      "execution_count": null,
      "outputs": [
        {
          "output_type": "display_data",
          "data": {
            "image/png": "[encoded data removed]",
            "text/plain": [
              "<Figure size 432x288 with 1 Axes>"
            ]
          },
          "metadata": {
            "tags": [],
            "needs_background": "light"
          }
        },
        {
          "output_type": "display_data",
          "data": {
            "image/png": "[encoded data removed]",
            "text/plain": [
              "<Figure size 432x288 with 1 Axes>"
            ]
          },
          "metadata": {
            "tags": [],
            "needs_background": "light"
          }
        },
        {
          "output_type": "display_data",
          "data": {
            "image/png": "[encoded data removed]",
            "text/plain": [
              "<Figure size 432x288 with 1 Axes>"
            ]
          },
          "metadata": {
            "tags": [],
            "needs_background": "light"
          }
        },
        {
          "output_type": "display_data",
          "data": {
            "image/png": "[encoded data removed]",
            "text/plain": [
              "<Figure size 432x288 with 1 Axes>"
            ]
          },
          "metadata": {
            "tags": [],
            "needs_background": "light"
          }
        },
        {
          "output_type": "display_data",
          "data": {
            "image/png": "[encoded data removed]",
            "text/plain": [
              "<Figure size 432x288 with 1 Axes>"
            ]
          },
          "metadata": {
            "tags": [],
            "needs_background": "light"
          }
        },
        {
          "output_type": "display_data",
          "data": {
            "image/png": "[encoded data removed]",
            "text/plain": [
              "<Figure size 432x288 with 1 Axes>"
            ]
          },
          "metadata": {
            "tags": [],
            "needs_background": "light"
          }
        },
        {
          "output_type": "display_data",
          "data": {
            "image/png": "[encoded data removed]",
            "text/plain": [
              "<Figure size 432x288 with 1 Axes>"
            ]
          },
          "metadata": {
            "tags": [],
            "needs_background": "light"
          }
        },
        {
          "output_type": "display_data",
          "data": {
            "image/png": "[encoded data removed]",
            "text/plain": [
              "<Figure size 432x288 with 1 Axes>"
            ]
          },
          "metadata": {
            "tags": [],
            "needs_background": "light"
          }
        },
        {
          "output_type": "display_data",
          "data": {
            "image/png": "[encoded data removed]",
            "text/plain": [
              "<Figure size 432x288 with 1 Axes>"
            ]
          },
          "metadata": {
            "tags": [],
            "needs_background": "light"
          }
        },
        {
          "output_type": "display_data",
          "data": {
            "image/png": "[encoded data removed]",
            "text/plain": [
              "<Figure size 432x288 with 1 Axes>"
            ]
          },
          "metadata": {
            "tags": [],
            "needs_background": "light"
          }
        }
      ]
    },
    {
      "cell_type": "markdown",
      "metadata": {
        "id": "YCkmpS0A9CIF",
        "colab_type": "text"
      },
      "source": [
        "Παρατηρούμε ότι ενώ η αρχιτεκτονική των μοντέλων κάθε εκδοχής είναι η ίδια, διαφορετικοί optimizers ή loss functions επιδρούν διαφορετικά και καθοριστικά στην εκπαίδευση (για περισσότερες λεπτομέρειες δείτε το Βήμα 2.3). "
      ]
    },
    {
      "cell_type": "markdown",
      "metadata": {
        "id": "Pv28hiCRTmSB",
        "colab_type": "text"
      },
      "source": [
        "\n",
        "2.2. Για κάθε ένα από τα μοντέλα με την καλύτερη ακρίβεια(συνολικά 5), απεικονίστε σε κοινό διάγραμμα την ακρίβεια εκπαίδευσης και την ακρίβεια επικύρωσης στο σύνολο των εποχών.\n"
      ]
    },
    {
      "cell_type": "markdown",
      "metadata": {
        "id": "WNo5JufbpLm3",
        "colab_type": "text"
      },
      "source": [
        "###***Aπάντηση***:\n",
        "\n",
        "Με χρήση της παρακάτω συνάρτησης απεικονίζουμε σε κοινό διάγραμμα την ακρίβεια εκπαίδευσης και την ακρίβεια επικύρωσης των καλύτερων μοντέλων κάθε αρχιτεκτονικής στο εκάστοτε επιλεγμένο σύνολο εποχών."
      ]
    },
    {
      "cell_type": "code",
      "metadata": {
        "id": "2eeWsdQFTyEA",
        "colab_type": "code",
        "colab": {
          "base_uri": "https://localhost:8080/",
          "height": 730
        },
        "outputId": "a053e320-b98e-45d3-e648-fd3a456d1cca"
      },
      "source": [
        "def compare_models(history_lst, label_arr):\n",
        "  fig = plt.figure(figsize=(12,12))\n",
        "  plt.title(\"Accuracy and Validation Accuracy of different Neural Network models\")\n",
        "  i=0\n",
        "  color_arr = ['b','r','g','m','y']\n",
        "  for history in history_lst:\n",
        "    plt.plot(history.history['accuracy'], label=label_arr[i]+': accuracy', color=color_arr[i%5])\n",
        "    plt.plot(history.history['val_accuracy'], linestyle='dashed', label = label_arr[i] + ': val_accuracy',color=color_arr[i%5])\n",
        "    i+=1\n",
        "\n",
        "  plt.xlabel('Epoch')\n",
        "  plt.ylabel('Accuracy')\n",
        "  plt.legend(loc='lower right')\n",
        "\n",
        "compare_models([history_cnn21, history_lenet1, history_mlp1, history_cnn11, history_softbase1], ['CNN2', 'LeNet', 'MLP', 'CNN1', \"softbase\"])"
      ],
      "execution_count": null,
      "outputs": [
        {
          "output_type": "display_data",
          "data": {
            "image/png": "[encoded data removed]",
            "text/plain": [
              "<Figure size 864x864 with 1 Axes>"
            ]
          },
          "metadata": {
            "tags": [],
            "needs_background": "light"
          }
        }
      ]
    },
    {
      "cell_type": "markdown",
      "metadata": {
        "id": "NFuhe3m7q40m",
        "colab_type": "text"
      },
      "source": [
        "Τα εν λόγω αποτελέσματα αναπαρίστανται και σε ξεχωριστές γραφικές παραστάσεις για κάθε μοντέλο."
      ]
    },
    {
      "cell_type": "code",
      "metadata": {
        "id": "IEwuAH4DqpzB",
        "colab_type": "code",
        "colab": {
          "base_uri": "https://localhost:8080/",
          "height": 1000
        },
        "outputId": "59e5fa50-09cb-46b2-f83e-eed5937be66b"
      },
      "source": [
        "acc_vs_valacc(history_cnn21, 'CNN2 - version 1')\n",
        "\n",
        "acc_vs_valacc(history_cnn11, 'CNN1 - version 1')\n",
        "\n",
        "acc_vs_valacc(history_lenet1, 'LeNet - version 1')\n",
        "\n",
        "acc_vs_valacc(history_mlp1, 'MLP - version 1')\n",
        "\n",
        "acc_vs_valacc(history_softbase1, 'Softbase - version 1')"
      ],
      "execution_count": null,
      "outputs": [
        {
          "output_type": "display_data",
          "data": {
            "image/png": "[encoded data removed]",
            "text/plain": [
              "<Figure size 432x288 with 1 Axes>"
            ]
          },
          "metadata": {
            "tags": [],
            "needs_background": "light"
          }
        },
        {
          "output_type": "display_data",
          "data": {
            "image/png": "[encoded data removed]",
            "text/plain": [
              "<Figure size 432x288 with 1 Axes>"
            ]
          },
          "metadata": {
            "tags": [],
            "needs_background": "light"
          }
        },
        {
          "output_type": "display_data",
          "data": {
            "image/png": "[encoded data removed]",
            "text/plain": [
              "<Figure size 432x288 with 1 Axes>"
            ]
          },
          "metadata": {
            "tags": [],
            "needs_background": "light"
          }
        },
        {
          "output_type": "display_data",
          "data": {
            "image/png": "[encoded data removed]",
            "text/plain": [
              "<Figure size 432x288 with 1 Axes>"
            ]
          },
          "metadata": {
            "tags": [],
            "needs_background": "light"
          }
        },
        {
          "output_type": "display_data",
          "data": {
            "image/png": "[encoded data removed]",
            "text/plain": [
              "<Figure size 432x288 with 1 Axes>"
            ]
          },
          "metadata": {
            "tags": [],
            "needs_background": "light"
          }
        }
      ]
    },
    {
      "cell_type": "markdown",
      "metadata": {
        "id": "orud85ygTtQ3",
        "colab_type": "text"
      },
      "source": [
        "2.3. Αξιολογήστε, αναλυτικά, τα αποτελέσματά σας ως προς τα εξής:\n",
        "\n",
        " - **Επίδραση του πλήθους των δεδομένων/κλάσεων στην απόδοση του μοντέλου:**  \n",
        " Παρατηρούμε πως όσο μεγαλύτερο υποσύνολο του CIFAR100 επιλέξουμε ως πρόβλημα, τόσο μικρότερη η απόδοση του μοντέλου αλλά και ο χρόνος που απαιτείται για την ολοκλήρωση της κάθε εποχής. Αυτό είναι αναμενόμενο, ο χρόνος αυξάνεται αφού σε κάθε εποχή θα πρέπει να εισαχθεί ως είσοδος στο μοντέλο μεγαλύτερο training set, και το accuracy μειώνεται αφού το πρόβλημα ταξινόμησης έχει περισσότερες κλάσεις και επομένως είναι πιο δύσκολο. Η αξιολόγηση ως προς την εν λόγω παράμετρο πραγματοποιήθηκε με χρήση της συνάρτησης που υλοποιεί την επιλογή του αριθμού των εξεταζόμενων κλάσεων. \n",
        "\n",
        " - **Επίδραση του αλγόριθμου βελτιστοποίησης (optimizer):**  \n",
        " Βάσει των δοκιμών μας παρατηρούμε πως ενώ ο Adam optimizer επιτυγχάνει πιο γρήγορα σύγκλιση σε πολλές περιπτώσεις, ο SGD optimizer επιτυγχάνει σύγκλιση σε μεγαλύτερα accuracies. Αυτό μπορεί να οφείλεται στο ότι προσαρμοστικές τεχνικές βελτιστοποίησης, όπως ο Adam, αποτυγχάνουν στο generalization. Όμως ο SGD είναι πιο πιθανό να συγκλίνει σε κάποιο τοπικό ελάχιστο και όχι στο ολικό. Επίσης πειραματιστήκαμε με τον Adagrad, ο οποίος τροποποιεί τον SGD επιτυγχάνοντας μεγαλύτερο robustness.\n",
        " \n",
        " - **Επίδραση του μεγέθους δέσμης (batch size):**\n",
        " Μεγαλύτερο batch size επιτυγχάνει, γενικά, αργότερη σύγκλιση σε υψηλά accuracies όμως πιο γρήγορη υπολογιστική ολοκλήρωση κάθε κύκλου εποχής. Γενικότερα μεγαλύτερο batch size επιτυγχάνει μικρότερο variance στο μοντέλο αφού κάθε φορά η ενημέρωση γίνεται βάσει πολλών εικόνων input. Όμως μικρότερο batch size, λόγω του λιγότερης ακρίβειας υπολογισμού του gradient μπορεί να προσδώσει έναν επιθυμητό θόρυβο και να κάνει το μοντέλο να ξεφύγει από τοπικά ακρότατα. Βέβαια υπερβολικά μικρό batch size ενδεχομένως να μην μας οδηγήσει ποτέ σε κάποιο global minimum. Η αξιολόγηση ως προς το εν λόγω μέγεθος πραγματοποιήθηκε με προσθήκη της παραμέτρου batch_size σαν όρισμα στην εντολή fit. Περαιτέρω εξειδίκευση ως προς την επίδραση του batch size πραγματοποιείται στο ακόλουθο ερώτημα, εφόσον στο συγκεκριμένο δεν ζητείται η εύρεση της βέλτιστης τιμής του. "
      ]
    },
    {
      "cell_type": "markdown",
      "metadata": {
        "id": "wPlMN76rGloa",
        "colab_type": "text"
      },
      "source": [
        "## Βήμα 3:  \n",
        "Αξιολογήστε την ακρίβεια των μοντέλων για το test set σας."
      ]
    },
    {
      "cell_type": "markdown",
      "metadata": {
        "id": "dvWUgaV2om5K",
        "colab_type": "text"
      },
      "source": [
        "###***Aπάντηση***:\n",
        "\n",
        "Αρχικά, φορτώνουμε τις ιστορίες των μοντέλων που έχουν αποθηκευτεί από τα προηγούμενα βήματα. Αυτό γίνεται ώστε να μην είναι ανάγκη κάθε φορά που αλλάζουμε runtime στο collab, να πρέπει να επανεκπαιδεύσουμε απ'την αρχή, όλα τα μοντέλα. Στην συνέχεια, εφαρμόζουμε την ακόλουθη συνάρτηση για κάθε μία από τις δοθείσες αρχιτεκτονικές. "
      ]
    },
    {
      "cell_type": "code",
      "metadata": {
        "id": "r5IWbsl9Gxr0",
        "colab_type": "code",
        "colab": {}
      },
      "source": [
        "model_cnn11 =  tf.keras.models.load_model('cnn11.h5')\n",
        "\n",
        "model_cnn21 =  tf.keras.models.load_model(\"cnn21.h5\")\n",
        "\n",
        "model_lenet1 =  tf.keras.models.load_model(\"lenet1.h5\")\n",
        "\n",
        "model_mlp1 =  tf.keras.models.load_model(\"mlp1.h5\")\n",
        "\n",
        "model_softbase1  = tf.keras.models.load_model(\"softbase1.h5\")"
      ],
      "execution_count": null,
      "outputs": []
    },
    {
      "cell_type": "markdown",
      "metadata": {
        "id": "KzQZtuWTsdrh",
        "colab_type": "text"
      },
      "source": [
        "Στην συνέχεια, γίνεται η αξιολόγηση των μοντέλων στο σύνολο δοκιμής."
      ]
    },
    {
      "cell_type": "code",
      "metadata": {
        "id": "sBynZiOhsZt9",
        "colab_type": "code",
        "colab": {
          "base_uri": "https://localhost:8080/",
          "height": 217
        },
        "outputId": "b333693d-83ff-448d-aeb0-003830b69bf5"
      },
      "source": [
        "print(\"\\x1b[31mCnn2 model-version 1\\x1b[0m\")\n",
        "model_cnn21.evaluate(x_test, y_test)\n",
        "\n",
        "print(\"\\x1b[31mLenet model-version 1\\x1b[0m\")\n",
        "model_lenet1.evaluate(x_test, y_test)\n",
        "\n",
        "print(\"\\x1b[31mCnn1 model-version 1\\x1b[0m\")\n",
        "model_cnn11.evaluate(x_test, y_test)\n",
        "\n",
        "print(\"\\x1b[31mMlp model-version 1\\x1b[0m\")\n",
        "model_mlp1.evaluate(x_test, y_test)\n",
        "\n",
        "print(\"\\x1b[31mSoftbase model-version 1\\x1b[0m\")\n",
        "model_softbase1.evaluate(x_test, y_test)"
      ],
      "execution_count": null,
      "outputs": [
        {
          "output_type": "stream",
          "text": [
            "\u001b[31mCnn2 model-version 1\u001b[0m\n",
            "63/63 [==============================] - 0s 7ms/step - loss: 2.5789 - accuracy: 0.5045\n",
            "\u001b[31mLenet model-version 1\u001b[0m\n",
            "63/63 [==============================] - 0s 2ms/step - loss: 2.4943 - accuracy: 0.4825\n",
            "\u001b[31mCnn1 model-version 1\u001b[0m\n",
            "63/63 [==============================] - 0s 2ms/step - loss: 2.3094 - accuracy: 0.4310\n",
            "\u001b[31mMlp model-version 1\u001b[0m\n",
            "63/63 [==============================] - 0s 2ms/step - loss: 2.5734 - accuracy: 0.2990\n",
            "\u001b[31mSoftbase model-version 1\u001b[0m\n",
            "63/63 [==============================] - 0s 2ms/step - loss: 2.5766 - accuracy: 0.2700\n"
          ],
          "name": "stdout"
        },
        {
          "output_type": "execute_result",
          "data": {
            "text/plain": [
              "[2.5766005516052246, 0.27000001072883606]"
            ]
          },
          "metadata": {
            "tags": []
          },
          "execution_count": 87
        }
      ]
    },
    {
      "cell_type": "markdown",
      "metadata": {
        "id": "BCvUjbK4ulCD",
        "colab_type": "text"
      },
      "source": [
        "Παρατηρούμε ότι το δικό μας μοντέλο (cnn2) παρουσιάζει την υψηλότερη ακρίβεια στο test set σε σύγκριση με τα υπόλοιπα μοντέλα, αποτέλεσμα το οποίο είναι και θεωρητικά αναμενόμενο εφόσον το εν λόγω μοντέλο αποτελείται από περισσότερα convolutional layers. Το γεγονός αυτό είναι σε συμβατό με τα ποσοστά ακρίβειας τα οποία επιτυγχάνονται κατά την διάρκεια εκπαίδευσης του εν λόγω μοντέλου, όπως εύκολα μπορεί κανείς να διαπιστώσει παρατηρώντας την εξέλιξη της προαναφερθείσας διαδικασίας και συγκρίνοντας με τις επιδόσεις των υπόλοιπων μοντέλων. Όσον αφορά τις άλλες αρχιτεκτονικές, βλέπουμε ότι υψηλότερο loss παρουσιάζεται στην περίπτωση του LeNet μοντέλου, ενώ το αντίστοιχο accuracy λαμβάνει σχετικά ικανοποιητική τιμή. Χειρότερη απόδοση παρουσιάζει το softbase μοντέλο, αποτέλεσμα επίσης αναμενόμενο εφόσον αποτελείται στην ουσία μόνο από δύο dense layers. \n",
        "\n",
        "Γενικότερα υψηλότερης πολυπλοκότητ;ας και μεγαλύτερου βάθους νευρωνικά δίκτυα μπορούν πιο εύκολα να ενσωματώσουν πληροφορία σχετική με το πρόβλημα σε σχέση με μικρότερα δίκτυα.\n",
        "\n"
      ]
    },
    {
      "cell_type": "markdown",
      "metadata": {
        "id": "v8rhgSGOV5pm",
        "colab_type": "text"
      },
      "source": [
        "**Προσοχή** \n",
        "\n",
        "Για τα επόμενα ερωτήματα θα κρατήσετε το μοντέλο που αντιστοιχεί στον καλύτερο συνδυασμό ( optimizer, loss, metrics και epoch) από τα μοντέλα που εκπαιδεύσατε (και για τα 5 μοντέλα - όπως στο Ερώτημα 1, βήμα 2.2).\n",
        "\n",
        "## Ερώτημα 2\n",
        "\n"
      ]
    },
    {
      "cell_type": "markdown",
      "metadata": {
        "id": "60X3rB-J_amc",
        "colab_type": "text"
      },
      "source": [
        "### Βήμα 1: Έλεγχος υπερεκπαίδευσης\n",
        "\n",
        "  **1.1.** Προτείνετε τεχνικές που θα χρησιμοποιήσετε για να αντιμετωπίσετε το πρόβλημα της υπερεκπαίδεσης και υλοποιήστε τις τεχνικές που προτείνετε για την εκπαίδευση του μοντέλου ώστε αυτό να γενικεύει καλύτερα.\n",
        "\n",
        "Δοκιμάστε διάφορους τρόπους για τον έλεγχο της υπερεκπαίδευσης (overfitting), όπως:\n",
        "\n",
        "- Πρόωρος τερματισμός (early stopping). Μια μέθοδος που τερματίζει την εκπαίδευση αν δεν υπάρχει βελτίωση ως προς τη μετρική απόδοσης που παρακολουθούμε. [tf.keras.callbacks.EarlyStopping](https://www.tensorflow.org/api_docs/python/tf/keras/callbacks/EarlyStoppinghttps://)\n",
        "\n",
        "- Dropout. Μια άλλη τεχνική για τη μείωση της υπερεκπαίδευσης είναι το Dropout. Είναι ένα είδος ομαλοποίησης (regularization) που επιβάλλει στα βάρη του δικτύου να παίρνουν μόνο μικρές τιμές. Εάν εφαρμόσουε dropout σε ένα επίπεδο του δικτύου, τότε ένα ποσοστό των βαρών του γίνεται τυχαία μηδενικό κατά την εκπαίδευση. [Dropout](https://www.tensorflow.org/tutorials/images/classification#dropout)\n",
        "\n",
        "- Επαύξηση δεδομένων. Η υπερεκπαίδευση συνήθως συμβαίνει όταν έχουμε λίγα ή/και πολύ όμοια δεδομένα εκπαίδευσης. Ένας τρόπος να διορθωθεί αυτό το πρόβλημα είναι να αυξήσουμε τα δεδομένα (data augmentation). Το data augmentation δημιουργεί νέα δεδομένα εκπαίδευσης με βάση τα υπάρχοντα εφαρμόζοντας τυχαίους μετασχηματισμούς ώστε να προκύπτουν αληθοφανείς εικόνες. [Data augmentation](https://www.tensorflow.org/tutorials/images/classification#data_augmentation), [ImageDataGenerator](https://www.tensorflow.org/api_docs/python/tf/keras/preprocessing/image/ImageDataGenerator#class_imagedatagenerator)\n",
        "\n",
        "\n"
      ]
    },
    {
      "cell_type": "markdown",
      "metadata": {
        "id": "SUUTog0wHKVo",
        "colab_type": "text"
      },
      "source": [
        "###***Απάντηση:***\n",
        "\n",
        "Στην συνέχεια υλοποιούμε ένα συνδυασμό των ανωτέρω τεχνικών για κάθε ένα από τα εξεταζόμενα μοντέλα ώστε να πετύχουμε όσο τον δυνατόν καλύτερο αποτέλεσμα ως προς το πρόβλημα του overfitting, του οποίου την ύπαρξη εύκολα μπορεί κανείς να διαπιστώσει παρατηρώντας τις τιμές που λαμβάνουν οι μετρικές loss και accuracy κατά την διαδικασία εκπαίδευσης που πραγματοποιείται στο προηγούμενο ερώτημα. Πιο συγκεκριμένα, το φαινόμενο αυτό εμφανίζεται όταν το accuracy στο train set αυξάνεται, ενώ στο validation set παραμένει σχετικά σταθερό. Αντίστοιχη περιγραφή και ερμηνεία μπορεί να γίνει και με βάση τις τιμές του loss. Ποιοτικά αυτό σημαίνει ότι το μοντέλο αδυνατεί να ανταποκριθεί ικανοποιητικά σε δεδομένα που δεν έχει δει, παρόλο που φαινομενικά παρουσιάζει υψηλότερη ακρίβεια στο σύνολο εκπαίδευσης. Οι προαναφερθείσες τεχνικές συνοψίζονται ακολούθως:\n",
        "\n",
        "- **Early Stopping:** Πρόκειται για μια τεχνική, η οποία αξιοποιεί κάποια μορφή regularization και χρησιμοποιείται για την αποφυγή του overfitting κατά την εκπαίδευση ενός μοντέλου με χρήση κάποιας επαναληπτικής μεθόδου. Τέτοιων ειδών μέθοδοι πραγματοποιούν ενημέρωση των βαρών του δικτύου έτσι ώστε να βελτιώνεται η απόδοση του μοντέλου σε κάθε επανάληψη ως προς το σύνολο εκπαίδευσης. Ωστόσο αυτό συνεπάγεται και αύξηση του σφάλματος γενίκευσης. Η μέθοδος του Early Stopping καθορίζει σε πρακτικό επίπεδο έναν επαρκή αριθμό εποχών εκπαίδευσης, εφόσον η διαδικασία της εκπαίδευσης διακόπτεται όταν η απόδοση του μοντέλου σταματά να παρουσιάζει βελτίωση. \n",
        "\n",
        "- **Dropout:** Ο όρος dropout αναφέρεται στην αγνόηση ορισμένων δομικών μονάδων του προς εξέταση νευρωνικού δικτύου κατά την φάση του training, τα οποία επιλέγονται με τυχαίο τρόπο. Πρακτικά, η μέθοδος αυτή επιβάλλει στα βάρη των εν λόγω νευρώνων, που ανριστοιχούν στο layer στο οποίο εφαρμόζεται, μηδενική τιμή έτσι ώστε η ολική κατανομή των τιμών των βαρών του δικτύου να προσεγγίζει την κανονική, μειώντας με αυτό τον τρόπο το παρατηρούμενο overfitting. \n",
        "\n",
        "- **Data augmentation:** H μέθοδος αυτή παράγει νέα δεδομένα εκπαίδευσης, εφαρμόζοντας τυχαίους μεταχσηματισμούς στα ήδη υπάρχοντα, στοχεύοντας στο να εκπαιδευτεί το δίκτυο σε όσο το δυνατόν περισσότερες εικόνες, μερικές εκ των οποίων θα έχουν παραχθεί από τους μετασχηματισμούς, όμως θα εξακολουθούν να αντιστοιχούν στις ίδιες κλάσεις. Με αυτό τον τρόπο επιλύεται το πρόβλημα των μικρών συνόλων δεδομένων, που αποτελούνται από ανεπαρκή αριθμό παραδειγμάτων εκπαίδευσης και στα οποία παρουσιάζεται συχνά το φαινόμενο του overfitting, ενώ συγχρόνως βελτιώνεται η ικανότητα γενίκευσης του μοντέλου. \n",
        "\n"
      ]
    },
    {
      "cell_type": "code",
      "metadata": {
        "id": "WYzkAtBSpo2k",
        "colab_type": "code",
        "colab": {}
      },
      "source": [
        "# data augmentation\n",
        "y_train_categ = np_utils.to_categorical(y_train, num_classes)\n",
        "y_test_categ = np_utils.to_categorical(y_test, num_classes)\n",
        "y_val_categ = np_utils.to_categorical(y_val, num_classes)\n",
        "\n",
        "# define a  data generator for train and validation set\n",
        "datagen = tf.keras.preprocessing.image.ImageDataGenerator(\n",
        "    featurewise_center=True,\n",
        "    featurewise_std_normalization=True,\n",
        "    rotation_range=10,\n",
        "    width_shift_range=0.1,\n",
        "    height_shift_range=0.1,\n",
        "    horizontal_flip=True,\n",
        "    zoom_range=0.2)\n",
        "\n",
        "# define a data generator for test set\n",
        "test_datagen = tf.keras.preprocessing.image.ImageDataGenerator(rescale=1./255)\n",
        "\n",
        "# compute quantities required for featurewise normalization\n",
        "# (std, mean, and principal components if ZCA whitening is applied)\n",
        "datagen.fit(x_train)"
      ],
      "execution_count": null,
      "outputs": []
    },
    {
      "cell_type": "code",
      "metadata": {
        "id": "Y6WP9bYZZE1p",
        "colab_type": "code",
        "colab": {
          "base_uri": "https://localhost:8080/",
          "height": 1000
        },
        "outputId": "00801791-6c30-400d-dc69-8e81eff54cb5"
      },
      "source": [
        "#adding dropouts in the definition of our models\n",
        "\n",
        "model_softbase_aug = models.Sequential()\n",
        "model_softbase_aug.add(layers.Flatten( input_shape=(32, 32, 3)))\n",
        "model_softbase_aug.add(layers.Dense(200))\n",
        "model_softbase_aug.add(layers.Dropout(0.05))\n",
        "model_softbase_aug.add(layers.Dense(num_classes, activation='softmax'))\n",
        "model_softbase_aug.add(layers.Dropout(0.05))\n",
        "model_softbase_aug.summary()\n",
        "\n",
        "\n",
        "model_mlp_aug = models.Sequential()\n",
        "model_mlp_aug.add(layers.Flatten(input_shape=(32,32,3)))\n",
        "model_mlp_aug.add(layers.Dense(512, activation='relu'))\n",
        "model_mlp_aug.add(layers.Dropout(0.02))\n",
        "model_mlp_aug.add(layers.Dense(200))\n",
        "model_mlp_aug.add(layers.Dropout(0.05))\n",
        "model_mlp_aug.add(layers.Dense(num_classes, activation='softmax'))\n",
        "model_mlp_aug.add(layers.Dropout(0.1))\n",
        "model_mlp_aug.summary()\n",
        "\n",
        "\n",
        "model_lenet_aug = models.Sequential()\n",
        "model_lenet_aug.add(layers.Conv2D(32, (3, 3), activation='relu', input_shape=(32, 32, 3)))\n",
        "model_lenet_aug.add(layers.MaxPooling2D((3, 3)))\n",
        "model_lenet_aug.add(layers.Conv2D(32,(3,3), activation='relu' ))\n",
        "model_lenet_aug.add(layers.MaxPooling2D((2, 2)))\n",
        "model_lenet_aug.add(layers.Flatten())\n",
        "model_lenet_aug.add(layers.Dense(512, activation='relu'))\n",
        "model_lenet_aug.add(layers.Dropout(0.1))\n",
        "model_lenet_aug.add(layers.Dense(200))\n",
        "model_lenet_aug.add(layers.Dropout(0.2))\n",
        "model_lenet_aug.add(layers.Dense(num_classes, activation='softmax'))\n",
        "model_lenet_aug.add(layers.Dropout(0.4))\n",
        "model_lenet_aug.summary()\n",
        "\n",
        "\n",
        "model_cnn1_aug = models.Sequential()\n",
        "model_cnn1_aug.add(layers.Conv2D(16, (5, 5), activation='relu', input_shape=(32, 32, 3)))\n",
        "model_cnn1_aug.add(layers.MaxPooling2D((2, 2)))\n",
        "model_cnn1_aug.add(layers.Conv2D(16, (3, 3), activation='relu'))\n",
        "model_cnn1_aug.add(layers.Dropout(0.05))\n",
        "model_cnn1_aug.add(layers.MaxPooling2D((2, 2)))\n",
        "model_cnn1_aug.add(layers.Conv2D(32, (3, 3), activation='relu'))\n",
        "model_cnn1_aug.add(layers.Dropout(0.05))\n",
        "model_cnn1_aug.add(layers.Flatten())\n",
        "model_cnn1_aug.add(layers.Dense(200))\n",
        "model_cnn1_aug.add(layers.Dropout(0.1))\n",
        "model_cnn1_aug.add(layers.Dense(num_classes, activation='softmax'))\n",
        "model_cnn1_aug.add(layers.Dropout(0.2))\n",
        "model_cnn1_aug.summary()\n",
        "\n",
        "\n",
        "\n",
        "model_cnn2_aug = models.Sequential()\n",
        "model_cnn2_aug.add(layers.Conv2D(128, (3,3), padding=\"same\",input_shape=(32, 32, 3)))\n",
        "model_cnn2_aug.add(tf.keras.layers.LeakyReLU())\n",
        "model_cnn2_aug.add(layers.Conv2D(128, (3, 3), padding='same'))\n",
        "model_cnn2_aug.add(layers.MaxPooling2D((2, 2)))\n",
        "model_cnn2_aug.add(layers.Dropout(0.05))\n",
        "model_cnn2_aug.add(tf.keras.layers.LeakyReLU())\n",
        "model_cnn2_aug.add(layers.Conv2D(256, (3, 3), padding='same'))\n",
        "model_cnn2_aug.add(tf.keras.layers.LeakyReLU())\n",
        "model_cnn2_aug.add(layers.MaxPooling2D((2, 2)))\n",
        "model_cnn2_aug.add(layers.Dropout(0.08))\n",
        "model_cnn2_aug.add(layers.Conv2D(512, (3, 3), padding='same'))\n",
        "model_cnn2_aug.add(tf.keras.layers.LeakyReLU())\n",
        "model_cnn2_aug.add(layers.Conv2D(256, (3, 3)))\n",
        "model_cnn2_aug.add(tf.keras.layers.LeakyReLU())\n",
        "model_cnn2_aug.add(layers.MaxPooling2D((2, 2)))\n",
        "model_cnn2_aug.add(layers.Dropout(0.12))\n",
        "model_cnn2_aug.add(layers.Flatten())\n",
        "model_cnn2_aug.add(layers.Dense(1024))\n",
        "model_cnn2_aug.add(tf.keras.layers.LeakyReLU())\n",
        "model_cnn2_aug.add(layers.Dropout(0.15))\n",
        "model_cnn2_aug.add(layers.Dense(200))\n",
        "model_cnn2_aug.add(tf.keras.layers.LeakyReLU())\n",
        "model_cnn2_aug.add(layers.Dropout(0.18))\n",
        "model_cnn2_aug.add(layers.Dense(num_classes, activation='softmax' ))\n",
        "model_cnn2_aug.add(layers.Dropout(0.2))\n",
        "model_cnn2_aug.summary()"
      ],
      "execution_count": null,
      "outputs": [
        {
          "output_type": "stream",
          "text": [
            "Model: \"sequential_20\"\n",
            "_________________________________________________________________\n",
            "Layer (type)                 Output Shape              Param #   \n",
            "=================================================================\n",
            "flatten_20 (Flatten)         (None, 3072)              0         \n",
            "_________________________________________________________________\n",
            "dense_54 (Dense)             (None, 200)               614600    \n",
            "_________________________________________________________________\n",
            "dropout_48 (Dropout)         (None, 200)               0         \n",
            "_________________________________________________________________\n",
            "dense_55 (Dense)             (None, 20)                4020      \n",
            "_________________________________________________________________\n",
            "dropout_49 (Dropout)         (None, 20)                0         \n",
            "=================================================================\n",
            "Total params: 618,620\n",
            "Trainable params: 618,620\n",
            "Non-trainable params: 0\n",
            "_________________________________________________________________\n",
            "Model: \"sequential_21\"\n",
            "_________________________________________________________________\n",
            "Layer (type)                 Output Shape              Param #   \n",
            "=================================================================\n",
            "flatten_21 (Flatten)         (None, 3072)              0         \n",
            "_________________________________________________________________\n",
            "dense_56 (Dense)             (None, 512)               1573376   \n",
            "_________________________________________________________________\n",
            "dropout_50 (Dropout)         (None, 512)               0         \n",
            "_________________________________________________________________\n",
            "dense_57 (Dense)             (None, 200)               102600    \n",
            "_________________________________________________________________\n",
            "dropout_51 (Dropout)         (None, 200)               0         \n",
            "_________________________________________________________________\n",
            "dense_58 (Dense)             (None, 20)                4020      \n",
            "_________________________________________________________________\n",
            "dropout_52 (Dropout)         (None, 20)                0         \n",
            "=================================================================\n",
            "Total params: 1,679,996\n",
            "Trainable params: 1,679,996\n",
            "Non-trainable params: 0\n",
            "_________________________________________________________________\n",
            "Model: \"sequential_22\"\n",
            "_________________________________________________________________\n",
            "Layer (type)                 Output Shape              Param #   \n",
            "=================================================================\n",
            "conv2d_30 (Conv2D)           (None, 30, 30, 32)        896       \n",
            "_________________________________________________________________\n",
            "max_pooling2d_24 (MaxPooling (None, 10, 10, 32)        0         \n",
            "_________________________________________________________________\n",
            "conv2d_31 (Conv2D)           (None, 8, 8, 32)          9248      \n",
            "_________________________________________________________________\n",
            "max_pooling2d_25 (MaxPooling (None, 4, 4, 32)          0         \n",
            "_________________________________________________________________\n",
            "flatten_22 (Flatten)         (None, 512)               0         \n",
            "_________________________________________________________________\n",
            "dense_59 (Dense)             (None, 512)               262656    \n",
            "_________________________________________________________________\n",
            "dropout_53 (Dropout)         (None, 512)               0         \n",
            "_________________________________________________________________\n",
            "dense_60 (Dense)             (None, 200)               102600    \n",
            "_________________________________________________________________\n",
            "dropout_54 (Dropout)         (None, 200)               0         \n",
            "_________________________________________________________________\n",
            "dense_61 (Dense)             (None, 20)                4020      \n",
            "_________________________________________________________________\n",
            "dropout_55 (Dropout)         (None, 20)                0         \n",
            "=================================================================\n",
            "Total params: 379,420\n",
            "Trainable params: 379,420\n",
            "Non-trainable params: 0\n",
            "_________________________________________________________________\n",
            "Model: \"sequential_23\"\n",
            "_________________________________________________________________\n",
            "Layer (type)                 Output Shape              Param #   \n",
            "=================================================================\n",
            "conv2d_32 (Conv2D)           (None, 28, 28, 16)        1216      \n",
            "_________________________________________________________________\n",
            "max_pooling2d_26 (MaxPooling (None, 14, 14, 16)        0         \n",
            "_________________________________________________________________\n",
            "conv2d_33 (Conv2D)           (None, 12, 12, 16)        2320      \n",
            "_________________________________________________________________\n",
            "dropout_56 (Dropout)         (None, 12, 12, 16)        0         \n",
            "_________________________________________________________________\n",
            "max_pooling2d_27 (MaxPooling (None, 6, 6, 16)          0         \n",
            "_________________________________________________________________\n",
            "conv2d_34 (Conv2D)           (None, 4, 4, 32)          4640      \n",
            "_________________________________________________________________\n",
            "dropout_57 (Dropout)         (None, 4, 4, 32)          0         \n",
            "_________________________________________________________________\n",
            "flatten_23 (Flatten)         (None, 512)               0         \n",
            "_________________________________________________________________\n",
            "dense_62 (Dense)             (None, 200)               102600    \n",
            "_________________________________________________________________\n",
            "dropout_58 (Dropout)         (None, 200)               0         \n",
            "_________________________________________________________________\n",
            "dense_63 (Dense)             (None, 20)                4020      \n",
            "_________________________________________________________________\n",
            "dropout_59 (Dropout)         (None, 20)                0         \n",
            "=================================================================\n",
            "Total params: 114,796\n",
            "Trainable params: 114,796\n",
            "Non-trainable params: 0\n",
            "_________________________________________________________________\n",
            "Model: \"sequential_24\"\n",
            "_________________________________________________________________\n",
            "Layer (type)                 Output Shape              Param #   \n",
            "=================================================================\n",
            "conv2d_35 (Conv2D)           (None, 32, 32, 128)       3584      \n",
            "_________________________________________________________________\n",
            "leaky_re_lu_30 (LeakyReLU)   (None, 32, 32, 128)       0         \n",
            "_________________________________________________________________\n",
            "conv2d_36 (Conv2D)           (None, 32, 32, 128)       147584    \n",
            "_________________________________________________________________\n",
            "max_pooling2d_28 (MaxPooling (None, 16, 16, 128)       0         \n",
            "_________________________________________________________________\n",
            "dropout_60 (Dropout)         (None, 16, 16, 128)       0         \n",
            "_________________________________________________________________\n",
            "leaky_re_lu_31 (LeakyReLU)   (None, 16, 16, 128)       0         \n",
            "_________________________________________________________________\n",
            "conv2d_37 (Conv2D)           (None, 16, 16, 256)       295168    \n",
            "_________________________________________________________________\n",
            "leaky_re_lu_32 (LeakyReLU)   (None, 16, 16, 256)       0         \n",
            "_________________________________________________________________\n",
            "max_pooling2d_29 (MaxPooling (None, 8, 8, 256)         0         \n",
            "_________________________________________________________________\n",
            "dropout_61 (Dropout)         (None, 8, 8, 256)         0         \n",
            "_________________________________________________________________\n",
            "conv2d_38 (Conv2D)           (None, 8, 8, 512)         1180160   \n",
            "_________________________________________________________________\n",
            "leaky_re_lu_33 (LeakyReLU)   (None, 8, 8, 512)         0         \n",
            "_________________________________________________________________\n",
            "conv2d_39 (Conv2D)           (None, 6, 6, 256)         1179904   \n",
            "_________________________________________________________________\n",
            "leaky_re_lu_34 (LeakyReLU)   (None, 6, 6, 256)         0         \n",
            "_________________________________________________________________\n",
            "max_pooling2d_30 (MaxPooling (None, 3, 3, 256)         0         \n",
            "_________________________________________________________________\n",
            "dropout_62 (Dropout)         (None, 3, 3, 256)         0         \n",
            "_________________________________________________________________\n",
            "flatten_24 (Flatten)         (None, 2304)              0         \n",
            "_________________________________________________________________\n",
            "dense_64 (Dense)             (None, 1024)              2360320   \n",
            "_________________________________________________________________\n",
            "leaky_re_lu_35 (LeakyReLU)   (None, 1024)              0         \n",
            "_________________________________________________________________\n",
            "dropout_63 (Dropout)         (None, 1024)              0         \n",
            "_________________________________________________________________\n",
            "dense_65 (Dense)             (None, 200)               205000    \n",
            "_________________________________________________________________\n",
            "leaky_re_lu_36 (LeakyReLU)   (None, 200)               0         \n",
            "_________________________________________________________________\n",
            "dropout_64 (Dropout)         (None, 200)               0         \n",
            "_________________________________________________________________\n",
            "dense_66 (Dense)             (None, 20)                4020      \n",
            "_________________________________________________________________\n",
            "dropout_65 (Dropout)         (None, 20)                0         \n",
            "=================================================================\n",
            "Total params: 5,375,740\n",
            "Trainable params: 5,375,740\n",
            "Non-trainable params: 0\n",
            "_________________________________________________________________\n"
          ],
          "name": "stdout"
        }
      ]
    },
    {
      "cell_type": "markdown",
      "metadata": {
        "id": "b_EPlJQsweaK",
        "colab_type": "text"
      },
      "source": [
        "Έπειτα, εκπαιδεύουμε τα προαναφερθέντα μοντέλα αξιοποιώντας τις τεχνικές για το πρόβλημα της υπερεκπαίδευσης."
      ]
    },
    {
      "cell_type": "code",
      "metadata": {
        "id": "OQ9q-ybIXF7t",
        "colab_type": "code",
        "colab": {
          "base_uri": "https://localhost:8080/",
          "height": 454
        },
        "outputId": "ded55c75-173a-4e22-be25-8580ef13113c"
      },
      "source": [
        "#define early stopping after 4 consecutive epochs with increasing loss  \n",
        "callback = tf.keras.callbacks.EarlyStopping(monitor='loss', patience=4)\n",
        "\n",
        "# define batch size\n",
        "bs = 32\n",
        "\n",
        "# fits the model on batches with real-time data augmentation\n",
        "model_softbase_aug.compile(optimizer='adam',\n",
        "                  loss='categorical_crossentropy',\n",
        "                  metrics=['accuracy'])\n",
        "\n",
        "model_softbase_aug.fit(datagen.flow(x_train, y_train_categ, batch_size=bs),\n",
        "                    steps_per_epoch=len(x_train)/bs, epochs=50,\n",
        "                     validation_data=datagen.flow(x_val, y_val_categ, batch_size=bs),\n",
        "                    validation_steps = len(x_val)/bs, callbacks=callback)\n",
        "\n",
        "model_softbase_aug.save('softbase_aug.h5')"
      ],
      "execution_count": null,
      "outputs": [
        {
          "output_type": "stream",
          "text": [
            "Epoch 1/50\n",
            "266/265 [==============================] - 5s 20ms/step - loss: 6.0866 - accuracy: 0.1524 - val_loss: 4.2446 - val_accuracy: 0.1700\n",
            "Epoch 2/50\n",
            "266/265 [==============================] - 5s 18ms/step - loss: 4.0062 - accuracy: 0.1916 - val_loss: 2.9533 - val_accuracy: 0.2267\n",
            "Epoch 3/50\n",
            "266/265 [==============================] - 5s 18ms/step - loss: 3.3819 - accuracy: 0.2214 - val_loss: 2.6675 - val_accuracy: 0.2347\n",
            "Epoch 4/50\n",
            "266/265 [==============================] - 5s 18ms/step - loss: 3.1807 - accuracy: 0.2356 - val_loss: 2.5239 - val_accuracy: 0.2653\n",
            "Epoch 5/50\n",
            "266/265 [==============================] - 5s 18ms/step - loss: 3.1966 - accuracy: 0.2498 - val_loss: 2.5655 - val_accuracy: 0.2613\n",
            "Epoch 6/50\n",
            "266/265 [==============================] - 5s 18ms/step - loss: 3.1475 - accuracy: 0.2465 - val_loss: 2.5218 - val_accuracy: 0.2620\n",
            "Epoch 7/50\n",
            "266/265 [==============================] - 5s 19ms/step - loss: 3.1668 - accuracy: 0.2475 - val_loss: 2.5938 - val_accuracy: 0.2480\n",
            "Epoch 8/50\n",
            "266/265 [==============================] - 5s 18ms/step - loss: 3.1278 - accuracy: 0.2575 - val_loss: 2.5418 - val_accuracy: 0.2473\n",
            "Epoch 9/50\n",
            "266/265 [==============================] - 5s 18ms/step - loss: 3.1558 - accuracy: 0.2506 - val_loss: 2.5559 - val_accuracy: 0.2400\n",
            "Epoch 10/50\n",
            "266/265 [==============================] - 5s 19ms/step - loss: 3.1888 - accuracy: 0.2498 - val_loss: 2.5766 - val_accuracy: 0.2560\n",
            "Epoch 11/50\n",
            "266/265 [==============================] - 5s 18ms/step - loss: 3.1549 - accuracy: 0.2478 - val_loss: 2.5772 - val_accuracy: 0.2460\n",
            "Epoch 12/50\n",
            "266/265 [==============================] - 5s 18ms/step - loss: 3.1666 - accuracy: 0.2454 - val_loss: 2.5462 - val_accuracy: 0.2553\n"
          ],
          "name": "stdout"
        }
      ]
    },
    {
      "cell_type": "code",
      "metadata": {
        "id": "RQjFq5uKXFuO",
        "colab_type": "code",
        "colab": {
          "base_uri": "https://localhost:8080/",
          "height": 708
        },
        "outputId": "2a88107e-2872-4c4b-c4a5-5d22dd233bce"
      },
      "source": [
        "#define early stopping after 4 consecutive epochs with increasing loss  \n",
        "callback = tf.keras.callbacks.EarlyStopping(monitor='loss', patience=4)\n",
        "\n",
        "# define batch size\n",
        "bs = 32\n",
        "\n",
        "# fits the model on batches with real-time data augmentation\n",
        "model_mlp_aug.compile(optimizer='adam',\n",
        "                  loss='categorical_crossentropy',\n",
        "                  metrics=['accuracy'])\n",
        "\n",
        "model_mlp_aug.fit(datagen.flow(x_train, y_train_categ, batch_size=bs),\n",
        "                    steps_per_epoch=len(x_train)/bs, epochs=50,\n",
        "                     validation_data=datagen.flow(x_val, y_val_categ, batch_size=bs),\n",
        "                    validation_steps = len(x_val)/bs, callbacks=callback)\n",
        "\n",
        "model_mlp_aug.save('mlp_aug.h5')"
      ],
      "execution_count": null,
      "outputs": [
        {
          "output_type": "stream",
          "text": [
            "Epoch 1/50\n",
            "266/265 [==============================] - 5s 19ms/step - loss: 6.7099 - accuracy: 0.1552 - val_loss: 4.3620 - val_accuracy: 0.1940\n",
            "Epoch 2/50\n",
            "266/265 [==============================] - 5s 19ms/step - loss: 4.6082 - accuracy: 0.2018 - val_loss: 3.1772 - val_accuracy: 0.2107\n",
            "Epoch 3/50\n",
            "266/265 [==============================] - 5s 18ms/step - loss: 4.1860 - accuracy: 0.2244 - val_loss: 2.6923 - val_accuracy: 0.2460\n",
            "Epoch 4/50\n",
            "266/265 [==============================] - 5s 18ms/step - loss: 3.9737 - accuracy: 0.2418 - val_loss: 2.7283 - val_accuracy: 0.2413\n",
            "Epoch 5/50\n",
            "266/265 [==============================] - 5s 18ms/step - loss: 3.8781 - accuracy: 0.2395 - val_loss: 2.6994 - val_accuracy: 0.2300\n",
            "Epoch 6/50\n",
            "266/265 [==============================] - 5s 19ms/step - loss: 3.8796 - accuracy: 0.2578 - val_loss: 2.5445 - val_accuracy: 0.2687\n",
            "Epoch 7/50\n",
            "266/265 [==============================] - 5s 18ms/step - loss: 3.8084 - accuracy: 0.2642 - val_loss: 2.4853 - val_accuracy: 0.2933\n",
            "Epoch 8/50\n",
            "266/265 [==============================] - 5s 18ms/step - loss: 3.7752 - accuracy: 0.2644 - val_loss: 2.4833 - val_accuracy: 0.2847\n",
            "Epoch 9/50\n",
            "266/265 [==============================] - 5s 18ms/step - loss: 3.7246 - accuracy: 0.2833 - val_loss: 2.4160 - val_accuracy: 0.2980\n",
            "Epoch 10/50\n",
            "266/265 [==============================] - 5s 18ms/step - loss: 3.7326 - accuracy: 0.2887 - val_loss: 2.4505 - val_accuracy: 0.2627\n",
            "Epoch 11/50\n",
            "266/265 [==============================] - 5s 19ms/step - loss: 3.6853 - accuracy: 0.2838 - val_loss: 2.4252 - val_accuracy: 0.2987\n",
            "Epoch 12/50\n",
            "266/265 [==============================] - 5s 19ms/step - loss: 3.7235 - accuracy: 0.2862 - val_loss: 2.3784 - val_accuracy: 0.2980\n",
            "Epoch 13/50\n",
            "266/265 [==============================] - 5s 18ms/step - loss: 3.6526 - accuracy: 0.2919 - val_loss: 2.3847 - val_accuracy: 0.3047\n",
            "Epoch 14/50\n",
            "266/265 [==============================] - 5s 18ms/step - loss: 3.6484 - accuracy: 0.2911 - val_loss: 2.4088 - val_accuracy: 0.3173\n",
            "Epoch 15/50\n",
            "266/265 [==============================] - 5s 18ms/step - loss: 3.6137 - accuracy: 0.2905 - val_loss: 2.5035 - val_accuracy: 0.3007\n",
            "Epoch 16/50\n",
            "266/265 [==============================] - 5s 18ms/step - loss: 3.6879 - accuracy: 0.2885 - val_loss: 2.3563 - val_accuracy: 0.3153\n",
            "Epoch 17/50\n",
            "266/265 [==============================] - 5s 18ms/step - loss: 3.6808 - accuracy: 0.2827 - val_loss: 2.3824 - val_accuracy: 0.3107\n",
            "Epoch 18/50\n",
            "266/265 [==============================] - 5s 19ms/step - loss: 3.6383 - accuracy: 0.2933 - val_loss: 2.3714 - val_accuracy: 0.3060\n",
            "Epoch 19/50\n",
            "266/265 [==============================] - 5s 18ms/step - loss: 3.6601 - accuracy: 0.2972 - val_loss: 2.5223 - val_accuracy: 0.2613\n"
          ],
          "name": "stdout"
        }
      ]
    },
    {
      "cell_type": "code",
      "metadata": {
        "id": "iaMZx6vHXFb5",
        "colab_type": "code",
        "colab": {
          "base_uri": "https://localhost:8080/",
          "height": 454
        },
        "outputId": "ffdf97f6-b187-4464-d908-2dc1102d0671"
      },
      "source": [
        "#define early stopping after 4 consecutive epochs with increasing loss  \n",
        "callback = tf.keras.callbacks.EarlyStopping(monitor='loss', patience=4)\n",
        "\n",
        "# define batch size\n",
        "bs = 32\n",
        "\n",
        "# fits the model on batches with real-time data augmentation\n",
        "model_lenet_aug.compile(optimizer='adam',\n",
        "                  loss='categorical_crossentropy',\n",
        "                  metrics=['accuracy'])\n",
        "\n",
        "model_lenet_aug.fit(datagen.flow(x_train, y_train_categ, batch_size=bs),\n",
        "                    steps_per_epoch=len(x_train)/bs, epochs=50,\n",
        "                     validation_data=datagen.flow(x_val, y_val_categ, batch_size=bs),\n",
        "                    validation_steps = len(x_val)/bs, callbacks=callback)\n",
        "\n",
        "model_lenet_aug.save('lenet_aug.h5')"
      ],
      "execution_count": null,
      "outputs": [
        {
          "output_type": "stream",
          "text": [
            "Epoch 1/50\n",
            "266/265 [==============================] - 5s 19ms/step - loss: 7.7590 - accuracy: 0.1602 - val_loss: 2.4278 - val_accuracy: 0.2693\n",
            "Epoch 2/50\n",
            "266/265 [==============================] - 6s 22ms/step - loss: 7.5331 - accuracy: 0.2309 - val_loss: 2.2652 - val_accuracy: 0.3213\n",
            "Epoch 3/50\n",
            "266/265 [==============================] - 5s 19ms/step - loss: 7.4372 - accuracy: 0.2521 - val_loss: 2.1496 - val_accuracy: 0.3667\n",
            "Epoch 4/50\n",
            "266/265 [==============================] - 5s 19ms/step - loss: 7.4645 - accuracy: 0.2691 - val_loss: 2.1421 - val_accuracy: 0.3560\n",
            "Epoch 5/50\n",
            "266/265 [==============================] - 5s 19ms/step - loss: 7.3273 - accuracy: 0.2774 - val_loss: 2.0101 - val_accuracy: 0.4033\n",
            "Epoch 6/50\n",
            "266/265 [==============================] - 5s 20ms/step - loss: 7.5500 - accuracy: 0.2807 - val_loss: 2.0187 - val_accuracy: 0.3740\n",
            "Epoch 7/50\n",
            "266/265 [==============================] - 5s 20ms/step - loss: 7.3451 - accuracy: 0.3013 - val_loss: 1.9947 - val_accuracy: 0.3873\n",
            "Epoch 8/50\n",
            "266/265 [==============================] - 5s 19ms/step - loss: 7.1975 - accuracy: 0.3095 - val_loss: 1.9706 - val_accuracy: 0.4267\n",
            "Epoch 9/50\n",
            "266/265 [==============================] - 5s 19ms/step - loss: 7.4820 - accuracy: 0.3006 - val_loss: 1.9622 - val_accuracy: 0.4087\n",
            "Epoch 10/50\n",
            "266/265 [==============================] - 5s 19ms/step - loss: 7.3234 - accuracy: 0.3181 - val_loss: 1.8717 - val_accuracy: 0.4367\n",
            "Epoch 11/50\n",
            "266/265 [==============================] - 5s 19ms/step - loss: 7.3561 - accuracy: 0.3169 - val_loss: 1.8840 - val_accuracy: 0.4220\n",
            "Epoch 12/50\n",
            "266/265 [==============================] - 5s 19ms/step - loss: 7.2537 - accuracy: 0.3314 - val_loss: 1.8760 - val_accuracy: 0.4253\n"
          ],
          "name": "stdout"
        }
      ]
    },
    {
      "cell_type": "code",
      "metadata": {
        "id": "X2j48REwVJhc",
        "colab_type": "code",
        "colab": {
          "base_uri": "https://localhost:8080/",
          "height": 854
        },
        "outputId": "763dd8d0-5709-451d-d967-4975190d466b"
      },
      "source": [
        "#define early stopping after 4 consecutive epochs with increasing loss  \n",
        "callback = tf.keras.callbacks.EarlyStopping(monitor='loss', patience=5)\n",
        "\n",
        "# define batch size\n",
        "bs = 32\n",
        "\n",
        "# fits the model on batches with real-time data augmentation\n",
        "model_cnn1_aug.compile(optimizer='adam',\n",
        "                  loss='categorical_crossentropy',\n",
        "                  metrics=['accuracy'])\n",
        "\n",
        "model_cnn1_aug.fit(datagen.flow(x_train, y_train_categ, batch_size=bs),\n",
        "                    steps_per_epoch=len(x_train)/bs, epochs=50,\n",
        "                     validation_data=datagen.flow(x_val, y_val_categ, batch_size=bs),\n",
        "                    validation_steps = len(x_val)/bs, callbacks=callback)\n",
        "\n",
        "model_cnn1_aug.save('cnn1_aug.h5')"
      ],
      "execution_count": null,
      "outputs": [
        {
          "output_type": "stream",
          "text": [
            "Epoch 1/50\n",
            "266/265 [==============================] - 5s 19ms/step - loss: 5.1456 - accuracy: 0.1867 - val_loss: 2.4954 - val_accuracy: 0.2633\n",
            "Epoch 2/50\n",
            "266/265 [==============================] - 5s 19ms/step - loss: 4.9150 - accuracy: 0.2609 - val_loss: 2.3738 - val_accuracy: 0.2847\n",
            "Epoch 3/50\n",
            "266/265 [==============================] - 5s 19ms/step - loss: 4.7490 - accuracy: 0.2898 - val_loss: 2.2952 - val_accuracy: 0.3153\n",
            "Epoch 4/50\n",
            "266/265 [==============================] - 5s 19ms/step - loss: 4.8030 - accuracy: 0.2960 - val_loss: 2.3111 - val_accuracy: 0.3047\n",
            "Epoch 5/50\n",
            "266/265 [==============================] - 5s 19ms/step - loss: 4.6997 - accuracy: 0.3147 - val_loss: 2.1370 - val_accuracy: 0.3513\n",
            "Epoch 6/50\n",
            "266/265 [==============================] - 5s 19ms/step - loss: 4.7375 - accuracy: 0.3228 - val_loss: 2.0900 - val_accuracy: 0.3767\n",
            "Epoch 7/50\n",
            "266/265 [==============================] - 5s 19ms/step - loss: 4.7794 - accuracy: 0.3335 - val_loss: 2.1328 - val_accuracy: 0.3573\n",
            "Epoch 8/50\n",
            "266/265 [==============================] - 5s 19ms/step - loss: 4.6434 - accuracy: 0.3338 - val_loss: 2.0639 - val_accuracy: 0.3720\n",
            "Epoch 9/50\n",
            "266/265 [==============================] - 5s 19ms/step - loss: 4.6305 - accuracy: 0.3504 - val_loss: 2.0266 - val_accuracy: 0.4027\n",
            "Epoch 10/50\n",
            "266/265 [==============================] - 5s 19ms/step - loss: 4.7523 - accuracy: 0.3472 - val_loss: 2.1143 - val_accuracy: 0.3733\n",
            "Epoch 11/50\n",
            "266/265 [==============================] - 5s 19ms/step - loss: 4.6160 - accuracy: 0.3462 - val_loss: 1.9969 - val_accuracy: 0.3947\n",
            "Epoch 12/50\n",
            "266/265 [==============================] - 5s 19ms/step - loss: 4.6381 - accuracy: 0.3614 - val_loss: 2.0422 - val_accuracy: 0.3973\n",
            "Epoch 13/50\n",
            "266/265 [==============================] - 5s 19ms/step - loss: 4.5813 - accuracy: 0.3661 - val_loss: 1.9961 - val_accuracy: 0.4020\n",
            "Epoch 14/50\n",
            "266/265 [==============================] - 5s 19ms/step - loss: 4.6440 - accuracy: 0.3598 - val_loss: 2.0073 - val_accuracy: 0.3907\n",
            "Epoch 15/50\n",
            "266/265 [==============================] - 5s 19ms/step - loss: 4.5526 - accuracy: 0.3702 - val_loss: 1.9916 - val_accuracy: 0.3973\n",
            "Epoch 16/50\n",
            "266/265 [==============================] - 5s 19ms/step - loss: 4.6208 - accuracy: 0.3746 - val_loss: 2.1046 - val_accuracy: 0.3853\n",
            "Epoch 17/50\n",
            "266/265 [==============================] - 5s 19ms/step - loss: 4.6524 - accuracy: 0.3645 - val_loss: 1.9576 - val_accuracy: 0.4153\n",
            "Epoch 18/50\n",
            "266/265 [==============================] - 5s 19ms/step - loss: 4.4511 - accuracy: 0.3789 - val_loss: 1.9899 - val_accuracy: 0.4013\n",
            "Epoch 19/50\n",
            "266/265 [==============================] - 5s 19ms/step - loss: 4.5483 - accuracy: 0.3794 - val_loss: 1.9575 - val_accuracy: 0.4047\n",
            "Epoch 20/50\n",
            "266/265 [==============================] - 5s 19ms/step - loss: 4.6382 - accuracy: 0.3760 - val_loss: 1.9916 - val_accuracy: 0.4080\n",
            "Epoch 21/50\n",
            "266/265 [==============================] - 5s 19ms/step - loss: 4.5661 - accuracy: 0.3852 - val_loss: 1.9305 - val_accuracy: 0.4227\n",
            "Epoch 22/50\n",
            "266/265 [==============================] - 5s 19ms/step - loss: 4.5753 - accuracy: 0.3821 - val_loss: 1.9462 - val_accuracy: 0.4327\n",
            "Epoch 23/50\n",
            "266/265 [==============================] - 5s 19ms/step - loss: 4.5970 - accuracy: 0.3827 - val_loss: 1.9190 - val_accuracy: 0.4200\n"
          ],
          "name": "stdout"
        }
      ]
    },
    {
      "cell_type": "code",
      "metadata": {
        "id": "RQ6jcvEbPqEe",
        "colab_type": "code",
        "colab": {
          "base_uri": "https://localhost:8080/",
          "height": 1000
        },
        "outputId": "2367beaf-00c8-40fb-cca4-299232df1b11"
      },
      "source": [
        "#define early stopping after 4 consecutive epochs with increasing loss  \n",
        "callback = tf.keras.callbacks.EarlyStopping(monitor='loss', patience=7)\n",
        "\n",
        "# define batch size\n",
        "bs = 64\n",
        "# fits the model on batches with real-time data augmentation\n",
        "model_cnn2_aug.compile(optimizer='adam',\n",
        "                  loss='categorical_crossentropy',\n",
        "                  metrics=['accuracy'])\n",
        "\n",
        "model_cnn2_aug.fit(datagen.flow(x_train, y_train_categ, batch_size=bs),\n",
        "                    steps_per_epoch=len(x_train)/bs, epochs=50,\n",
        "                     validation_data=datagen.flow(x_val, y_val_categ, batch_size=bs),\n",
        "                    validation_steps = len(x_val)/bs, callbacks=callback)\n",
        "\n",
        "model_cnn2_aug.save('cnn2_aug.h5')"
      ],
      "execution_count": null,
      "outputs": [
        {
          "output_type": "stream",
          "text": [
            "Epoch 1/50\n",
            "133/132 [==============================] - 6s 45ms/step - loss: 5.2574 - accuracy: 0.1499 - val_loss: 2.4970 - val_accuracy: 0.2433\n",
            "Epoch 2/50\n",
            "133/132 [==============================] - 6s 44ms/step - loss: 5.1543 - accuracy: 0.2372 - val_loss: 2.2976 - val_accuracy: 0.3173\n",
            "Epoch 3/50\n",
            "133/132 [==============================] - 6s 45ms/step - loss: 4.8788 - accuracy: 0.2871 - val_loss: 2.1019 - val_accuracy: 0.3713\n",
            "Epoch 4/50\n",
            "133/132 [==============================] - 6s 45ms/step - loss: 4.6733 - accuracy: 0.3236 - val_loss: 2.0657 - val_accuracy: 0.3907\n",
            "Epoch 5/50\n",
            "133/132 [==============================] - 6s 44ms/step - loss: 4.6546 - accuracy: 0.3464 - val_loss: 1.9483 - val_accuracy: 0.4120\n",
            "Epoch 6/50\n",
            "133/132 [==============================] - 6s 45ms/step - loss: 4.6505 - accuracy: 0.3711 - val_loss: 1.9589 - val_accuracy: 0.4220\n",
            "Epoch 7/50\n",
            "133/132 [==============================] - 6s 44ms/step - loss: 4.6641 - accuracy: 0.3758 - val_loss: 1.8186 - val_accuracy: 0.4760\n",
            "Epoch 8/50\n",
            "133/132 [==============================] - 6s 44ms/step - loss: 4.5594 - accuracy: 0.3926 - val_loss: 1.7334 - val_accuracy: 0.4760\n",
            "Epoch 9/50\n",
            "133/132 [==============================] - 6s 44ms/step - loss: 4.4288 - accuracy: 0.4076 - val_loss: 1.8069 - val_accuracy: 0.4607\n",
            "Epoch 10/50\n",
            "133/132 [==============================] - 6s 44ms/step - loss: 4.4437 - accuracy: 0.4212 - val_loss: 1.7340 - val_accuracy: 0.4733\n",
            "Epoch 11/50\n",
            "133/132 [==============================] - 6s 45ms/step - loss: 4.3505 - accuracy: 0.4273 - val_loss: 1.6925 - val_accuracy: 0.4873\n",
            "Epoch 12/50\n",
            "133/132 [==============================] - 6s 45ms/step - loss: 4.4793 - accuracy: 0.4254 - val_loss: 1.7882 - val_accuracy: 0.4873\n",
            "Epoch 13/50\n",
            "133/132 [==============================] - 6s 44ms/step - loss: 4.4269 - accuracy: 0.4388 - val_loss: 1.6183 - val_accuracy: 0.5140\n",
            "Epoch 14/50\n",
            "133/132 [==============================] - 6s 44ms/step - loss: 4.3387 - accuracy: 0.4418 - val_loss: 1.6037 - val_accuracy: 0.5340\n",
            "Epoch 15/50\n",
            "133/132 [==============================] - 6s 44ms/step - loss: 4.2839 - accuracy: 0.4545 - val_loss: 1.6009 - val_accuracy: 0.5233\n",
            "Epoch 16/50\n",
            "133/132 [==============================] - 6s 44ms/step - loss: 4.3327 - accuracy: 0.4624 - val_loss: 1.6827 - val_accuracy: 0.5073\n",
            "Epoch 17/50\n",
            "133/132 [==============================] - 6s 45ms/step - loss: 4.3054 - accuracy: 0.4631 - val_loss: 1.5498 - val_accuracy: 0.5327\n",
            "Epoch 18/50\n",
            "133/132 [==============================] - 6s 44ms/step - loss: 4.4031 - accuracy: 0.4692 - val_loss: 1.5885 - val_accuracy: 0.5180\n",
            "Epoch 19/50\n",
            "133/132 [==============================] - 6s 45ms/step - loss: 4.2904 - accuracy: 0.4732 - val_loss: 1.5269 - val_accuracy: 0.5460\n",
            "Epoch 20/50\n",
            "133/132 [==============================] - 6s 45ms/step - loss: 4.1336 - accuracy: 0.4909 - val_loss: 1.6358 - val_accuracy: 0.5227\n",
            "Epoch 21/50\n",
            "133/132 [==============================] - 6s 44ms/step - loss: 4.2032 - accuracy: 0.4941 - val_loss: 1.4792 - val_accuracy: 0.5680\n",
            "Epoch 22/50\n",
            "133/132 [==============================] - 6s 44ms/step - loss: 4.2104 - accuracy: 0.4895 - val_loss: 1.5363 - val_accuracy: 0.5613\n",
            "Epoch 23/50\n",
            "133/132 [==============================] - 6s 45ms/step - loss: 4.1824 - accuracy: 0.5005 - val_loss: 1.4558 - val_accuracy: 0.5753\n",
            "Epoch 24/50\n",
            "133/132 [==============================] - 6s 44ms/step - loss: 4.2158 - accuracy: 0.5025 - val_loss: 1.5233 - val_accuracy: 0.5573\n",
            "Epoch 25/50\n",
            "133/132 [==============================] - 6s 45ms/step - loss: 4.0698 - accuracy: 0.5055 - val_loss: 1.4618 - val_accuracy: 0.5760\n",
            "Epoch 26/50\n",
            "133/132 [==============================] - 6s 44ms/step - loss: 4.1654 - accuracy: 0.5119 - val_loss: 1.5274 - val_accuracy: 0.5500\n",
            "Epoch 27/50\n",
            "133/132 [==============================] - 6s 44ms/step - loss: 4.0278 - accuracy: 0.5144 - val_loss: 1.5592 - val_accuracy: 0.5747\n",
            "Epoch 28/50\n",
            "133/132 [==============================] - 6s 46ms/step - loss: 4.1530 - accuracy: 0.5129 - val_loss: 1.4172 - val_accuracy: 0.5953\n",
            "Epoch 29/50\n",
            "133/132 [==============================] - 6s 46ms/step - loss: 4.0525 - accuracy: 0.5147 - val_loss: 1.5941 - val_accuracy: 0.5620\n",
            "Epoch 30/50\n",
            "133/132 [==============================] - 6s 45ms/step - loss: 4.3173 - accuracy: 0.4940 - val_loss: 1.4377 - val_accuracy: 0.5800\n",
            "Epoch 31/50\n",
            "133/132 [==============================] - 6s 45ms/step - loss: 4.1658 - accuracy: 0.5109 - val_loss: 1.4678 - val_accuracy: 0.5627\n",
            "Epoch 32/50\n",
            "133/132 [==============================] - 6s 45ms/step - loss: 4.0189 - accuracy: 0.5227 - val_loss: 1.4855 - val_accuracy: 0.5607\n",
            "Epoch 33/50\n",
            "133/132 [==============================] - 6s 44ms/step - loss: 3.9437 - accuracy: 0.5393 - val_loss: 1.5751 - val_accuracy: 0.5620\n",
            "Epoch 34/50\n",
            "133/132 [==============================] - 6s 45ms/step - loss: 4.0388 - accuracy: 0.5320 - val_loss: 1.4362 - val_accuracy: 0.5953\n",
            "Epoch 35/50\n",
            "133/132 [==============================] - 6s 44ms/step - loss: 4.0735 - accuracy: 0.5352 - val_loss: 1.4535 - val_accuracy: 0.5840\n",
            "Epoch 36/50\n",
            "133/132 [==============================] - 6s 45ms/step - loss: 3.9596 - accuracy: 0.5422 - val_loss: 1.4930 - val_accuracy: 0.5773\n",
            "Epoch 37/50\n",
            "133/132 [==============================] - 6s 44ms/step - loss: 4.0751 - accuracy: 0.5391 - val_loss: 1.4067 - val_accuracy: 0.5933\n",
            "Epoch 38/50\n",
            "133/132 [==============================] - 6s 45ms/step - loss: 4.1885 - accuracy: 0.5272 - val_loss: 1.4896 - val_accuracy: 0.5773\n",
            "Epoch 39/50\n",
            "133/132 [==============================] - 6s 44ms/step - loss: 4.0778 - accuracy: 0.5440 - val_loss: 1.5794 - val_accuracy: 0.5540\n",
            "Epoch 40/50\n",
            "133/132 [==============================] - 6s 44ms/step - loss: 3.9938 - accuracy: 0.5366 - val_loss: 1.4745 - val_accuracy: 0.5880\n",
            "Epoch 41/50\n",
            "133/132 [==============================] - 6s 44ms/step - loss: 4.0930 - accuracy: 0.5325 - val_loss: 1.4533 - val_accuracy: 0.5867\n",
            "Epoch 42/50\n",
            "133/132 [==============================] - 6s 44ms/step - loss: 4.0768 - accuracy: 0.5433 - val_loss: 1.4586 - val_accuracy: 0.6047\n",
            "Epoch 43/50\n",
            "133/132 [==============================] - 6s 44ms/step - loss: 4.2653 - accuracy: 0.5306 - val_loss: 1.5147 - val_accuracy: 0.5593\n",
            "Epoch 44/50\n",
            "133/132 [==============================] - 6s 45ms/step - loss: 3.9570 - accuracy: 0.5460 - val_loss: 1.5533 - val_accuracy: 0.5553\n",
            "Epoch 45/50\n",
            "133/132 [==============================] - 6s 45ms/step - loss: 4.1026 - accuracy: 0.5407 - val_loss: 1.4619 - val_accuracy: 0.5860\n",
            "Epoch 46/50\n",
            "133/132 [==============================] - 6s 44ms/step - loss: 4.0017 - accuracy: 0.5427 - val_loss: 1.4828 - val_accuracy: 0.5860\n",
            "Epoch 47/50\n",
            "133/132 [==============================] - 6s 45ms/step - loss: 4.1017 - accuracy: 0.5429 - val_loss: 1.4742 - val_accuracy: 0.5873\n",
            "Epoch 48/50\n",
            "133/132 [==============================] - 6s 45ms/step - loss: 4.0597 - accuracy: 0.5414 - val_loss: 1.5055 - val_accuracy: 0.5767\n",
            "Epoch 49/50\n",
            "133/132 [==============================] - 6s 45ms/step - loss: 4.0516 - accuracy: 0.5542 - val_loss: 1.5102 - val_accuracy: 0.5993\n",
            "Epoch 50/50\n",
            "133/132 [==============================] - 6s 45ms/step - loss: 4.1080 - accuracy: 0.5435 - val_loss: 1.4104 - val_accuracy: 0.6213\n"
          ],
          "name": "stdout"
        }
      ]
    },
    {
      "cell_type": "markdown",
      "metadata": {
        "id": "OYBdWOBXgMW_",
        "colab_type": "text"
      },
      "source": [
        "- Παρατηρούμε πως τα οφέλη των data augmentation και regularization (όπως dropout layers) τεχνικών είναι πιο αισθητά στις μεγάλες αρχιτεκτονικές όπου είναι πιο επιρρεπής στο overfitting. Συγκεκριμένα, βλέπουμε πως σε βαθιές αρχιτεκτονικές όπως το cnn2, οι οποίες όπως εξηγήσαμε είναι πιο επιρρεπείς στο overfitting, το validation accuracy αυξάνεται και συγκλίνει σε μεγαλύτερες τιμές (από 52,2% σε 62.13%). \n",
        "- Επίσης το Early Stopping είναι χρήσιμο προλαμβάνοντας τις περιπτώσεις overfitting, αφού πετυχαίνουμε καλά validation accuracies και το δίκτυο σταματά να εκπαιδεύεται προτού φτάσουμε σε μεγάλες τιμές accuracy."
      ]
    },
    {
      "cell_type": "markdown",
      "metadata": {
        "id": "AokQOKQeH_sl",
        "colab_type": "text"
      },
      "source": [
        "### Βήμα 2\n",
        "Αξιολογήστε την ακρίβεια για το validation και το test set σας."
      ]
    },
    {
      "cell_type": "markdown",
      "metadata": {
        "id": "_vSgX06vVuQd",
        "colab_type": "text"
      },
      "source": [
        "###***Απάντηση:***\n",
        "\n",
        "Αρχικά, φορτώνουμε τις ιστορίες των μοντέλων που έχουν αποθηκευτεί από τα προηγούμενα βήματα. Αυτό γίνεται ώστε να μην είναι ανάγκη κάθε φορά που αλλάζουμε runtime στο collab, να πρέπει να επανεκπαιδεύσουμε απ'την αρχή, όλα τα μοντέλα. Στην συνέχεια, εφαρμόζουμε την ακόλουθη συνάρτηση για κάθε μία από τις δοθείσες αρχιτεκτονικές. "
      ]
    },
    {
      "cell_type": "code",
      "metadata": {
        "id": "ejCub7T_Vd8O",
        "colab_type": "code",
        "colab": {}
      },
      "source": [
        "model_cnn1_aug =  tf.keras.models.load_model('cnn1_aug.h5')\n",
        "\n",
        "model_cnn2_aug =  tf.keras.models.load_model(\"cnn2_aug.h5\")\n",
        "\n",
        "model_lenet_aug =  tf.keras.models.load_model(\"lenet_aug.h5\")\n",
        "\n",
        "model_mlp_aug =  tf.keras.models.load_model(\"mlp_aug.h5\")\n",
        "\n",
        "model_softbase_aug  = tf.keras.models.load_model(\"softbase_aug.h5\")"
      ],
      "execution_count": null,
      "outputs": []
    },
    {
      "cell_type": "markdown",
      "metadata": {
        "id": "m6f4ZxYxVxFh",
        "colab_type": "text"
      },
      "source": [
        "Στην συνέχεια γίνεται η αξιολόγηση των προαναφερθέντων μοντέλων."
      ]
    },
    {
      "cell_type": "code",
      "metadata": {
        "id": "7U2IPgWPtdgi",
        "colab_type": "code",
        "colab": {
          "base_uri": "https://localhost:8080/",
          "height": 145
        },
        "outputId": "b9ed8bfb-9b74-4265-a520-3f069a5ea744"
      },
      "source": [
        "print(\"\\x1b[31mSoftbase model\\x1b[0m\")\n",
        "test_loss, test_accuracy = model_softbase_aug.evaluate(x_test, y_test_categ)\n",
        "validation_loss, validation_accuracy = model_softbase_aug.evaluate(x_val, y_val_categ)\n",
        "print(\"Test loss:\", test_loss)\n",
        "print(\"Test accuracy:\", test_accuracy)\n",
        "print(\"Validation loss:\", validation_loss)\n",
        "print(\"Validation accuracy:\",validation_accuracy)"
      ],
      "execution_count": null,
      "outputs": [
        {
          "output_type": "stream",
          "text": [
            "\u001b[31mSoftbase model\u001b[0m\n",
            "63/63 [==============================] - 0s 2ms/step - loss: 2.8125 - accuracy: 0.1400\n",
            "47/47 [==============================] - 0s 2ms/step - loss: 2.7859 - accuracy: 0.1473\n",
            "Test loss: 2.8125205039978027\n",
            "Test accuracy: 0.14000000059604645\n",
            "Validation loss: 2.785858154296875\n",
            "Validation accuracy: 0.14733333885669708\n"
          ],
          "name": "stdout"
        }
      ]
    },
    {
      "cell_type": "code",
      "metadata": {
        "id": "qpvB-vaOSCne",
        "colab_type": "code",
        "colab": {
          "base_uri": "https://localhost:8080/",
          "height": 145
        },
        "outputId": "a3d50f4e-6ce9-45e1-a4e3-d7155b012ab6"
      },
      "source": [
        "print(\"\\x1b[31mMlp model\\x1b[0m\")\n",
        "test_loss, test_accuracy = model_mlp_aug.evaluate(x_test, y_test_categ)\n",
        "validation_loss, validation_accuracy = model_mlp_aug.evaluate(x_val, y_val_categ)\n",
        "print(\"Test loss:\", test_loss)\n",
        "print(\"Test accuracy:\", test_accuracy)\n",
        "print(\"Validation loss:\", validation_loss)\n",
        "print(\"Validation accuracy:\",validation_accuracy)"
      ],
      "execution_count": null,
      "outputs": [
        {
          "output_type": "stream",
          "text": [
            "\u001b[31mMlp model\u001b[0m\n",
            "63/63 [==============================] - 0s 2ms/step - loss: 2.8419 - accuracy: 0.1440\n",
            "47/47 [==============================] - 0s 2ms/step - loss: 2.8413 - accuracy: 0.1440\n",
            "Test loss: 2.841906785964966\n",
            "Test accuracy: 0.14399999380111694\n",
            "Validation loss: 2.841315746307373\n",
            "Validation accuracy: 0.14399999380111694\n"
          ],
          "name": "stdout"
        }
      ]
    },
    {
      "cell_type": "code",
      "metadata": {
        "id": "5WUP0P9F4ah3",
        "colab_type": "code",
        "colab": {
          "base_uri": "https://localhost:8080/",
          "height": 145
        },
        "outputId": "6f391af7-7c65-407b-eae0-c7744f8b7ce6"
      },
      "source": [
        "print(\"\\x1b[31mLenet model\\x1b[0m\")\n",
        "test_loss, test_accuracy = model_lenet_aug.evaluate(x_test, y_test_categ)\n",
        "validation_loss, validation_accuracy = model_lenet_aug.evaluate(x_val, y_val_categ)\n",
        "print(\"Test loss:\", test_loss)\n",
        "print(\"Test accuracy:\", test_accuracy)\n",
        "print(\"Validation loss:\", validation_loss)\n",
        "print(\"Validation accuracy:\",validation_accuracy)"
      ],
      "execution_count": null,
      "outputs": [
        {
          "output_type": "stream",
          "text": [
            "\u001b[31mLenet model\u001b[0m\n",
            "63/63 [==============================] - 0s 3ms/step - loss: 3.6473 - accuracy: 0.1055\n",
            "47/47 [==============================] - 0s 3ms/step - loss: 3.6322 - accuracy: 0.1047\n",
            "Test loss: 3.6472768783569336\n",
            "Test accuracy: 0.1054999977350235\n",
            "Validation loss: 3.6321988105773926\n",
            "Validation accuracy: 0.10466666519641876\n"
          ],
          "name": "stdout"
        }
      ]
    },
    {
      "cell_type": "code",
      "metadata": {
        "id": "IsDgi1iD__Tj",
        "colab_type": "code",
        "colab": {
          "base_uri": "https://localhost:8080/",
          "height": 145
        },
        "outputId": "47131ab4-0c4a-411d-f19c-d2ef939fb7a8"
      },
      "source": [
        "print(\"\\x1b[31mCnn1 model\\x1b[0m\")\n",
        "test_loss, test_accuracy = model_cnn1_aug.evaluate(x_test, y_test_categ)\n",
        "validation_loss, validation_accuracy = model_cnn1_aug.evaluate(x_val, y_val_categ)\n",
        "print(\"Test loss:\", test_loss)\n",
        "print(\"Test accuracy:\", test_accuracy)\n",
        "print(\"Validation loss:\", validation_loss)\n",
        "print(\"Validation accuracy:\",validation_accuracy)"
      ],
      "execution_count": null,
      "outputs": [
        {
          "output_type": "stream",
          "text": [
            "\u001b[31mCnn1 model\u001b[0m\n",
            "63/63 [==============================] - 0s 3ms/step - loss: 3.9087 - accuracy: 0.0735\n",
            "47/47 [==============================] - 0s 2ms/step - loss: 3.8924 - accuracy: 0.0907\n",
            "Test loss: 3.9087393283843994\n",
            "Test accuracy: 0.07349999994039536\n",
            "Validation loss: 3.8923676013946533\n",
            "Validation accuracy: 0.09066666662693024\n"
          ],
          "name": "stdout"
        }
      ]
    },
    {
      "cell_type": "code",
      "metadata": {
        "id": "m6gNHhLv__E1",
        "colab_type": "code",
        "colab": {
          "base_uri": "https://localhost:8080/",
          "height": 145
        },
        "outputId": "e4ffd376-08a4-4e11-e1b2-9edd832e49ca"
      },
      "source": [
        "print(\"\\x1b[31mCnn2 model\\x1b[0m\")\n",
        "test_loss, test_accuracy = model_cnn2_aug.evaluate(x_test, y_test_categ)\n",
        "validation_loss, validation_accuracy = model_cnn2_aug.evaluate(x_val, y_val_categ)\n",
        "print(\"Test loss:\", test_loss)\n",
        "print(\"Test accuracy:\", test_accuracy)\n",
        "print(\"Validation loss:\", validation_loss)\n",
        "print(\"Validation accuracy:\",validation_accuracy)"
      ],
      "execution_count": null,
      "outputs": [
        {
          "output_type": "stream",
          "text": [
            "\u001b[31mCnn2 model\u001b[0m\n",
            "63/63 [==============================] - 0s 8ms/step - loss: 3.1037 - accuracy: 0.1680\n",
            "47/47 [==============================] - 0s 6ms/step - loss: 3.0675 - accuracy: 0.1880\n",
            "Test loss: 3.103717803955078\n",
            "Test accuracy: 0.1679999977350235\n",
            "Validation loss: 3.067500352859497\n",
            "Validation accuracy: 0.18799999356269836\n"
          ],
          "name": "stdout"
        }
      ]
    },
    {
      "cell_type": "markdown",
      "metadata": {
        "id": "Uk1akfjzvGbu",
        "colab_type": "text"
      },
      "source": [
        "Κάνουμε τις εξής παρατηρήσεις:\n",
        "- **ΠΑΡΑΤΗΡΗΣΗ ***:  Το validation accuracy που υπολογίζει η evaluate ειναι μικρότερο από το validation accuracy που υπολογίζει η μέθοδος fit του κάθε μοντέλου στην τελευταία εποχή. Αυτό (βάσει και των  αντίστοιχων πολλαπλών threads σχετικών με το θέμα αυτό, που βρήκαμε, μετά από αναζήτηση στο διαδίκτυο, στα [keras-official-documentation-faq](https://keras.io/getting_started/faq/#why-is-my-training-loss-much-higher-than-my-testing-loss) , [αντίστοιχο github thread](https://keras.io/getting_started/faq/#why-is-my-training-loss-much-higher-than-my-testing-loss) οφείλεται στο γεγονός ότι το validation accuracy η `fit` μέθοδος κάθε μοντέλου το υπολογίζει ως το μέσο validation accuracy του μοντέλου σε κάθε batch μιας συγκεκριμένης εποχής, που προφανώς μεταβάλλεται από batch σε batch αφού μεταβάλλονται και τα βάρη του μοντέλου. Αντιθέτως, το validation accuracy που υπολογίζουμε μέσω της `evaluate` υπολογίζεται ως το accuracy του τελικού μοντέλου (δηλαδή αφού έχει τελειώσει το training της τελευταίας εποχής) σε όλο το dataset (και όχι όπως πριν σαν μέσος όρος των accuracies του μοντέλου σε κάθε batch). Επομένως, οι μέθοδοι αυτοί υπολογίζουν διαφορετικά πράγματα. Τα αποτελέσματα validation accuracy που παράγει η `fit` είναι χρήσιμα για να αξιολογήσουμε την εκπαίδευση του μοντέλου καθώς του εισάγονται περισσότερα δεδομένα. Τα αποτελέσματα validation accuracy που παράγει η `evaluate` είναι χρήσιμα για να αξιολογήσουμε τελικώς το μοντέλο σε όλο το test set. Ακόμη παρατηρούμε πως το training loss υπολογίζεται με τα Dropout layers ενεργά, ενώ όταν χρησιμοποιείται η `evaluate` προφανώς αυτά είναι παγωμένα. \n",
        "Σημειώνουμε πως βάσει του [keras-official-documentation-faq](https://keras.io/getting_started/faq/#why-is-my-training-loss-much-higher-than-my-testing-loss)\n",
        "θα έπρεπε όταν χρησιμοποιούμε μόνο ένα batch ανά εποχή και το νευρωνικό δίκτυο δεν περιλαμβάνει batch normalization/ dropout layers το validation accuracy της fit και αυτό της evaluate να είναι ίδια, κάτι που όμως δεν επαληθεύεται στην πράξη και φαίνεται να είναι κάποιο bug στην υλοποίηση της tensorflow (δείτε και αντίστοιχα threads [1](https://keras.io/getting_started/faq/#why-is-my-training-loss-much-higher-than-my-testing-loss), [2](https://github.com/keras-team/keras/issues/10014?fbclid=IwAR1bh2hUlZhYSBhd0QlBOiHs2W3G7jvkg8UEcPspKAn7VW_v3Tv7NjdR_Wk))\n",
        "- Το validation accuracy είναι ίσο ή (τις περισσότερες φορές) μεγαλύτερο από το training accuracy. Αυτό οφείλεται στα dropout layers που έχουμε εισάγει στα μοντέλα, τα οποία έχουν ως αποτέλεσμα την καλύτερη γενίκευση των μοντέλων και σε δεδομένα που δεν έχουν δει. Πιο συγκεκριμένα, ο υπολογισμός του validation accuracy γίνεται με απενεργοποιημένα τα dropout layers και επομένως παράγει πιο ομαλά και καλύτερα αποτελέσματα από αυτά στο training mode. Αντίστοιχη επίδραση θα υπήρχε αν είχαμε χρησιμοποιήσει κάποιο weight regularization.\n",
        "-  Κατά την διάρκεια του training παρατηρήσαμε καλύτερα αποτελέσματα με την χρήση των μεθόδων του Ερωτήματος 2 από ότι χωρίς. Η βελτίωση αυτή όμως δεν επαληθεύεται από το evaluation με τα test data (για περαιτέρω εξήγηση δείτε την **Παρατήρηση ***).\n",
        "\n"
      ]
    },
    {
      "cell_type": "markdown",
      "metadata": {
        "id": "C3MsOEH_xBs0",
        "colab_type": "text"
      },
      "source": [
        "## Ερώτημα 3\n",
        "\n",
        "Εφαρμόστε transfer learning για το δικό σας μοντέλο (CNN2), που αξιολογήσατε ως καλύτερο προς την ακρίβειά, στην αντιμετώπιση της υπερεκπαίδεσης. (Το καλύτερο μοντέλο που προέκυψε από το βήμα 2 του ερωτήματος 2). Για το transfer learning επιλέξτε, ένα από τα διαθέσιμα μοντέλα για μεταφορά μάθησης. "
      ]
    },
    {
      "cell_type": "markdown",
      "metadata": {
        "id": "QkGG_a3XjWBK",
        "colab_type": "text"
      },
      "source": [
        "###***Απάντηση:***\n",
        "\n",
        "Transfer Learning είναι μια τεχνική μέσω της οποίας χρησιμοποιούμε προεκπαιδευμένα μοντέλα που επιλύουν ένα πρόβλημα για την επίλυση ενός άλλου προβλήματος. Στην περίπτωση των προβλημάτων ταξινόμησης χρησιμοποιούμε προεκπαιδευμένα μοντέλα ως feauture extractors στην έξοδο των οποίων προσθέτουμε μία κεφαλή ταξινόμησης. Στην περίπτωση που τα προβλήματα είναι παρεμφερή (π.χ. ταξινόμηση ζώων-ταξινόμηση πτηνών) χρειάζεται να εκπαιεδευτεί μικρότερο μέρος του δικτύου και επομένως το feauture extractor κομμάτι του δεν μεταβάλλεται κατά την εκπαίδευση.\n",
        "\n",
        "Το transfer learning είναι ιδιαίτερα χρήσιμο, διότι με την βοήθεια του μπορούμε να επιτύχουμε καλά αποτελέσματα σε λίγο χρόνο και λίγους υπολογιστικούς πόρους (συγκριτικά με την εκπαίδευση ολόκληρου του δικτύου από την αρχή), αξιοποιώντας προεκπαιδευμένα δίκτυα. \n",
        "\n",
        "Στην εν λόγω περίπτωση γίνεται χρήση του Resnet(2015-version 2), ενός συνελικτικού δικτύου μεγάλου βάθους, το οποίο έχει ενσωματώσει batch normalization layers και είναι προεκπαιδευμένο στο imagenet, οπότε κατά συνέπεια τα προβλήματα ταξινόμησης είναι παρεμφερή. "
      ]
    },
    {
      "cell_type": "markdown",
      "metadata": {
        "id": "nYGwgftjxFcV",
        "colab_type": "text"
      },
      "source": [
        "###Βήμα 1\n",
        "\"Παγώστε\" τη συνελικτική βάση και εκπαιδεύστε την κεφαλή ταξινόμησης (classification head - σημαία trainable = False)."
      ]
    },
    {
      "cell_type": "code",
      "metadata": {
        "id": "H78UDU4GxA-t",
        "colab_type": "code",
        "colab": {
          "base_uri": "https://localhost:8080/",
          "height": 54
        },
        "outputId": "e4ce97bc-f39e-4641-f9d1-4612d8e860de"
      },
      "source": [
        "#get the pre-trained model\n",
        "pre_model = tf.keras.applications.ResNet152V2(\n",
        "    include_top=False, weights='imagenet', input_tensor=None, input_shape=(32,32,3),\n",
        "    pooling=max, classes=num_classes\n",
        ")\n",
        "pre_model.trainable=False"
      ],
      "execution_count": null,
      "outputs": [
        {
          "output_type": "stream",
          "text": [
            "Downloading data from https://storage.googleapis.com/tensorflow/keras-applications/resnet/resnet152v2_weights_tf_dim_ordering_tf_kernels_notop.h5\n",
            "234553344/234545216 [==============================] - 3s 0us/step\n"
          ],
          "name": "stdout"
        }
      ]
    },
    {
      "cell_type": "code",
      "metadata": {
        "id": "bEf-tO1oxyOC",
        "colab_type": "code",
        "colab": {
          "base_uri": "https://localhost:8080/",
          "height": 526
        },
        "outputId": "da4cfa7d-8af5-4bf9-e3f9-3b4262bafa8f"
      },
      "source": [
        "# Make full sequential model using pre-trained model and CNN2\n",
        "model_transf = models.Sequential([\n",
        "    pre_model\n",
        "])\n",
        "model_transf.add(layers.Flatten()),\n",
        "model_transf.add(layers.Dense(1024)),\n",
        "model_transf.add(tf.keras.layers.LeakyReLU()),\n",
        "model_transf.add(layers.Dropout(0.15)),\n",
        "model_transf.add(layers.Dense(200))\n",
        "model_transf.add(tf.keras.layers.LeakyReLU())\n",
        "model_transf.add(layers.Dropout(0.18))\n",
        "model_transf.add(layers.Dense(num_classes, activation='softmax'))\n",
        "model_transf.add(layers.Dropout(0.2))\n",
        "model_transf.summary()\n"
      ],
      "execution_count": null,
      "outputs": [
        {
          "output_type": "stream",
          "text": [
            "Model: \"sequential_1\"\n",
            "_________________________________________________________________\n",
            "Layer (type)                 Output Shape              Param #   \n",
            "=================================================================\n",
            "resnet152v2 (Model)          (None, 1, 1, 2048)        58331648  \n",
            "_________________________________________________________________\n",
            "flatten_1 (Flatten)          (None, 2048)              0         \n",
            "_________________________________________________________________\n",
            "dense_3 (Dense)              (None, 1024)              2098176   \n",
            "_________________________________________________________________\n",
            "leaky_re_lu_2 (LeakyReLU)    (None, 1024)              0         \n",
            "_________________________________________________________________\n",
            "dropout (Dropout)            (None, 1024)              0         \n",
            "_________________________________________________________________\n",
            "dense_4 (Dense)              (None, 200)               205000    \n",
            "_________________________________________________________________\n",
            "leaky_re_lu_3 (LeakyReLU)    (None, 200)               0         \n",
            "_________________________________________________________________\n",
            "dropout_1 (Dropout)          (None, 200)               0         \n",
            "_________________________________________________________________\n",
            "dense_5 (Dense)              (None, 20)                4020      \n",
            "_________________________________________________________________\n",
            "dropout_2 (Dropout)          (None, 20)                0         \n",
            "=================================================================\n",
            "Total params: 60,638,844\n",
            "Trainable params: 2,307,196\n",
            "Non-trainable params: 58,331,648\n",
            "_________________________________________________________________\n"
          ],
          "name": "stdout"
        }
      ]
    },
    {
      "cell_type": "code",
      "metadata": {
        "id": "1ntMPStF2CD-",
        "colab_type": "code",
        "colab": {
          "base_uri": "https://localhost:8080/",
          "height": 745
        },
        "outputId": "c427d797-8b93-48ea-cfb5-73d8a868e0bb"
      },
      "source": [
        "#define early stopping after 4 consecutive epochs with increasing loss  \n",
        "callback = tf.keras.callbacks.EarlyStopping(monitor='loss', patience=5)\n",
        "\n",
        "# define batch size\n",
        "bs = 32\n",
        "\n",
        "# fits the model on batches with real-time data augmentation\n",
        "model_transf.compile(optimizer='adam',\n",
        "                  loss='categorical_crossentropy',\n",
        "                  metrics=['accuracy'])\n",
        "\n",
        "model_transf.fit(datagen.flow(x_train, y_train_categ, batch_size=bs),\n",
        "                    steps_per_epoch=len(x_train)/bs, epochs=20,\n",
        "                     validation_data=datagen.flow(x_val, y_val_categ, batch_size=bs),\n",
        "                    validation_steps = len(x_val)/bs, callbacks=callback)\n",
        "\n",
        "model_transf.save('transf.h5')"
      ],
      "execution_count": null,
      "outputs": [
        {
          "output_type": "stream",
          "text": [
            "Epoch 1/20\n",
            "266/265 [==============================] - 11s 42ms/step - loss: 5.2815 - accuracy: 0.1944 - val_loss: 2.5833 - val_accuracy: 0.2567\n",
            "Epoch 2/20\n",
            "266/265 [==============================] - 8s 30ms/step - loss: 5.1088 - accuracy: 0.2389 - val_loss: 2.5026 - val_accuracy: 0.2673\n",
            "Epoch 3/20\n",
            "266/265 [==============================] - 8s 29ms/step - loss: 4.9026 - accuracy: 0.2560 - val_loss: 2.4942 - val_accuracy: 0.2587\n",
            "Epoch 4/20\n",
            "266/265 [==============================] - 8s 30ms/step - loss: 5.0829 - accuracy: 0.2532 - val_loss: 2.4133 - val_accuracy: 0.2767\n",
            "Epoch 5/20\n",
            "266/265 [==============================] - 8s 30ms/step - loss: 4.9990 - accuracy: 0.2698 - val_loss: 2.4366 - val_accuracy: 0.2720\n",
            "Epoch 6/20\n",
            "266/265 [==============================] - 8s 30ms/step - loss: 4.8212 - accuracy: 0.2833 - val_loss: 2.4433 - val_accuracy: 0.2887\n",
            "Epoch 7/20\n",
            "266/265 [==============================] - 8s 30ms/step - loss: 4.9401 - accuracy: 0.2779 - val_loss: 2.5052 - val_accuracy: 0.2653\n",
            "Epoch 8/20\n",
            "266/265 [==============================] - 8s 30ms/step - loss: 4.8268 - accuracy: 0.2855 - val_loss: 2.4659 - val_accuracy: 0.2940\n",
            "Epoch 9/20\n",
            "266/265 [==============================] - 8s 30ms/step - loss: 4.7867 - accuracy: 0.2852 - val_loss: 2.3671 - val_accuracy: 0.2967\n",
            "Epoch 10/20\n",
            "266/265 [==============================] - 8s 29ms/step - loss: 4.7894 - accuracy: 0.2918 - val_loss: 2.4876 - val_accuracy: 0.2820\n",
            "Epoch 11/20\n",
            "266/265 [==============================] - 8s 29ms/step - loss: 4.9217 - accuracy: 0.2945 - val_loss: 2.4011 - val_accuracy: 0.3013\n",
            "Epoch 12/20\n",
            "266/265 [==============================] - 8s 29ms/step - loss: 4.8690 - accuracy: 0.2961 - val_loss: 2.4244 - val_accuracy: 0.2927\n",
            "Epoch 13/20\n",
            "266/265 [==============================] - 8s 29ms/step - loss: 4.7905 - accuracy: 0.2986 - val_loss: 2.4190 - val_accuracy: 0.3093\n",
            "Epoch 14/20\n",
            "266/265 [==============================] - 8s 30ms/step - loss: 4.7667 - accuracy: 0.2969 - val_loss: 2.4391 - val_accuracy: 0.3120\n",
            "Epoch 15/20\n",
            "266/265 [==============================] - 8s 29ms/step - loss: 4.8888 - accuracy: 0.3005 - val_loss: 2.4700 - val_accuracy: 0.3000\n",
            "Epoch 16/20\n",
            "266/265 [==============================] - 8s 30ms/step - loss: 4.8840 - accuracy: 0.3061 - val_loss: 2.4088 - val_accuracy: 0.2853\n",
            "Epoch 17/20\n",
            "266/265 [==============================] - 8s 30ms/step - loss: 4.7262 - accuracy: 0.3098 - val_loss: 2.3766 - val_accuracy: 0.3047\n",
            "Epoch 18/20\n",
            "266/265 [==============================] - 8s 30ms/step - loss: 4.7841 - accuracy: 0.3087 - val_loss: 2.4303 - val_accuracy: 0.2947\n",
            "Epoch 19/20\n",
            "266/265 [==============================] - 8s 30ms/step - loss: 4.7133 - accuracy: 0.3082 - val_loss: 2.3620 - val_accuracy: 0.3093\n",
            "Epoch 20/20\n",
            "266/265 [==============================] - 8s 29ms/step - loss: 4.9177 - accuracy: 0.3104 - val_loss: 2.3879 - val_accuracy: 0.3073\n"
          ],
          "name": "stdout"
        }
      ]
    },
    {
      "cell_type": "markdown",
      "metadata": {
        "id": "SEp2ODNBnGhi",
        "colab_type": "text"
      },
      "source": [
        "Παρατηρούμε γρήγορη σύγκλιση στο αποτέλεσμα, το οποίο είναι αναμενόμενο εφόσον χρησιμοποιούμε προεκαπιδευμένο μοντέλο. Μάλιστα, δεδομένου του μεγέθους του δικτύου (~12 φορές μεγαλύτερο από το cnn2), η εκπαίδευση γίνεται επαρκώς γρήγορα εφόσον δεν εκπαιδεύονται τα layers της συνελικτικής βάσης.   "
      ]
    },
    {
      "cell_type": "markdown",
      "metadata": {
        "id": "KyOvzm3oWAlP",
        "colab_type": "text"
      },
      "source": [
        "### Βήμα 2\n",
        "  Εκπαιδέστε μόνο ένα ποσοστό των επιπέδων, το οποίο βρίσκεται προς την έξοδο του δικτύου. Οι σημαίες trainable εδώ θα πρέπει να οριστούν ανά επίπεδο."
      ]
    },
    {
      "cell_type": "code",
      "metadata": {
        "id": "N54rcNvlh7WL",
        "colab_type": "code",
        "colab": {
          "base_uri": "https://localhost:8080/",
          "height": 526
        },
        "outputId": "f22b9855-e3d7-4007-b718-5bbc59604200"
      },
      "source": [
        "#Make full sequential model using pre-trained model and CNN2\n",
        "model_transf_v2 = models.Sequential([\n",
        "    pre_model\n",
        "])\n",
        "model_transf_v2.add(layers.Flatten()),\n",
        "model_transf_v2.add(layers.Dense(1024)),\n",
        "model_transf_v2.add(tf.keras.layers.LeakyReLU()),\n",
        "model_transf_v2.add(layers.Dropout(0.15)),\n",
        "model_transf_v2.add(layers.Dense(200, trainable=False))\n",
        "model_transf_v2.add(tf.keras.layers.LeakyReLU())\n",
        "model_transf_v2.add(layers.Dropout(0.18))\n",
        "model_transf_v2.add(layers.Dense(num_classes, activation='softmax'))\n",
        "model_transf_v2.add(layers.Dropout(0.2))\n",
        "model_transf_v2.summary()"
      ],
      "execution_count": null,
      "outputs": [
        {
          "output_type": "stream",
          "text": [
            "Model: \"sequential_14\"\n",
            "_________________________________________________________________\n",
            "Layer (type)                 Output Shape              Param #   \n",
            "=================================================================\n",
            "resnet152v2 (Model)          (None, 1, 1, 2048)        58331648  \n",
            "_________________________________________________________________\n",
            "flatten_14 (Flatten)         (None, 2048)              0         \n",
            "_________________________________________________________________\n",
            "dense_38 (Dense)             (None, 1024)              2098176   \n",
            "_________________________________________________________________\n",
            "leaky_re_lu_22 (LeakyReLU)   (None, 1024)              0         \n",
            "_________________________________________________________________\n",
            "dropout_45 (Dropout)         (None, 1024)              0         \n",
            "_________________________________________________________________\n",
            "dense_39 (Dense)             (None, 200)               205000    \n",
            "_________________________________________________________________\n",
            "leaky_re_lu_23 (LeakyReLU)   (None, 200)               0         \n",
            "_________________________________________________________________\n",
            "dropout_46 (Dropout)         (None, 200)               0         \n",
            "_________________________________________________________________\n",
            "dense_40 (Dense)             (None, 20)                4020      \n",
            "_________________________________________________________________\n",
            "dropout_47 (Dropout)         (None, 20)                0         \n",
            "=================================================================\n",
            "Total params: 60,638,844\n",
            "Trainable params: 2,102,196\n",
            "Non-trainable params: 58,536,648\n",
            "_________________________________________________________________\n"
          ],
          "name": "stdout"
        }
      ]
    },
    {
      "cell_type": "code",
      "metadata": {
        "id": "OreqioZnwdgI",
        "colab_type": "code",
        "colab": {}
      },
      "source": [
        "# use pretrained weights from portion of cnn2 classification layers  \n",
        "weights = model_cnn2_aug.layers[-5].get_weights()  \n",
        "model_transf_v2.layers[5].set_weights(weights)"
      ],
      "execution_count": null,
      "outputs": []
    },
    {
      "cell_type": "code",
      "metadata": {
        "id": "XSlcHqWNiZtC",
        "colab_type": "code",
        "colab": {
          "base_uri": "https://localhost:8080/",
          "height": 635
        },
        "outputId": "56da88dc-de09-472d-85cd-a8b1ef8cf965"
      },
      "source": [
        "#define early stopping after 4 consecutive epochs with increasing loss  \n",
        "callback = tf.keras.callbacks.EarlyStopping(monitor='loss', patience=5)\n",
        "\n",
        "# define batch size\n",
        "bs = 32\n",
        "\n",
        "# fits the model on batches with real-time data augmentation\n",
        "model_transf_v2.compile(optimizer='adam',\n",
        "                  loss='categorical_crossentropy',\n",
        "                  metrics=['accuracy'])\n",
        "\n",
        "model_transf_v2.fit(datagen.flow(x_train, y_train_categ, batch_size=bs),\n",
        "                    steps_per_epoch=len(x_train)/bs, epochs=20,\n",
        "                     validation_data=datagen.flow(x_val, y_val_categ, batch_size=bs),\n",
        "                    validation_steps = len(x_val)/bs, callbacks=callback)\n",
        "\n",
        "model_transf_v2.save('transf_v2.h5')"
      ],
      "execution_count": null,
      "outputs": [
        {
          "output_type": "stream",
          "text": [
            "Epoch 1/20\n",
            "266/265 [==============================] - 11s 40ms/step - loss: 5.2535 - accuracy: 0.1893 - val_loss: 2.5127 - val_accuracy: 0.2640\n",
            "Epoch 2/20\n",
            "266/265 [==============================] - 8s 30ms/step - loss: 4.9383 - accuracy: 0.2418 - val_loss: 2.4504 - val_accuracy: 0.2780\n",
            "Epoch 3/20\n",
            "266/265 [==============================] - 8s 30ms/step - loss: 5.0089 - accuracy: 0.2622 - val_loss: 2.4028 - val_accuracy: 0.2767\n",
            "Epoch 4/20\n",
            "266/265 [==============================] - 8s 31ms/step - loss: 4.8976 - accuracy: 0.2784 - val_loss: 2.3917 - val_accuracy: 0.2973\n",
            "Epoch 5/20\n",
            "266/265 [==============================] - 8s 31ms/step - loss: 4.8085 - accuracy: 0.2880 - val_loss: 2.3627 - val_accuracy: 0.2980\n",
            "Epoch 6/20\n",
            "266/265 [==============================] - 8s 30ms/step - loss: 4.9433 - accuracy: 0.2864 - val_loss: 2.3640 - val_accuracy: 0.3067\n",
            "Epoch 7/20\n",
            "266/265 [==============================] - 8s 30ms/step - loss: 5.0165 - accuracy: 0.2838 - val_loss: 2.3853 - val_accuracy: 0.3047\n",
            "Epoch 8/20\n",
            "266/265 [==============================] - 8s 30ms/step - loss: 4.7994 - accuracy: 0.2987 - val_loss: 2.3575 - val_accuracy: 0.2980\n",
            "Epoch 9/20\n",
            "266/265 [==============================] - 8s 31ms/step - loss: 4.7246 - accuracy: 0.3096 - val_loss: 2.4242 - val_accuracy: 0.3020\n",
            "Epoch 10/20\n",
            "266/265 [==============================] - 8s 31ms/step - loss: 4.6802 - accuracy: 0.3038 - val_loss: 2.3455 - val_accuracy: 0.3147\n",
            "Epoch 11/20\n",
            "266/265 [==============================] - 8s 30ms/step - loss: 4.7505 - accuracy: 0.3087 - val_loss: 2.3736 - val_accuracy: 0.3080\n",
            "Epoch 12/20\n",
            "266/265 [==============================] - 8s 30ms/step - loss: 4.6415 - accuracy: 0.3132 - val_loss: 2.3739 - val_accuracy: 0.3120\n",
            "Epoch 13/20\n",
            "266/265 [==============================] - 8s 30ms/step - loss: 4.8237 - accuracy: 0.3028 - val_loss: 2.3387 - val_accuracy: 0.3167\n",
            "Epoch 14/20\n",
            "266/265 [==============================] - 8s 30ms/step - loss: 4.7845 - accuracy: 0.3144 - val_loss: 2.3822 - val_accuracy: 0.2940\n",
            "Epoch 15/20\n",
            "266/265 [==============================] - 8s 30ms/step - loss: 4.8424 - accuracy: 0.3126 - val_loss: 2.3256 - val_accuracy: 0.3147\n",
            "Epoch 16/20\n",
            "266/265 [==============================] - 8s 31ms/step - loss: 4.8085 - accuracy: 0.3132 - val_loss: 2.3892 - val_accuracy: 0.3087\n",
            "Epoch 17/20\n",
            "266/265 [==============================] - 8s 30ms/step - loss: 4.9272 - accuracy: 0.3126 - val_loss: 2.3918 - val_accuracy: 0.3020\n"
          ],
          "name": "stdout"
        }
      ]
    },
    {
      "cell_type": "markdown",
      "metadata": {
        "id": "-3Q6p4nQoeiM",
        "colab_type": "text"
      },
      "source": [
        "Συγκριτικά με το Βήμα 1 παρατηρούμε πιο γρήγορη σύγκλιση και ελάχιστα καλύτερα αποτελέσματα. Αυτό συμβαίνει διότι πρακτικά εκπαιδεύεται μόνο το τελικό layer ταξινόμησης, το οποίο στην ουσία διεξάγει την κατηγοριοποίηση στον ζητούμενο αριθμό κλάσεων, ενώ συγχρόνως γίνεται χρήση των πρότερα υπολογισμένων βαρών για το dense layer, γεγονός το οποίο φαίνεται να επιδρά θετικά. Ωστόσο, το θεωρητικά αναμενόμενο αποτέλεσμα θα ήταν κάποια πτώση στην παρατηρούμενη ακριβεία, εφόσον εκπαιδεύται μικρότερο τμήμα του δικτύου. Επομένως, μπορεί κανείς να διαπιστώσει την μεγάλη επίδραση στο τελικό αποτέλεσμα που ασκούν τα dropout layers και κυρίως η τυχαιότητα με την οποία μηδενίζουν ποσοστό των νευρώνων στο εκάστοτε εφαρμοζόμενο layer. "
      ]
    },
    {
      "cell_type": "markdown",
      "metadata": {
        "id": "A9HzrzuaWE4u",
        "colab_type": "text"
      },
      "source": [
        "### Βήμα 3 \n",
        "Αξιολογήστε τα αποτελέσματά σας, βάσει της ακρίβειας του validation set και του test set σας, για τα προηγούμενα βήματα του Ερωτήματος 3 "
      ]
    },
    {
      "cell_type": "code",
      "metadata": {
        "id": "GEad8cGi9A03",
        "colab_type": "code",
        "colab": {
          "base_uri": "https://localhost:8080/",
          "height": 145
        },
        "outputId": "1f85d841-2b7b-4670-ff02-f977f4bd5f26"
      },
      "source": [
        "print(\"\\x1b[31mTranfer Learning model-step 1\\x1b[0m\")\n",
        "test_loss, test_accuracy = model_transf.evaluate(x_test, y_test_categ)\n",
        "validation_loss, validation_accuracy = model_transf.evaluate(x_val, y_val_categ)\n",
        "print(\"Test loss:\", test_loss)\n",
        "print(\"Test accuracy:\", test_accuracy)\n",
        "print(\"Validation loss:\", validation_loss)\n",
        "print(\"Validation accuracy:\",validation_accuracy)"
      ],
      "execution_count": null,
      "outputs": [
        {
          "output_type": "stream",
          "text": [
            "\u001b[31mTranfer Learning model-step 1\u001b[0m\n",
            "63/63 [==============================] - 2s 31ms/step - loss: 2.9995 - accuracy: 0.1400\n",
            "47/47 [==============================] - 1s 22ms/step - loss: 2.9832 - accuracy: 0.1400\n",
            "Test loss: 2.9994654655456543\n",
            "Test accuracy: 0.14000000059604645\n",
            "Validation loss: 2.983194589614868\n",
            "Validation accuracy: 0.14000000059604645\n"
          ],
          "name": "stdout"
        }
      ]
    },
    {
      "cell_type": "code",
      "metadata": {
        "id": "nwpcCk4FinEI",
        "colab_type": "code",
        "colab": {
          "base_uri": "https://localhost:8080/",
          "height": 145
        },
        "outputId": "45d29e3e-dcdd-4d32-edea-a6d460740ffa"
      },
      "source": [
        "print(\"\\x1b[31mTranfer Learning model-step 2\\x1b[0m\")\n",
        "test_loss, test_accuracy = model_transf_v2.evaluate(x_test, y_test_categ)\n",
        "validation_loss, validation_accuracy = model_transf_v2.evaluate(x_val, y_val_categ)\n",
        "print(\"Test loss:\", test_loss)\n",
        "print(\"Test accuracy:\", test_accuracy)\n",
        "print(\"Validation loss:\", validation_loss)\n",
        "print(\"Validation accuracy:\",validation_accuracy)"
      ],
      "execution_count": null,
      "outputs": [
        {
          "output_type": "stream",
          "text": [
            "\u001b[31mTranfer Learning model-step 2\u001b[0m\n",
            "63/63 [==============================] - 2s 25ms/step - loss: 2.9079 - accuracy: 0.1545\n",
            "47/47 [==============================] - 1s 22ms/step - loss: 2.9023 - accuracy: 0.1513\n",
            "Test loss: 2.9078524112701416\n",
            "Test accuracy: 0.15449999272823334\n",
            "Validation loss: 2.9022977352142334\n",
            "Validation accuracy: 0.15133333206176758\n"
          ],
          "name": "stdout"
        }
      ]
    },
    {
      "cell_type": "markdown",
      "metadata": {
        "id": "tx05ALRx0VFs",
        "colab_type": "text"
      },
      "source": [
        "Παρατηρούμε ότι και για το test accuracy ισχύει ότι ισχύει και για το validation accuracy, συγκριτικά για το Βήμα 1 και 2. Ακόμη παρατηρούμε διαφοροποίηση ως προς το validation accuracy που υπολογίζει η fit σε σχέση με αυτό που υπολογίζει η evaluate (για περισσότερες λεπτομέρειες δείτε την **ΠΑΡΑΤΗΡΗΣΗ ***)"
      ]
    }
  ]
}